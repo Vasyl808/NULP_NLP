{
  "nbformat": 4,
  "nbformat_minor": 0,
  "metadata": {
    "kernelspec": {
      "display_name": "Python 3",
      "language": "python",
      "name": "python3"
    },
    "language_info": {
      "codemirror_mode": {
        "name": "ipython",
        "version": 3
      },
      "file_extension": ".py",
      "mimetype": "text/x-python",
      "name": "python",
      "nbconvert_exporter": "python",
      "pygments_lexer": "ipython3",
      "version": "3.7.6"
    },
    "colab": {
      "provenance": [],
      "collapsed_sections": [
        "6bLSgXhBp_ik",
        "0qdP0X3Op_il",
        "0HMdK4nwp_in",
        "Q_5QUDc8p_io",
        "JWyNFYd7p_iq",
        "bnj-EyYPp_ir",
        "TDcdMxXLp_iu",
        "xORrcb8ap_iv",
        "XzQ3Q5Trp_iv",
        "oZGXRCNrlBde"
      ],
      "include_colab_link": true
    }
  },
  "cells": [
    {
      "cell_type": "markdown",
      "metadata": {
        "id": "view-in-github",
        "colab_type": "text"
      },
      "source": [
        "<a href=\"https://colab.research.google.com/github/Vasyl808/NULP_NLP/blob/main/LPNLP_Workbook_2_Exploring_word_embeddings_(2024).ipynb\" target=\"_parent\"><img src=\"https://colab.research.google.com/assets/colab-badge.svg\" alt=\"Open In Colab\"/></a>"
      ]
    },
    {
      "cell_type": "markdown",
      "metadata": {
        "id": "eiiDM1V8p_iX"
      },
      "source": [
        "# Workbook 02: Exploring word embeddings\n",
        "\n",
        "В цій лабораторній ми детальніше розберемося з векторним представленням слів (word embeddings), а саме:\n",
        "\n",
        "- Завантажимо вектори GloVe\n",
        "- Перевіримо цікаві властивості цих векторів\n",
        "\n",
        "У вас буде кілька завдань. Відповіді на завдання відправляють функції `lab.checkpoint()` та `lab.answer()`.\n",
        "\n",
        "Для початку, заповніть параметр `email` нижче:"
      ]
    },
    {
      "cell_type": "code",
      "source": [
        "!pip install --quiet --ignore-installed http://nlp.band/static/pypy/lpnlp-2023.10.2-py3-none-any.whl"
      ],
      "metadata": {
        "id": "zBBM2S6_jI8r"
      },
      "execution_count": null,
      "outputs": []
    },
    {
      "cell_type": "code",
      "metadata": {
        "id": "udSrPPaHp_id",
        "colab": {
          "base_uri": "https://localhost:8080/"
        },
        "outputId": "3981ac85-ccd6-4eb5-ef03-98c3e29a632f"
      },
      "source": [
        "import lpnlp\n",
        "lab = lpnlp.start(\n",
        "    email=\"vasyl.hunia.kn.2021@lpnu.ua\",  # <---------------------- Заповніть це поле\n",
        "    lab=\"exploring_word_embeddings\",\n",
        "    )\n"
      ],
      "execution_count": null,
      "outputs": [
        {
          "output_type": "stream",
          "name": "stdout",
          "text": [
            "Удачі!\n"
          ]
        }
      ]
    },
    {
      "cell_type": "markdown",
      "metadata": {
        "id": "tdb5yxDGp_ig"
      },
      "source": [
        "# GloVe"
      ]
    },
    {
      "cell_type": "code",
      "metadata": {
        "collapsed": true,
        "id": "ZQ5JifvDp_ig",
        "outputId": "4ff223a0-64e7-4c71-ee98-e90f33f2cf67",
        "colab": {
          "base_uri": "https://localhost:8080/"
        }
      },
      "source": [
        "!pip install gensim"
      ],
      "execution_count": null,
      "outputs": [
        {
          "output_type": "stream",
          "name": "stdout",
          "text": [
            "Requirement already satisfied: gensim in /usr/local/lib/python3.10/dist-packages (4.3.3)\n",
            "Requirement already satisfied: numpy<2.0,>=1.18.5 in /usr/local/lib/python3.10/dist-packages (from gensim) (1.26.4)\n",
            "Requirement already satisfied: scipy<1.14.0,>=1.7.0 in /usr/local/lib/python3.10/dist-packages (from gensim) (1.13.1)\n",
            "Requirement already satisfied: smart-open>=1.8.1 in /usr/local/lib/python3.10/dist-packages (from gensim) (7.0.4)\n",
            "Requirement already satisfied: wrapt in /usr/local/lib/python3.10/dist-packages (from smart-open>=1.8.1->gensim) (1.16.0)\n"
          ]
        }
      ]
    },
    {
      "cell_type": "markdown",
      "metadata": {
        "id": "KESE75BDp_ih"
      },
      "source": [
        "Повний GloVe містить 4,000,000 векторів і займає багато пам'яті. Щоб уникнути проблем з пам'ятю, залишимо лише 50,000 векторів найчастотніших слів. Це трохи знизить якість моделей, але це зараз не головне."
      ]
    },
    {
      "cell_type": "code",
      "metadata": {
        "id": "rSPkhqoep_ih"
      },
      "source": [
        "import gensim.downloader\n",
        "from gensim.models import KeyedVectors\n",
        "import tqdm\n",
        "\n",
        "\n",
        "# Ця функція завантажить повний набір GloVe векторів та залишить `max_n` з них\n",
        "def load_glove_subset(max_n: int) -> KeyedVectors:\n",
        "    \"\"\"Return top `max_n` word vectors. \"\"\"\n",
        "    all_glove = gensim.downloader.load(\"glove-wiki-gigaword-200\")\n",
        "    subset = KeyedVectors(all_glove.vector_size)\n",
        "    for word in tqdm.tqdm(all_glove.vocab, total=max_n):\n",
        "        if len(subset.vectors) >= max_n:\n",
        "            break\n",
        "        subset.add(word, all_glove[word])\n",
        "    return subset\n",
        "\n",
        "# Цей виклик може зайняти хвилин 5-6, тож ми завантажимо вже готові 50k векторів\n",
        "# glove = load_glove_subset(50_000)\n",
        "glove = KeyedVectors.load(\"http://nlp.band/static/files/glove-50k.bin\")"
      ],
      "execution_count": null,
      "outputs": []
    },
    {
      "cell_type": "code",
      "metadata": {
        "id": "YuDtSmvUp_ih",
        "colab": {
          "base_uri": "https://localhost:8080/"
        },
        "outputId": "d716f8a7-d294-4698-fbc7-db0ee762ad24"
      },
      "source": [
        "lab.checkpoint(\"glove subset size\", len(glove.key_to_index))"
      ],
      "execution_count": null,
      "outputs": [
        {
          "output_type": "execute_result",
          "data": {
            "text/plain": [
              "50000"
            ]
          },
          "metadata": {},
          "execution_count": 5
        }
      ]
    },
    {
      "cell_type": "markdown",
      "metadata": {
        "id": "tF-kK2QNp_ii"
      },
      "source": [
        "Об'єкт `glove` може працювати як звичайний словник (`dict`), ключами якого є токени, а значеннями - вектори слів. Вектори, які ми завантажили, були натреновані на lower-cased текстах, тож і шукати вектори треба для слів у нижньому регістрі.\n",
        "\n",
        "Подивимося, як виглядає вектор слова \"ukraine\":"
      ]
    },
    {
      "cell_type": "code",
      "metadata": {
        "id": "r4BB69fpp_ii",
        "outputId": "06ef89bd-048a-4e16-8cae-3c37886a0186",
        "colab": {
          "base_uri": "https://localhost:8080/"
        }
      },
      "source": [
        "glove[\"ukraine\"]"
      ],
      "execution_count": null,
      "outputs": [
        {
          "output_type": "execute_result",
          "data": {
            "text/plain": [
              "array([-2.9835e-01,  2.0119e-01,  1.0576e+00, -3.0105e-01, -4.6139e-01,\n",
              "       -2.3603e-02,  7.0583e-01,  2.5945e-01,  2.8852e-01,  5.5536e-01,\n",
              "       -4.9120e-01,  2.6961e-01, -2.4428e-02, -2.1458e-02,  1.1455e+00,\n",
              "        6.8221e-01, -2.9128e-01, -2.2623e-01, -2.0675e-01,  1.3855e-01,\n",
              "       -1.8925e-01,  2.3665e+00, -9.9162e-01, -2.4470e-01,  2.4622e-01,\n",
              "       -1.1827e-01,  3.8615e-01, -2.6921e-01, -3.8376e-02, -5.2927e-01,\n",
              "       -8.2827e-02, -2.8802e-01, -4.3625e-01, -2.1721e-01, -9.3741e-01,\n",
              "        4.2792e-01, -8.3241e-01, -3.7487e-02, -5.8459e-01, -5.4755e-01,\n",
              "       -5.6027e-01,  1.8893e-01,  1.4222e-01,  2.0484e-01,  2.0384e-01,\n",
              "       -3.7074e-01,  4.3972e-01, -3.4872e-01,  1.2722e-01, -4.1341e-01,\n",
              "        7.1163e-01, -6.5506e-01, -4.4388e-01,  1.9223e-01, -3.9496e-01,\n",
              "       -6.6644e-01, -5.9630e-01, -7.9109e-02,  5.3330e-01,  9.3981e-01,\n",
              "       -7.1796e-01,  5.0569e-01,  6.4526e-01, -2.6927e-01,  3.8530e-01,\n",
              "        5.5825e-01,  6.5299e-02,  3.5928e-01,  2.3044e-01, -2.3363e-01,\n",
              "       -3.4764e-01, -2.6259e-01, -3.5650e-01,  8.7308e-02,  6.3534e-03,\n",
              "        8.7591e-01,  9.6984e-01,  2.8882e-01,  2.2812e-01, -7.4721e-01,\n",
              "        3.5001e-01,  6.5224e-02,  7.2988e-02,  1.5855e-01,  1.0770e-01,\n",
              "        3.2646e-01,  1.2247e+00,  3.6862e-01,  9.3199e-03,  1.0328e+00,\n",
              "       -5.6262e-01, -6.0122e-01, -6.4004e-01,  8.4209e-02,  1.1252e-01,\n",
              "       -4.1762e-01,  2.4943e-01,  6.5349e-01, -3.3857e-01, -8.9108e-01,\n",
              "       -1.6143e-01,  1.5234e-01,  3.8019e-01, -2.2463e-01,  5.3187e-01,\n",
              "        2.0275e-01,  7.4827e-01,  2.1269e-03,  6.8026e-02,  4.9344e-01,\n",
              "       -5.6646e-02,  6.3483e-02,  1.5148e-01,  5.3305e-02, -8.6552e-02,\n",
              "       -3.0694e-01, -8.3492e-01,  2.0098e-01,  2.4859e-01,  3.8784e-01,\n",
              "        3.4552e-02,  3.3257e-01,  7.4707e-01,  3.8321e-02,  2.0577e-01,\n",
              "       -2.7564e-01, -1.2181e-01, -8.7897e-01, -6.5607e-01, -2.4257e-03,\n",
              "       -4.6293e-01,  1.8553e-01, -3.4278e-01, -1.2678e-02,  5.2719e-02,\n",
              "        9.3471e-01,  5.3082e-01, -3.9921e-01,  5.6133e-02, -2.4430e-01,\n",
              "       -5.7601e-02,  2.1594e-01,  1.6733e-01,  4.7893e-01,  1.2833e+00,\n",
              "        1.4757e-01, -1.0047e+00, -4.5096e-01, -3.5147e-01,  1.0449e-01,\n",
              "       -4.2504e-01, -4.2430e-01,  1.3246e+00, -2.0544e-01, -4.0672e-01,\n",
              "       -4.3736e-01, -7.5699e-01, -1.9572e-01,  2.4839e-01,  2.3417e-01,\n",
              "       -3.0520e-03, -3.8317e-02, -1.4994e-01,  5.5187e-01, -1.3833e-02,\n",
              "       -8.7009e-01,  7.1977e-02, -3.7050e-01,  4.2174e-01,  3.9286e-01,\n",
              "       -1.8223e-01,  1.6104e-02, -9.0028e-02, -4.1523e-01,  7.9170e-01,\n",
              "        2.3045e-01, -2.1922e-01, -8.2521e-02,  3.4879e-01, -6.8577e-02,\n",
              "        1.2721e+00, -9.0795e-01, -3.5047e-01,  5.7275e-01,  3.7799e-02,\n",
              "       -1.4918e-01,  5.1037e-01,  7.9989e-01,  3.6941e-01, -2.8492e-01,\n",
              "        2.4037e-01,  5.7408e-01, -1.4284e+00,  5.0285e-01, -6.3008e-02,\n",
              "        4.6877e-01,  2.7331e-01, -4.2540e-01, -9.2404e-02,  4.0136e-01],\n",
              "      dtype=float32)"
            ]
          },
          "metadata": {},
          "execution_count": 8
        }
      ]
    },
    {
      "cell_type": "markdown",
      "metadata": {
        "id": "klYwg9-zysid"
      },
      "source": [
        "### Завдання\n",
        "\n",
        "Знайдіть кількість та середнє значення (mean) елементів вектора слова \"ukraine\""
      ]
    },
    {
      "cell_type": "code",
      "metadata": {
        "collapsed": true,
        "id": "4qgn5fNap_ij",
        "outputId": "60e89344-b2a3-452a-8044-ca166b99d9d8",
        "colab": {
          "base_uri": "https://localhost:8080/",
          "height": 36
        }
      },
      "source": [
        "##########################\n",
        "# ВАШ КОД ТУТ:\n",
        "size_v_ukraine = int(glove[\"ukraine\"].shape[0])\n",
        "mean_v_ukraine = glove[\"ukraine\"].mean()\n",
        "##########################\n",
        "lab.checkpoint(\"size of 'ukraine'\", size_v_ukraine)\n",
        "lab.checkpoint(\"mean of 'ukraine'\", mean_v_ukraine)"
      ],
      "execution_count": null,
      "outputs": [
        {
          "output_type": "execute_result",
          "data": {
            "text/plain": [
              "'0.03348933'"
            ],
            "application/vnd.google.colaboratory.intrinsic+json": {
              "type": "string"
            }
          },
          "metadata": {},
          "execution_count": 15
        }
      ]
    },
    {
      "cell_type": "markdown",
      "metadata": {
        "id": "NvJrv3Spy9YG"
      },
      "source": [
        "# Подібність слів"
      ]
    },
    {
      "cell_type": "markdown",
      "metadata": {
        "id": "M91XgJEYp_ij"
      },
      "source": [
        "### Косинус подібності (cosine similarity)\n",
        "\n",
        "Дуже часто метрикою близькості двох векторів слугує косинус подібності (cosine similarity). Косинус кута між двома векторами буде дорівнювати 1, коли напрями векторів точно збігаються. Для ортогональних векторів косинус дорівнює 0, а для протилежних -1.\n",
        "\n",
        "Косинус кута можна порахувати через векторний добуток:\n",
        "\n",
        "$$ \\text{similarity}(p, q) = \\cos {\\theta} = \\frac {p \\cdot q} {|p| |q|} $$\n",
        "\n",
        "$|x|$ означає довжину вектора $x$:\n",
        "\n",
        "$$|x| = \\sqrt {x ^ 2} $$"
      ]
    },
    {
      "cell_type": "markdown",
      "metadata": {
        "id": "5KQJVzahxVVb"
      },
      "source": [
        "### Завдання\n",
        "\n",
        "Напишіть функцію обчислення cosine similarity"
      ]
    },
    {
      "cell_type": "code",
      "metadata": {
        "id": "5rLfn04_p_ij",
        "outputId": "03410e3b-e545-46b1-c225-e4638fb9c0ed",
        "colab": {
          "base_uri": "https://localhost:8080/"
        }
      },
      "source": [
        "import numpy as np\n",
        "from math import isclose\n",
        "\n",
        "def normalize(v):\n",
        "    return v / np.sqrt(v @ v)\n",
        "\n",
        "def cosine_similarity(v1: np.ndarray, v2: np.ndarray) -> float:\n",
        "    ###########################\n",
        "    # Ваш код\n",
        "    ###########################\n",
        "    similarity = float(np.dot(normalize(v1), normalize(v2)))\n",
        "    return similarity\n",
        "\n",
        "# Знайдіть косинус подібності слів \"apple\" та \"google\"\n",
        "cos_0 = cosine_similarity(glove[\"apple\"], glove[\"google\"])\n",
        "assert isinstance(cos_0, float)\n",
        "lab.checkpoint(\"cosine similarity between 'apple' and 'google'\", float(cos_0))"
      ],
      "execution_count": null,
      "outputs": [
        {
          "output_type": "stream",
          "name": "stdout",
          "text": [
            "Відповідь правильна ✅\n",
            "Так, вірно! 💪\n"
          ]
        },
        {
          "output_type": "execute_result",
          "data": {
            "text/plain": [
              "0.5554561018943787"
            ]
          },
          "metadata": {},
          "execution_count": 37
        }
      ]
    },
    {
      "cell_type": "markdown",
      "metadata": {
        "id": "6bLSgXhBp_ik"
      },
      "source": [
        "### Завдання\n",
        "\n",
        "Знайти подібність словa \"awesome\" до слів \"amazing\", great\" та \"bad\""
      ]
    },
    {
      "cell_type": "code",
      "metadata": {
        "id": "UoDFdtEsp_ik",
        "outputId": "8e0d6920-8016-4cb5-a705-0d13ed414075",
        "colab": {
          "base_uri": "https://localhost:8080/"
        }
      },
      "source": [
        "cos_1 = cosine_similarity(glove['awesome'], glove['amazing'])\n",
        "lab.checkpoint(\"cosine_similarity between 'awesome' and 'amazing'\", cos_1)"
      ],
      "execution_count": null,
      "outputs": [
        {
          "output_type": "execute_result",
          "data": {
            "text/plain": [
              "0.6967080235481262"
            ]
          },
          "metadata": {},
          "execution_count": 40
        }
      ]
    },
    {
      "cell_type": "code",
      "metadata": {
        "id": "cyKNoP0vp_ik",
        "outputId": "a1c9c634-8304-4ddd-845b-ef9be2735867",
        "colab": {
          "base_uri": "https://localhost:8080/"
        }
      },
      "source": [
        "cos_2 = cosine_similarity(glove['awesome'], glove['great'])\n",
        "lab.checkpoint(\"cosine_similarity between 'awesome' and 'great'\", cos_2)"
      ],
      "execution_count": null,
      "outputs": [
        {
          "output_type": "execute_result",
          "data": {
            "text/plain": [
              "0.45695698261260986"
            ]
          },
          "metadata": {},
          "execution_count": 41
        }
      ]
    },
    {
      "cell_type": "code",
      "metadata": {
        "id": "GhceuIigp_il",
        "outputId": "f56f6b0c-f75f-4fc2-941e-c93013978798",
        "colab": {
          "base_uri": "https://localhost:8080/"
        }
      },
      "source": [
        "cos_3 = cosine_similarity(glove['awesome'], glove['bad'])\n",
        "lab.checkpoint(\"cosine_similarity between 'awesome' and 'bad'\", cos_3)"
      ],
      "execution_count": null,
      "outputs": [
        {
          "output_type": "execute_result",
          "data": {
            "text/plain": [
              "0.3114391565322876"
            ]
          },
          "metadata": {},
          "execution_count": 42
        }
      ]
    },
    {
      "cell_type": "markdown",
      "metadata": {
        "id": "0qdP0X3Op_il"
      },
      "source": [
        "## Пошук подібних слів\n",
        "\n",
        "Завдяки векторному представленню, ми можемо уявляти собі слова точками в багатовимірному просторі. Близькі за семантикою (змістом) або морфологією (як одиниці мови) слова будуть відповідати близькими між собою точками.\n",
        "\n",
        "Атож, найближчі сусіди слова будуть або синонимами, або антонімами, або виконувати ту саму роль в реченні.\n",
        "\n",
        "Як знайти сусідів вектора певного слова? Наївне рішення — перебрати всі вектори і обчислити відстань до кожного з них. Для великих словників це може зайняти багато часу. Для великих словників або коли необхідно робити багато запитів, використовують методи приблизного пошуку векторів, такі як LSH або [faiss](https://github.com/facebookresearch/faiss). Ці методи попередньо будують індекси для векторів, які дозволяють здійснювати пошук подібних векторів дуже швидко (і з маленькою, але ненульовою ймовірністю пропускати деяких сусідів)\n",
        "\n",
        "Оскільки наш словник є дуже невеликим (50 тисяч токенів), то можемо дозволити собі наївне рішення."
      ]
    },
    {
      "cell_type": "code",
      "metadata": {
        "id": "NukM7Ssnp_il",
        "outputId": "6314d9c5-5280-4804-a28e-6289924417e3",
        "colab": {
          "base_uri": "https://localhost:8080/"
        }
      },
      "source": [
        "from typing import List, Tuple\n",
        "\n",
        "def find_similar(word: str , top_n: int = 10) -> List[Tuple[float, str]]:\n",
        "    \"\"\"Повертає `top_n` сусідів слова `word` разом з подібністю.\n",
        "\n",
        "    Returns:\n",
        "        list of (similarity, word) tuples.\n",
        "    \"\"\"\n",
        "    # Рахуємо подібність вектора слова `word` з кожним іншим словом\n",
        "    # Словник всіх слів міститься в `glove.vocab`\n",
        "\n",
        "    ################### ВАШ КОД ТУТ\n",
        "    list_of_similarity: List[Tuple[float, str]] = [\n",
        "        (cosine_similarity(glove[word], glove[element]), element)\n",
        "        for element in glove.index_to_key\n",
        "        if element != word\n",
        "    ]\n",
        "\n",
        "    result = sorted(\n",
        "        list_of_similarity,\n",
        "        key = lambda x : x[0],\n",
        "        reverse=True\n",
        "    )[:top_n]\n",
        "    ###############################\n",
        "\n",
        "    return result\n",
        "\n",
        "\n",
        "find_similar(\"awesome\")"
      ],
      "execution_count": null,
      "outputs": [
        {
          "output_type": "execute_result",
          "data": {
            "text/plain": [
              "[(0.7240041494369507, 'unbelievable'),\n",
              " (0.7075759172439575, 'incredible'),\n",
              " (0.6967080235481262, 'amazing'),\n",
              " (0.6145412921905518, 'fantastic'),\n",
              " (0.6071451306343079, 'terrific'),\n",
              " (0.5814316868782043, 'marvelous'),\n",
              " (0.5781935453414917, 'awful'),\n",
              " (0.5776978135108948, 'wonderful'),\n",
              " (0.5741086602210999, 'phenomenal'),\n",
              " (0.5519749522209167, 'tremendous')]"
            ]
          },
          "metadata": {},
          "execution_count": 74
        }
      ]
    },
    {
      "cell_type": "code",
      "metadata": {
        "id": "UgMfEejrp_im"
      },
      "source": [],
      "execution_count": null,
      "outputs": []
    },
    {
      "cell_type": "code",
      "source": [
        "find_similar(\"awful\")"
      ],
      "metadata": {
        "id": "rGWl20KUrs8K",
        "outputId": "16b99903-dbcc-4e93-bcba-498c1e9c7c08",
        "colab": {
          "base_uri": "https://localhost:8080/"
        }
      },
      "execution_count": null,
      "outputs": [
        {
          "output_type": "execute_result",
          "data": {
            "text/plain": [
              "[(0.8684825897216797, 'horrible'),\n",
              " (0.8322069644927979, 'terrible'),\n",
              " (0.7476429343223572, 'dreadful'),\n",
              " (0.6913045644760132, 'unbelievable'),\n",
              " (0.6799401044845581, 'horrendous'),\n",
              " (0.6458765864372253, 'appalling'),\n",
              " (0.6423128843307495, 'really'),\n",
              " (0.6418579816818237, 'bad'),\n",
              " (0.6389516592025757, 'horrifying'),\n",
              " (0.6362232565879822, 'thing')]"
            ]
          },
          "metadata": {},
          "execution_count": 75
        }
      ]
    },
    {
      "cell_type": "code",
      "metadata": {
        "id": "DFo9LnZFp_im",
        "outputId": "12235758-da84-443c-cb20-3bbe61cfbe98",
        "colab": {
          "base_uri": "https://localhost:8080/"
        }
      },
      "source": [
        "find_similar(\"green\")"
      ],
      "execution_count": null,
      "outputs": [
        {
          "output_type": "execute_result",
          "data": {
            "text/plain": [
              "[(0.6953294277191162, 'red'),\n",
              " (0.6699603796005249, 'yellow'),\n",
              " (0.6597475409507751, 'blue'),\n",
              " (0.6384711861610413, 'brown'),\n",
              " (0.6299036145210266, 'orange'),\n",
              " (0.6277689933776855, 'purple'),\n",
              " (0.6158420443534851, 'bright'),\n",
              " (0.6116896867752075, 'black'),\n",
              " (0.585483968257904, 'pink'),\n",
              " (0.5821937918663025, 'white')]"
            ]
          },
          "metadata": {},
          "execution_count": 76
        }
      ]
    },
    {
      "cell_type": "code",
      "source": [
        "lab.checkpoint(\"most similar to 'green'\", find_similar(\"green\")[0][1])"
      ],
      "metadata": {
        "id": "rSerrJMyry4-",
        "outputId": "95627a99-0e6d-433c-9a51-fe8b39b236b3",
        "colab": {
          "base_uri": "https://localhost:8080/",
          "height": 36
        }
      },
      "execution_count": null,
      "outputs": [
        {
          "output_type": "execute_result",
          "data": {
            "text/plain": [
              "'red'"
            ],
            "application/vnd.google.colaboratory.intrinsic+json": {
              "type": "string"
            }
          },
          "metadata": {},
          "execution_count": 77
        }
      ]
    },
    {
      "cell_type": "markdown",
      "metadata": {
        "id": "DeofmcCAp_in"
      },
      "source": [
        "Бібліотека `gensim`, за допомогою якої ми завантажували вектори, також вміє робити пошук подібних векторів, але значно швидше. Порівняємо з нашою імплементацією:"
      ]
    },
    {
      "cell_type": "code",
      "metadata": {
        "id": "4AlaIT8Yp_in",
        "outputId": "b8c9487a-f1ef-4934-f934-5cf3d24268ef",
        "colab": {
          "base_uri": "https://localhost:8080/"
        }
      },
      "source": [
        "glove.most_similar(\"facebook\")"
      ],
      "execution_count": null,
      "outputs": [
        {
          "output_type": "execute_result",
          "data": {
            "text/plain": [
              "[('twitter', 0.8435288667678833),\n",
              " ('myspace', 0.8185951113700867),\n",
              " ('youtube', 0.7537195086479187),\n",
              " ('google', 0.671447217464447),\n",
              " ('blogs', 0.6526655554771423),\n",
              " ('blog', 0.6467068195343018),\n",
              " ('web', 0.6389559507369995),\n",
              " ('website', 0.6388846039772034),\n",
              " ('zuckerberg', 0.6286188960075378),\n",
              " ('websites', 0.6250429749488831)]"
            ]
          },
          "metadata": {},
          "execution_count": 78
        }
      ]
    },
    {
      "cell_type": "code",
      "metadata": {
        "id": "GgRK3Vj9p_in",
        "outputId": "388ce8a2-4641-4fed-c23a-e2a7623b60cf",
        "colab": {
          "base_uri": "https://localhost:8080/"
        }
      },
      "source": [
        "find_similar(\"facebook\")"
      ],
      "execution_count": null,
      "outputs": [
        {
          "output_type": "execute_result",
          "data": {
            "text/plain": [
              "[(0.8435288071632385, 'twitter'),\n",
              " (0.8185950517654419, 'myspace'),\n",
              " (0.7537195086479187, 'youtube'),\n",
              " (0.6714472770690918, 'google'),\n",
              " (0.6526655554771423, 'blogs'),\n",
              " (0.646706759929657, 'blog'),\n",
              " (0.6389558911323547, 'web'),\n",
              " (0.6388846039772034, 'website'),\n",
              " (0.6286188364028931, 'zuckerberg'),\n",
              " (0.6250429749488831, 'websites')]"
            ]
          },
          "metadata": {},
          "execution_count": 79
        }
      ]
    },
    {
      "cell_type": "markdown",
      "metadata": {
        "id": "0HMdK4nwp_in"
      },
      "source": [
        "### Завдання\n",
        "\n",
        "Знайдіть найближчого сусіда до слова `cat` (одне слово)"
      ]
    },
    {
      "cell_type": "code",
      "metadata": {
        "id": "C4smTuENp_io",
        "outputId": "b6baa078-fb71-4093-97c0-3b61bd9e175e",
        "colab": {
          "base_uri": "https://localhost:8080/",
          "height": 36
        }
      },
      "source": [
        "cat_top_synonym = find_similar(\"cat\")[0][1]\n",
        "assert isinstance(cat_top_synonym, str)\n",
        "lab.checkpoint(\"Most similar word to `cat`\", cat_top_synonym)"
      ],
      "execution_count": null,
      "outputs": [
        {
          "output_type": "execute_result",
          "data": {
            "text/plain": [
              "'dog'"
            ],
            "application/vnd.google.colaboratory.intrinsic+json": {
              "type": "string"
            }
          },
          "metadata": {},
          "execution_count": 84
        }
      ]
    },
    {
      "cell_type": "markdown",
      "metadata": {
        "id": "Q_5QUDc8p_io"
      },
      "source": [
        "### Завдання\n",
        "\n",
        "Спробуйте функцію `find_similar` на різних словах. Які пари здалися вам найбільш цікавими, дивними або нелогічними?"
      ]
    },
    {
      "cell_type": "code",
      "source": [
        "find_similar('hot', 20)\n",
        "#cosine_similarity(glove['hot'], glove['billboard'])"
      ],
      "metadata": {
        "id": "kq-9P5HYu7XU",
        "outputId": "9c56058c-7bd3-4e62-8e7a-507a5c739f1d",
        "colab": {
          "base_uri": "https://localhost:8080/"
        }
      },
      "execution_count": null,
      "outputs": [
        {
          "output_type": "execute_result",
          "data": {
            "text/plain": [
              "[(0.6756690740585327, 'cool'),\n",
              " (0.6070945858955383, 'heat'),\n",
              " (0.5937811732292175, 'cold'),\n",
              " (0.5888327360153198, 'warm'),\n",
              " (0.5864232182502747, 'hottest'),\n",
              " (0.5327035784721375, 'bubbling'),\n",
              " (0.5277652144432068, 'heated'),\n",
              " (0.5251488089561462, 'dry'),\n",
              " (0.5227941870689392, 'spots'),\n",
              " (0.515351414680481, 'chili'),\n",
              " (0.5064643025398254, 'boiling'),\n",
              " (0.49950844049453735, 'temperatures'),\n",
              " (0.4974358081817627, 'summer'),\n",
              " (0.49723654985427856, 'hotter'),\n",
              " (0.4965079128742218, 'wet'),\n",
              " (0.49178412556648254, 'temperature'),\n",
              " (0.49168553948402405, 'water'),\n",
              " (0.49151411652565, 'billboard'),\n",
              " (0.49080854654312134, 'spring'),\n",
              " (0.4892834722995758, 'cooler')]"
            ]
          },
          "metadata": {},
          "execution_count": 94
        }
      ]
    },
    {
      "cell_type": "code",
      "metadata": {
        "id": "2ohxvKgdp_io",
        "outputId": "a64f7572-68b7-4156-893a-fd3f3babf067",
        "colab": {
          "base_uri": "https://localhost:8080/"
        }
      },
      "source": [
        "interesting_pair = ('hot', 'billboard')    # пара слів, наприклад (\"awesome\", \"aweful\")\n",
        "# Billboard Hot 100\n",
        "lab.checkpoint(\"Interesting/strange pairs\", interesting_pair)"
      ],
      "execution_count": null,
      "outputs": [
        {
          "output_type": "execute_result",
          "data": {
            "text/plain": [
              "('hot', 'billboard')"
            ]
          },
          "metadata": {},
          "execution_count": 95
        }
      ]
    },
    {
      "cell_type": "markdown",
      "metadata": {
        "id": "w8hSUqOKp_io"
      },
      "source": [
        "# Візуалізація"
      ]
    },
    {
      "cell_type": "code",
      "metadata": {
        "id": "u9eWNpVfp_ip"
      },
      "source": [
        "from sklearn import manifold\n",
        "import matplotlib.pyplot as plt\n",
        "\n",
        "\n",
        "def plot_word_embeddings(model, search_list):\n",
        "    words = []\n",
        "    for term in search_list:\n",
        "        words += [w[0] for w in model.most_similar([term], topn=5)]\n",
        "    words += search_list\n",
        "    words = list(set(words))\n",
        "\n",
        "    vectors = model[words]\n",
        "\n",
        "    tsne = manifold.TSNE(n_components=2, random_state=0, n_iter=10000, perplexity=7)\n",
        "    T = tsne.fit_transform(vectors)\n",
        "\n",
        "    plt.figure(figsize=(16, 10))\n",
        "    plt.scatter(T[:, 0], T[:, 1])\n",
        "    for label, x, y in zip(words, T[:, 0], T[:, 1]):\n",
        "        plt.annotate(label, xy=(x+2, y+2), xytext=(0, 0), textcoords='offset points')"
      ],
      "execution_count": null,
      "outputs": []
    },
    {
      "cell_type": "code",
      "metadata": {
        "id": "GXy_byPUp_ip",
        "outputId": "888ddaf7-a943-42b7-ebfa-60ed2863a00f",
        "colab": {
          "base_uri": "https://localhost:8080/",
          "height": 868
        }
      },
      "source": [
        "plot_word_embeddings(glove, [\"awesome\", \"terrible\", \"ukraine\", \"poland\", \"france\", \"red\", \"green\", \"cat\", \"two\"])"
      ],
      "execution_count": null,
      "outputs": [
        {
          "output_type": "stream",
          "name": "stderr",
          "text": [
            "/usr/local/lib/python3.10/dist-packages/sklearn/manifold/_t_sne.py:1162: FutureWarning: 'n_iter' was renamed to 'max_iter' in version 1.5 and will be removed in 1.7.\n",
            "  warnings.warn(\n"
          ]
        },
        {
          "output_type": "display_data",
          "data": {
            "text/plain": [
              "<Figure size 1600x1000 with 1 Axes>"
            ],
            "image/png": "[encoded data removed]"
          },
          "metadata": {}
        }
      ]
    },
    {
      "cell_type": "markdown",
      "metadata": {
        "id": "5FYwD481p_ip"
      },
      "source": [
        "# Векторна аріфметика\n",
        "\n",
        "Ми можемо додавати та віднімати вектори слів. Результат таких операцій (який теж буде вектором) можна перетворити назад в слово. Для цього знайдемо кілька найближчих до результата векторів і подивимося, які слова їм відповідають.\n",
        "\n",
        "Векторну аріфметику використовують для пошуку слів за аналогіями. Класичний приклад з першої статті про Word2Vec виглядає так:\n",
        "\n",
        "```\n",
        "V(\"king\") - V(\"man\") + V(\"woman\") ~= V(\"queen\")\n",
        "```"
      ]
    },
    {
      "cell_type": "code",
      "metadata": {
        "id": "HtcS8rRip_iq",
        "outputId": "67509861-f292-4c5f-c368-8c6974f118be",
        "colab": {
          "base_uri": "https://localhost:8080/"
        }
      },
      "source": [
        "glove.similar_by_vector(glove[\"king\"] - glove[\"man\"] + glove[\"woman\"])"
      ],
      "execution_count": null,
      "outputs": [
        {
          "output_type": "execute_result",
          "data": {
            "text/plain": [
              "[('king', 0.8209066987037659),\n",
              " ('queen', 0.7119165658950806),\n",
              " ('princess', 0.6121214628219604),\n",
              " ('monarch', 0.6024806499481201),\n",
              " ('prince', 0.596004068851471),\n",
              " ('throne', 0.5915313363075256),\n",
              " ('daughter', 0.5588055849075317),\n",
              " ('elizabeth', 0.554740309715271),\n",
              " ('kingdom', 0.5494517087936401),\n",
              " ('mother', 0.5419816970825195)]"
            ]
          },
          "metadata": {},
          "execution_count": 98
        }
      ]
    },
    {
      "cell_type": "markdown",
      "metadata": {
        "id": "JWyNFYd7p_iq"
      },
      "source": [
        "### Завдання\n",
        "\n",
        "Знайдіть найближчий вектор виразу\n",
        "`paris` - `france` + `ukraine`"
      ]
    },
    {
      "cell_type": "code",
      "metadata": {
        "collapsed": true,
        "id": "fBsg7ZAUp_ir",
        "outputId": "f6f94198-43ef-49c6-f478-b58e93fca1a0",
        "colab": {
          "base_uri": "https://localhost:8080/",
          "height": 70
        }
      },
      "source": [
        "answer = glove.similar_by_vector(glove[\"paris\"] - glove[\"france\"] + glove[\"ukraine\"])[0][0]\n",
        "lab.answer(answer)   # мені теж не подобається те, як написана відповідь :)"
      ],
      "execution_count": null,
      "outputs": [
        {
          "output_type": "stream",
          "name": "stdout",
          "text": [
            "Відповідь правильна ✅\n",
            "Так, вірно! 💪\n"
          ]
        },
        {
          "output_type": "execute_result",
          "data": {
            "text/plain": [
              "'kiev'"
            ],
            "application/vnd.google.colaboratory.intrinsic+json": {
              "type": "string"
            }
          },
          "metadata": {},
          "execution_count": 102
        }
      ]
    },
    {
      "cell_type": "markdown",
      "source": [
        "# Готово!\n",
        "\n",
        "На наступному занятті ми:\n",
        "- Використаємо ембедінги слів для класифікації текстів\n",
        "- Дізнаємося, як влаштований word2vec\n",
        "- Напишемо свою імплементацію word2vec\n",
        "- Подивимося, як обійти проблему несловникових токенів\n"
      ],
      "metadata": {
        "id": "lTXyVVLf3WIn"
      }
    }
  ]
}