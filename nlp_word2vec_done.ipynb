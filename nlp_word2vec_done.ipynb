{
  "nbformat": 4,
  "nbformat_minor": 0,
  "metadata": {
    "colab": {
      "provenance": [],
      "gpuType": "T4",
      "include_colab_link": true
    },
    "kernelspec": {
      "name": "python3",
      "display_name": "Python 3"
    },
    "language_info": {
      "name": "python"
    },
    "accelerator": "GPU"
  },
  "cells": [
    {
      "cell_type": "markdown",
      "metadata": {
        "id": "view-in-github",
        "colab_type": "text"
      },
      "source": [
        "<a href=\"https://colab.research.google.com/github/Vasyl808/NULP_NLP/blob/main/nlp_word2vec_done.ipynb\" target=\"_parent\"><img src=\"https://colab.research.google.com/assets/colab-badge.svg\" alt=\"Open In Colab\"/></a>"
      ]
    },
    {
      "cell_type": "code",
      "source": [
        "from google.colab import drive\n",
        "drive.mount('/content/drive')"
      ],
      "metadata": {
        "colab": {
          "base_uri": "https://localhost:8080/"
        },
        "id": "YVdXqvOCi4bW",
        "outputId": "e8ef5053-dfc9-429b-9f92-0c2bf1dba442"
      },
      "execution_count": 1,
      "outputs": [
        {
          "output_type": "stream",
          "name": "stdout",
          "text": [
            "Mounted at /content/drive\n"
          ]
        }
      ]
    },
    {
      "cell_type": "code",
      "source": [
        "!unzip text8.zip"
      ],
      "metadata": {
        "colab": {
          "base_uri": "https://localhost:8080/"
        },
        "id": "--8XIrCIC_Te",
        "outputId": "bb01d8a8-a35d-4615-9644-cded8d34c4b0"
      },
      "execution_count": null,
      "outputs": [
        {
          "output_type": "stream",
          "name": "stdout",
          "text": [
            "Archive:  text8.zip\n",
            "  inflating: text8                   \n"
          ]
        }
      ]
    },
    {
      "cell_type": "markdown",
      "source": [
        "Імпортує необхідні модулі та встановлюємо гіперпараметри. Пробував декілька раз тренувати з різними гіперпараметрами, ці проявили себе найкраще."
      ],
      "metadata": {
        "id": "-1Nj7jSBqEkB"
      }
    },
    {
      "cell_type": "code",
      "source": [
        "import re\n",
        "import torch\n",
        "from torch.utils.data import DataLoader, Dataset\n",
        "import torch.nn.functional as F\n",
        "import spacy\n",
        "from tqdm import tqdm\n",
        "from typing import Union\n",
        "import pickle\n",
        "import warnings\n",
        "\n",
        "warnings.filterwarnings(\"ignore\")\n",
        "\n",
        "\n",
        "hyperparameters: dict[str: Union[int, float]] = {\n",
        "    'CONTEXT_SIZE': 2,\n",
        "    'NUM_EPOCH': 3,\n",
        "    'BATCH_SIZE': 1024,\n",
        "    'EMBEDDING_DIMENSION': 100,\n",
        "    'LEARNING_RATE': 0.01\n",
        "}"
      ],
      "metadata": {
        "id": "OGSc1oVoFQPW"
      },
      "execution_count": 9,
      "outputs": []
    },
    {
      "cell_type": "markdown",
      "source": [
        "Перепроцесінг тексту (токенізація) та створення тренувальних зразків у фоматі: (['algorithms', 'using', 'intelligence', 'are'], 'artificial'), де artificial є нашим цільовим словом, а 'algorithms', 'using' та 'intelligence', 'are' його лівий та правий контекст відповідно"
      ],
      "metadata": {
        "id": "SumVYgBqqNXe"
      }
    },
    {
      "cell_type": "code",
      "source": [
        "def tokenize(text: str) -> list[str]:\n",
        "    return re.findall(r\"\\b\\w+\\b\", text)\n",
        "\n",
        "\n",
        "def preprocess(text: str) -> list[str]:\n",
        "    text = text.lower()\n",
        "    return tokenize(text)\n",
        "\n",
        "\n",
        "def make_training_examples(tokens: list[str], context_size: int) -> tuple[list[list[str]], list[str]]:\n",
        "    for i in range(context_size, len(tokens) - context_size):\n",
        "        left_context = tokens[i - context_size : i]\n",
        "        target = tokens[i]\n",
        "        right_context = tokens[i + 1 : i + context_size + 1]\n",
        "        context = left_context + right_context\n",
        "        yield context, target"
      ],
      "metadata": {
        "id": "nR53orjsGL_o"
      },
      "execution_count": 3,
      "outputs": []
    },
    {
      "cell_type": "markdown",
      "source": [
        "Клас словника для пошуку токенів за інтдексом і навпаки"
      ],
      "metadata": {
        "id": "jVQKyrwQu4bt"
      }
    },
    {
      "cell_type": "code",
      "source": [
        "class Vocabulary:\n",
        "    def __init__(self, tokens: list[str]) -> None:\n",
        "        self.vocab = sorted(set(tokens))\n",
        "        self.token_to_index = {token: i for i, token in enumerate(self.vocab)}\n",
        "        self.index_to_token = {i: token for i, token in enumerate(self.vocab)}\n",
        "\n",
        "    def __len__(self) -> int:\n",
        "        return int(len(self.vocab))"
      ],
      "metadata": {
        "id": "m-l9lMSGGgyo"
      },
      "execution_count": 4,
      "outputs": []
    },
    {
      "cell_type": "markdown",
      "source": [
        "Клас для роботи з набором даних. Векторизує наш контекст та таргет"
      ],
      "metadata": {
        "id": "HHovHy4dvBYX"
      }
    },
    {
      "cell_type": "code",
      "source": [
        "class WordEmbeddingDataset(Dataset):\n",
        "    def __init__(self, tokens: list[str], context_size: int, vocab: Vocabulary):\n",
        "        self.examples = list(make_training_examples(tokens, context_size))\n",
        "        self.vocab = vocab\n",
        "\n",
        "    def __len__(self) -> int:\n",
        "        return int(len(self.examples))\n",
        "\n",
        "    def __getitem__(self, idx: int) -> tuple[list[int], int]:\n",
        "        context, target = self.examples[idx]\n",
        "        context_vector = torch.tensor([self.vocab.token_to_index[token] for token in context], dtype=torch.long)\n",
        "        target_vector = self.vocab.token_to_index[target]\n",
        "        return context_vector, target_vector"
      ],
      "metadata": {
        "id": "0m9l7l1VGl7z"
      },
      "execution_count": 5,
      "outputs": []
    },
    {
      "cell_type": "markdown",
      "source": [
        "Сама модель ембедінга. Мість метод для тренування, отримання ембедінгів, пошуку подібних слів до даного на основі косинусної подібності, та зберігання у файл ембедінгів + словника"
      ],
      "metadata": {
        "id": "kOWz6bQzvs5f"
      }
    },
    {
      "cell_type": "code",
      "source": [
        "class EmbeddingModel:\n",
        "    def __init__(self, vocab: Vocabulary, embed_dim: int):\n",
        "        self.vocab = vocab\n",
        "        self.embed_dim = embed_dim\n",
        "        self.W_in = torch.randn(len(vocab.vocab),\n",
        "                                embed_dim,\n",
        "                                requires_grad=True,\n",
        "                                device='cuda'\n",
        "                                )\n",
        "        self.W_out = torch.randn(embed_dim,\n",
        "                                 len(vocab.vocab),\n",
        "                                 requires_grad=True,\n",
        "                                 device='cuda'\n",
        "                                 )\n",
        "\n",
        "    def train(self, training_text: str, num_epochs: int, batch_size: int):\n",
        "        tokens = preprocess(training_text)\n",
        "\n",
        "        dataset = WordEmbeddingDataset(\n",
        "            tokens,\n",
        "            hyperparameters.get('CONTEXT_SIZE'),\n",
        "            self.vocab\n",
        "        )\n",
        "\n",
        "        dataloader = DataLoader(dataset, batch_size=batch_size, shuffle=True)\n",
        "\n",
        "        optimizer = torch.optim.Adam(\n",
        "            [self.W_in, self.W_out],\n",
        "            lr=hyperparameters.get('LEARNING_RATE')\n",
        "        )\n",
        "\n",
        "        for epoch in range(num_epochs):\n",
        "            epoch_loss = 0\n",
        "            num_examples = 0\n",
        "\n",
        "            for context_vector, target_vector in tqdm(dataloader):\n",
        "                num_examples += context_vector.size(0)\n",
        "                optimizer.zero_grad()\n",
        "                hidden = self.W_in[context_vector].sum(dim=1)\n",
        "                logits = hidden @ self.W_out\n",
        "                log_probs = torch.log_softmax(logits, dim=1)\n",
        "\n",
        "                batch_size_actual = target_vector.size(0)\n",
        "                loss = -log_probs[torch.arange(batch_size_actual), target_vector]\n",
        "                loss.mean().backward()\n",
        "                optimizer.step()\n",
        "\n",
        "                epoch_loss += loss.sum().item()\n",
        "\n",
        "            epoch_loss /= num_examples\n",
        "            print(f\"Epoch: {epoch + 1}, Loss: {epoch_loss:.4f}\")\n",
        "\n",
        "    def get_embeddings(self):\n",
        "        return self.W_in + self.W_out.t()\n",
        "\n",
        "    def get_similar_words(self, word, top_n=10):\n",
        "        if word not in self.vocab.token_to_index:\n",
        "            raise ValueError(f\"Word '{word}' not found in vocabulary.\")\n",
        "\n",
        "        word_index = self.vocab.token_to_index[word]\n",
        "        word_embedding = self.get_embeddings()[word_index]\n",
        "\n",
        "        all_embeddings = torch.tensor(self.get_embeddings(), device='cuda')\n",
        "        word_embedding = torch.tensor(word_embedding, device='cuda')\n",
        "\n",
        "        # Нормалізація векторів\n",
        "        all_embeddings = all_embeddings / torch.norm(all_embeddings, dim=1, keepdim=True)\n",
        "        word_embedding = word_embedding / torch.norm(word_embedding)\n",
        "\n",
        "        # Обчислюємо косинусну подібність\n",
        "        similarities = torch.matmul(all_embeddings, word_embedding)\n",
        "\n",
        "        # Виключаємо вхідне слово\n",
        "        similarities[word_index] = -1.0\n",
        "\n",
        "        # Знаходимо найближчі слова\n",
        "        top_indices = torch.topk(similarities, top_n).indices.cpu().numpy()\n",
        "\n",
        "        return [(self.vocab.index_to_token[idx], similarities[idx].item()) for idx in top_indices]\n",
        "\n",
        "    def save_embeddings(self, filepath: str):\n",
        "        torch.save({\n",
        "            'W_in': self.W_in.detach().cpu(),\n",
        "            'W_out': self.W_out.detach().cpu()\n",
        "        }, filepath)\n",
        "        print(f\"Embeddings saved to {filepath}\")\n",
        "\n",
        "    def save_vocab(self, filepath: str):\n",
        "        with open(filepath, 'wb') as f:\n",
        "            pickle.dump(self.vocab, f)\n",
        "        print(f\"Vocabulary saved to {filepath}\")\n",
        "\n",
        "\n"
      ],
      "metadata": {
        "id": "fX99xx-KHW4O"
      },
      "execution_count": 6,
      "outputs": []
    },
    {
      "cell_type": "code",
      "source": [
        "with open('/content/text8', 'r') as file:\n",
        "        training_text = file.read()\n",
        "\n",
        "vocab = Vocabulary(preprocess(training_text))\n",
        "\n",
        "len(vocab)"
      ],
      "metadata": {
        "colab": {
          "base_uri": "https://localhost:8080/"
        },
        "id": "gc_vygxpHbAP",
        "outputId": "4ef69ba6-20a3-4688-d2ef-40b80885ed28"
      },
      "execution_count": null,
      "outputs": [
        {
          "output_type": "execute_result",
          "data": {
            "text/plain": [
              "253854"
            ]
          },
          "metadata": {},
          "execution_count": 7
        }
      ]
    },
    {
      "cell_type": "markdown",
      "source": [
        "Тренував ембедінги на text8."
      ],
      "metadata": {
        "id": "MlOYVhFEwAcj"
      }
    },
    {
      "cell_type": "code",
      "source": [
        "model = EmbeddingModel(\n",
        "    vocab,\n",
        "    hyperparameters.get('EMBEDDING_DIMENSION')\n",
        ")\n",
        "\n",
        "model.train(\n",
        "    training_text,\n",
        "    hyperparameters.get('NUM_EPOCH'),\n",
        "    hyperparameters.get('BATCH_SIZE')\n",
        ")"
      ],
      "metadata": {
        "colab": {
          "base_uri": "https://localhost:8080/"
        },
        "id": "D3YQeakEmSoa",
        "outputId": "0fc8d99f-e663-4ea8-b86e-7cba8985ba48"
      },
      "execution_count": null,
      "outputs": [
        {
          "output_type": "stream",
          "name": "stderr",
          "text": [
            "100%|██████████| 16607/16607 [32:19<00:00,  8.56it/s]\n"
          ]
        },
        {
          "output_type": "stream",
          "name": "stdout",
          "text": [
            "Epoch: 1, Loss: 9.2087\n"
          ]
        },
        {
          "output_type": "stream",
          "name": "stderr",
          "text": [
            "100%|██████████| 16607/16607 [32:42<00:00,  8.46it/s]\n"
          ]
        },
        {
          "output_type": "stream",
          "name": "stdout",
          "text": [
            "Epoch: 2, Loss: 6.4924\n"
          ]
        },
        {
          "output_type": "stream",
          "name": "stderr",
          "text": [
            "100%|██████████| 16607/16607 [32:40<00:00,  8.47it/s]\n"
          ]
        },
        {
          "output_type": "stream",
          "name": "stdout",
          "text": [
            "Epoch: 3, Loss: 6.3382\n"
          ]
        }
      ]
    },
    {
      "cell_type": "code",
      "source": [
        "model.save_embeddings('embeddings.pt')\n",
        "model.save_vocab('vocab.pkl')"
      ],
      "metadata": {
        "id": "v8rGFWkVOQ1-",
        "colab": {
          "base_uri": "https://localhost:8080/"
        },
        "outputId": "4afc3784-d0f3-4fc4-909c-9c17f0848e5c"
      },
      "execution_count": null,
      "outputs": [
        {
          "output_type": "stream",
          "name": "stdout",
          "text": [
            "Embeddings saved to embeddings.pt\n",
            "Vocabulary saved to vocab.pkl\n"
          ]
        }
      ]
    },
    {
      "cell_type": "code",
      "source": [
        "def load_embeddings(filepath: str):\n",
        "    data = torch.load(filepath)\n",
        "    W_in = data['W_in']\n",
        "    W_out = data['W_out']\n",
        "    return W_in, W_out\n",
        "\n",
        "\n",
        "def load_vocab(filepath: str):\n",
        "    with open(filepath, 'rb') as f:\n",
        "        vocab = pickle.load(f)\n",
        "    return vocab"
      ],
      "metadata": {
        "id": "3KwkOJP6OvcF"
      },
      "execution_count": 7,
      "outputs": []
    },
    {
      "cell_type": "markdown",
      "source": [
        "Перевірив властивість розміщувати поруч подібні слова"
      ],
      "metadata": {
        "id": "2AR-HTETwIMp"
      }
    },
    {
      "cell_type": "code",
      "source": [
        "W_in, W_out = load_embeddings('/content/drive/MyDrive/embedding/embeddings.pt')\n",
        "vocab = load_vocab('/content/drive/MyDrive/embedding/vocab.pkl')\n",
        "\n",
        "model = EmbeddingModel(vocab, hyperparameters.get('EMBEDDING_DIMENSION'))\n",
        "model.W_in = W_in\n",
        "model.W_out = W_out\n",
        "\n",
        "word_to_search = 'water'\n",
        "similar_words = model.get_similar_words(word_to_search)\n",
        "print(f\"Words similar to '{word_to_search}': {similar_words}\")"
      ],
      "metadata": {
        "id": "gd7yplcBO01Y",
        "colab": {
          "base_uri": "https://localhost:8080/"
        },
        "outputId": "bc129261-b06b-4f92-8f23-35ec4d9cfdab"
      },
      "execution_count": 10,
      "outputs": [
        {
          "output_type": "stream",
          "name": "stdout",
          "text": [
            "Words similar to 'water': [('gas', 0.5928983688354492), ('fresh', 0.561077356338501), ('oil', 0.5599737167358398), ('fuel', 0.5570586323738098), ('supply', 0.5483889579772949), ('heating', 0.5444967746734619), ('air', 0.5434978604316711), ('food', 0.5355669856071472), ('liquid', 0.532396137714386), ('total', 0.5302374958992004)]\n"
          ]
        }
      ]
    },
    {
      "cell_type": "code",
      "source": [
        "model.get_embeddings()[vocab.token_to_index['water']]"
      ],
      "metadata": {
        "colab": {
          "base_uri": "https://localhost:8080/"
        },
        "id": "8nhYG8wzjda9",
        "outputId": "0b84a64d-0c48-44fa-acfa-898f76ebf8cb"
      },
      "execution_count": 11,
      "outputs": [
        {
          "output_type": "execute_result",
          "data": {
            "text/plain": [
              "tensor([ 0.1777, -0.3501, -0.7134,  0.1764, -0.0941, -0.1261,  0.0547,  0.1756,\n",
              "         0.0601,  0.2111,  1.0422, -0.5202,  0.0277, -0.6202,  0.1606, -0.1621,\n",
              "         0.5752, -0.3417, -0.0825, -0.2935, -0.3850,  1.4978, -0.3992, -0.0946,\n",
              "         0.4289, -0.0667,  0.3965, -0.6062,  0.3715, -0.0839,  0.4783,  0.6844,\n",
              "        -0.1448, -0.2403,  0.0789,  0.2453, -1.3663, -0.3426,  0.3818, -0.2449,\n",
              "        -0.1816,  0.2226,  0.2619, -0.2593, -0.4053,  0.7370,  0.0767, -0.1849,\n",
              "         0.2872, -0.3541, -0.0271,  0.1961,  0.3929,  0.2227,  0.0952,  0.4372,\n",
              "        -0.3768,  0.6678,  0.8301, -0.3270, -0.6569,  0.9702, -0.1212, -0.3728,\n",
              "         0.3799,  0.1586,  0.1836,  0.1756,  0.1843, -0.1493, -0.3772, -0.4256,\n",
              "        -0.1510,  0.1812,  0.1328, -1.1263,  0.2871,  0.4222, -0.3837, -0.1121,\n",
              "        -0.2006,  0.7123,  1.0305,  0.1256, -0.2584, -0.2696,  0.5041,  0.2392,\n",
              "        -0.0948,  0.1025, -0.2275, -0.1467,  0.5501, -1.0511,  0.4141,  0.1327,\n",
              "         0.2886, -0.6817, -0.0589, -0.1953])"
            ]
          },
          "metadata": {},
          "execution_count": 11
        }
      ]
    },
    {
      "cell_type": "code",
      "source": [
        "word_to_search = 'word'\n",
        "similar_words = model.get_similar_words(word_to_search)\n",
        "print(f\"Words similar to '{word_to_search}': {similar_words}\")"
      ],
      "metadata": {
        "colab": {
          "base_uri": "https://localhost:8080/"
        },
        "id": "fY_KeOd1kEh7",
        "outputId": "84125534-0410-46bc-aa54-08433365e87b"
      },
      "execution_count": 12,
      "outputs": [
        {
          "output_type": "stream",
          "name": "stdout",
          "text": [
            "Words similar to 'word': [('meaning', 0.6530529856681824), ('term', 0.6371171474456787), ('greek', 0.5927851796150208), ('phrase', 0.5592740774154663), ('latin', 0.5560826659202576), ('language', 0.5532324910163879), ('name', 0.5413400530815125), ('hebrew', 0.5272836685180664), ('modern', 0.5052066445350647), ('terminology', 0.5028757452964783)]\n"
          ]
        }
      ]
    },
    {
      "cell_type": "code",
      "source": [
        "word_to_search = 'london'\n",
        "similar_words = model.get_similar_words(word_to_search)\n",
        "print(f\"Words similar to '{word_to_search}': {similar_words}\")"
      ],
      "metadata": {
        "colab": {
          "base_uri": "https://localhost:8080/"
        },
        "id": "2eAdtv8MwS_e",
        "outputId": "7ed301c3-4bd5-4624-fdb8-bf2146304f2c"
      },
      "execution_count": 57,
      "outputs": [
        {
          "output_type": "stream",
          "name": "stdout",
          "text": [
            "Words similar to 'london': [('city', 0.6735579967498779), ('berlin', 0.6071721315383911), ('york', 0.5824779868125916), ('manchester', 0.5443627834320068), ('amsterdam', 0.5342712998390198), ('new', 0.5340930223464966), ('east', 0.520696759223938), ('walford', 0.5161587595939636), ('chicago', 0.5141729116439819), ('centre', 0.5080441236495972)]\n"
          ]
        }
      ]
    },
    {
      "cell_type": "markdown",
      "source": [
        "Перевірив векторну арифметику і воно працює)"
      ],
      "metadata": {
        "id": "kv_g4FQFwbbj"
      }
    },
    {
      "cell_type": "code",
      "source": [
        "embeddings = model.get_embeddings()"
      ],
      "metadata": {
        "id": "m36Q6uSGm8Rk"
      },
      "execution_count": 53,
      "outputs": []
    },
    {
      "cell_type": "code",
      "source": [
        "def find_similar_words(embeddings, vocab, input_vector, top_k=10):\n",
        "    normalized_embeddings = F.normalize(embeddings, p=2, dim=1)\n",
        "    normalized_input_vector = F.normalize(input_vector.unsqueeze(0), p=2, dim=1)\n",
        "\n",
        "    cosine_similarities = torch.matmul(normalized_embeddings, normalized_input_vector.T).squeeze()\n",
        "\n",
        "    top_k_indices = torch.topk(cosine_similarities, top_k).indices\n",
        "    most_similar_words = [vocab.index_to_token[idx.item()] for idx in top_k_indices]\n",
        "\n",
        "    return most_similar_words"
      ],
      "metadata": {
        "id": "NsYEZMjbnn0E"
      },
      "execution_count": 54,
      "outputs": []
    },
    {
      "cell_type": "code",
      "source": [
        "v1 = embeddings[vocab.token_to_index['london']]\n",
        "v2 = embeddings[vocab.token_to_index['england']]\n",
        "v3 = embeddings[vocab.token_to_index['germany']]\n",
        "\n",
        "result_vector = v1 - v2 + v3\n",
        "\n",
        "similar_words = find_similar_words(embeddings, vocab, result_vector, top_k=10)\n",
        "print(f\"The top {len(similar_words)} most similar words are: {similar_words}\")"
      ],
      "metadata": {
        "colab": {
          "base_uri": "https://localhost:8080/"
        },
        "id": "R5u4BsdqpxpH",
        "outputId": "bfec9b9d-2665-41b4-c9b5-3fd73fea5471"
      },
      "execution_count": 56,
      "outputs": [
        {
          "output_type": "stream",
          "name": "stdout",
          "text": [
            "The top 10 most similar words are: ['berlin', 'london', 'germany', 'dresden', 'cologne', 'hamburg', 'central', 'china', 'beijing', 'prague']\n"
          ]
        }
      ]
    },
    {
      "cell_type": "markdown",
      "source": [
        "Застосував для задачі класифікації"
      ],
      "metadata": {
        "id": "C2ef26eKwtyp"
      }
    },
    {
      "cell_type": "code",
      "source": [
        "import pandas as pd\n",
        "from sklearn.model_selection import train_test_split\n",
        "from sklearn.preprocessing import LabelEncoder\n",
        "from sklearn.datasets import fetch_20newsgroups\n",
        "import numpy as np\n",
        "\n",
        "\n",
        "categories = ['talk.politics.guns', 'soc.religion.christian']\n",
        "newsgroups = fetch_20newsgroups(subset='all', categories=categories)\n",
        "\n",
        "train_texts, test_texts, train_labels, test_labels = train_test_split(newsgroups.data[:200], newsgroups.target[:200], test_size=0.2, random_state=42)\n",
        "\n",
        "all_tokens = [token for text in train_texts for token in preprocess(text)]\n",
        "vocab = Vocabulary(all_tokens)\n"
      ],
      "metadata": {
        "id": "8fBPeMGk3Fd7"
      },
      "execution_count": null,
      "outputs": []
    },
    {
      "cell_type": "code",
      "source": [
        "# 1 - talk.politics.guns\n",
        "# 0 - soc.religion.christian"
      ],
      "metadata": {
        "id": "AIFrWy74X5FH"
      },
      "execution_count": null,
      "outputs": []
    },
    {
      "cell_type": "code",
      "source": [
        "test_texts[0]"
      ],
      "metadata": {
        "colab": {
          "base_uri": "https://localhost:8080/",
          "height": 227
        },
        "id": "8U4fF5opXLTo",
        "outputId": "02b08ccc-d9fd-4821-f2fc-2225d965ad92"
      },
      "execution_count": null,
      "outputs": [
        {
          "output_type": "execute_result",
          "data": {
            "text/plain": [
              "'From: dnewcomb@whale.st.usm.edu (Donald R. Newcomb)\\nSubject: Re: Some more about gun control...\\nNntp-Posting-Host: whale.st.usm.edu\\nOrganization: University of Southern Mississippi\\nLines: 145\\n\\nFirst, I would like to say how much I appreciate having so literate and\\nerudite an individual as Mr. Rutledge with whom to discuss this topic.\\nFrankly, most anti-RKBA posters refuse even to approach the topic of\\nthe original understanding of the Bill of Rights as detailed in the\\nwritings of the era. This  is most refreshing.\\n\\nSecond, I must apologize for leaving the discussion for several days.\\nMy brigade\\'s quarterly drill was this weekend and I needed to attend\\nto several matters pertaining to the State Militia.\\n\\nSome people seem to feel that the concept of the Militia is an anachro-\\nnism that is out of place in the 20th century. I\\'m not sure the Swiss\\nwould agree and I think perhaps a discussion of how the Militia, both\\norganized and unorganized, fits into the defense plans of my State,\\nMississippi. Please do not assume that this describes something peculiar\\nto one southern state. For instance, the Commonwealth of Massachusetts\\nhas a well organized Militia which, members report, maintains stocks\\nof both riot guns and machine guns. The laws of other States will vary\\nbut are probably similar.\\n\\nTitle 35  of Mississippi Code defines our Militia as \"all able-bodied\\ncitizens of the state between the ages of seventeen (17) and sixty-\\ntwo (62) years...\". The Militia is divided into 3 classes: The National\\nGuard, the Mississippi State Guard and the unorganized Militia.  The\\nNational Guard is a strange sort of fish from a Constitutional perspective.\\nIt tries to be both State Militia and Federal Reserve. The discussion\\nof this \"para-constitutional\" arrangement is quite interesting in itself\\nbut somewhat beyond the scope of this discussion. Suffice it that, at this\\ndate, the National Guard has ceased to have any Constitutional standing\\nas anything but a Federal reserve force.\\n\\nMississippi, and most other States, maintains a purely State organized\\nMilitia. In Mississippi this is called The State Guard. In other \\nStates it may be called something else. The State Guard exists as\\na cadre or training corps made up of mostly experienced officers and\\nsenior NCOs who serve as volunteers without compensation. We drill\\non a monthly basis at the company and battalion level, brigade once\\na quarter and have an annual drill of the whole organization. Our\\nState-authorized cadre strength is 694. This is a skeleton of an\\norganization without any flesh. The muscle and sinew when needed will\\ncome from the unorganized Militia.\\n\\nIn time of invasion, insurrection or calamity the Governor can order\\nthe activation of the State Guard. When this takes place a call will\\nfirst be made  for volunteers to fill the organization out to either\\nits contingency strength of 2194 or full strength of 4910. In the\\nevent that a sufficient number of people fail to volunteer, the law\\nprovides detailed instructions for the conducting of a draft of the\\nunorganized Militia. The size of the State Guard is not specified by\\nlaw, but rather by executive order. At one time, the organized Militia\\nof Mississippi consisted of 68 regiments. Needless to say, the State\\ndoes not have armories brimming with weapons with which to equip such\\na force. The historical precedent for arming such a force is by use\\nof mostly the private arms of the Militiamen. \\n\\nIt is my hope that demonstrates that State Militias are far from being\\nthe long dead anachronisms that some may wish to claim.\\n\\n>No, I simple stated that the people have a right to \"join a well\\n>organized militia.\"  And I have also stated that a militia that\\n>meets once or twice a year is clearly \"well organized.\"  And this\\n>state of readiness that I have claimed the people have a \"right\"\\n>to, is the same state of readiness expected of the militia as stated\\n>by Hamilton. \\n\\nRegarding Hamilton: If you take Hamilton\\'s opinion as being the sole\\nrepresentative of the opinions of the Founding Fathers, you will have\\nchosen a highly skewed sample set. Hamilton was on the extreme Federalist\\nend of the political spectrum. Others, such as Coxe and Henry, can\\nbe chosen to represent the other end. Many contemporaries felt that\\nthe idea of having a standing Army of any sort or even a select Militia\\nor \"train bands\" were contrary to the egalitarian nature of the govern-\\nment they were striving to perfect. The compromise reached was to\\nprovide for a small Army, which had to be refinanced every two years,\\nand iron-clad protection for the Militia, which was to remain ever,\\n\"terrible and irresistible\".\\n\\nThese protections included: State control, not Federal; limitation\\nof Federal utilization of the Militia (i.e. execute Laws, suppress\\nInsurrections and repel Invasions), and the Right to Keep and Bear\\nArms to prevent what the British had tried to do at Lexington.\\nThese limitations eventually proved so onerous to the Federal Govern-\\nment that they were skirted by the creation of the National Guard.\\n\\nThe National Guard was created for one very simple reason: the \\nConstitutional Militia was had proved too unreliable for fighting\\nwars of imperial expansion. (e.g. Spanish-American War). The\\nConstitution provided that the Militia could only be employed by\\nthe Federal government in very limited purposes. As far back as the\\nWar of 1812, Militia units had refused to leave United States\\nterritory to attack the enemy. Further, there was no Constitutional\\nauthorization for any conscription of anyone into the Federal\\nMilitary and Militiamen were particularly protected. In all wars until\\nWW-I every American who left the country under arms was a volunteer.\\nWhen the National Guard acts of 1903-1916 required that each new\\nmember also enlist as a reservest in the Army, existing soldiers were\\n\"grandfathered\". At least one of these \"grandfathered\" individuals\\nrefused to go to France in 1918 and his refusal was upheld by the\\nFederal Courts.\\n\\nMr. Rutledge has stated that the Second Amendment applies only to\\nmembers of a \"well organized\" militia. However, the pre-Constitutional\\nhistory of the American Militia shows relatively few periods when\\nThe Militia came close to meeting either Messrs. Rutledge or Hamilton\\'s\\ndefinition of \"well organized\". In the period of peace between the\\nFrench & Indian War and The Revolution many companies simply stopped\\ndrilling and had to be reconstituted just prior to The Revolution.\\nPerhaps Mr. Rutledge would care to argue that those of my ancestors\\nwho answered the Lexington alarm had forfeited their rights because\\ntheir units didn\\'t drill for a few years in the 1760s. I would not\\nbe so bold.\\n\\nAgain, I wish to repeat. The National Guard, for all its merits, is\\nnot the Militia described by the Constitution  nor by Mr. Hamilton\\nnor by Mr. Henry nor by Mr. Coxe. The fact that the Federal Government\\nand many States are delinquent in their attentions to and organizing\\nof their Constitutional Militias  diminishes neither their\\nresponsibilities nor the rights of the Militia as detailed in the\\nConstitution.\\n \\nMisunderstanding of the nature and purpose of the Militia is but one\\nerror that has crept into modern readings of the Constitution. The\\nConstitution prohibits States from keeping \"Troops or Ships of War\\nin time of Peace\". I have heard some insist this prevents States from\\nmaintaining a Militia, but this comes about because people today do not\\nunderstand the meanings of the words in their 18th century usage.\\nToday we call any large vessel a \"ship\" but in the 18th century the word\\ndescribed a particular kind of vessel.  A \"ship\" is a large vessel with\\nthree or more masts each carrying square rigged sails. A \"brig\" has two\\nmasts. In the contemporary usage the States were prohibited only from keeping\\nthe largest warships of the day, those capable of global operations. Today\\'s\\nequivalent might be a prohibition on the States\\' keeping nuclear missiles.\\n\"Troops\" at this time meant a full-time professional military organization.\\nAny study of contemporaneous writings will bear this out. \\n\\nIn at least one respect, I am in agreement with Mr. Rutledge; being\\npersonally involved in the maintenance and advancement of The Militia\\nas a viable means of defense for a modern society, I am frequently\\nboth bemused and saddened when friends and associates wax poetic on\\ntheir place in the unorganized Militia and become strangely silent or\\nscarce when invited to attend a  drill of their State\\'s Militia.\\n-- \\nDonald R. Newcomb              * University of Southern Mississippi\\ndnewcomb@whale.st.usm.edu      * This is the way we tax and spend, tax \\ndnewcomb@falcon.st.usm.edu     * and spend. We\\'re Democrats in office.\\n'"
            ],
            "application/vnd.google.colaboratory.intrinsic+json": {
              "type": "string"
            }
          },
          "metadata": {},
          "execution_count": 50
        }
      ]
    },
    {
      "cell_type": "code",
      "source": [
        "test_labels[0]"
      ],
      "metadata": {
        "colab": {
          "base_uri": "https://localhost:8080/"
        },
        "id": "I5G_rpJAWkR0",
        "outputId": "7c09e629-3cb9-4c89-fc32-2889d11be6e5"
      },
      "execution_count": null,
      "outputs": [
        {
          "output_type": "execute_result",
          "data": {
            "text/plain": [
              "1"
            ]
          },
          "metadata": {},
          "execution_count": 49
        }
      ]
    },
    {
      "cell_type": "code",
      "source": [
        "np.sum(train_labels == 0)"
      ],
      "metadata": {
        "colab": {
          "base_uri": "https://localhost:8080/"
        },
        "id": "nAV4UmcjXtAe",
        "outputId": "d52ccd09-6896-4e30-db53-0d4ff3f09175"
      },
      "execution_count": null,
      "outputs": [
        {
          "output_type": "execute_result",
          "data": {
            "text/plain": [
              "92"
            ]
          },
          "metadata": {},
          "execution_count": 54
        }
      ]
    },
    {
      "cell_type": "code",
      "source": [
        "np.sum(train_labels == 1)"
      ],
      "metadata": {
        "colab": {
          "base_uri": "https://localhost:8080/"
        },
        "id": "nHWPwVERXzWW",
        "outputId": "fec91250-9af1-455d-e9e1-7ff4c1d22c4e"
      },
      "execution_count": null,
      "outputs": [
        {
          "output_type": "execute_result",
          "data": {
            "text/plain": [
              "68"
            ]
          },
          "metadata": {},
          "execution_count": 55
        }
      ]
    },
    {
      "cell_type": "code",
      "source": [
        "np.sum(test_labels == 0)"
      ],
      "metadata": {
        "colab": {
          "base_uri": "https://localhost:8080/"
        },
        "id": "3nHCCYxbW4gH",
        "outputId": "96d0c6fa-a4df-43ec-bbd3-2bc8bb9d4559"
      },
      "execution_count": null,
      "outputs": [
        {
          "output_type": "execute_result",
          "data": {
            "text/plain": [
              "21"
            ]
          },
          "metadata": {},
          "execution_count": 56
        }
      ]
    },
    {
      "cell_type": "code",
      "source": [
        "np.sum(test_labels == 1)"
      ],
      "metadata": {
        "colab": {
          "base_uri": "https://localhost:8080/"
        },
        "id": "E-1tFkcNXru0",
        "outputId": "9ab5bd70-4900-46a4-e567-022a3b447c61"
      },
      "execution_count": null,
      "outputs": [
        {
          "output_type": "execute_result",
          "data": {
            "text/plain": [
              "19"
            ]
          },
          "metadata": {},
          "execution_count": 57
        }
      ]
    },
    {
      "cell_type": "markdown",
      "source": [
        "Функції для ембедінгу тексту"
      ],
      "metadata": {
        "id": "BcNlleclxqOO"
      }
    },
    {
      "cell_type": "code",
      "source": [
        "def get_word_embedding(word, model, vocab):\n",
        "    if word in vocab.token_to_index:\n",
        "        return model.get_embeddings()[vocab.token_to_index[word]]\n",
        "\n",
        "    return torch.zeros(model.embed_dim).to('cuda')\n",
        "\n",
        "\n",
        "def encode_text(text, model, vocab, max_len=24):\n",
        "    tokens = preprocess(text)\n",
        "\n",
        "    embeddings = [get_word_embedding(token, model, vocab) for token in tokens[:max_len]]\n",
        "    embeddings = [emb.to('cuda') for emb in embeddings]\n",
        "\n",
        "    embeddings += [torch.zeros(model.embed_dim).to('cuda')] * (max_len - len(embeddings))  # Padding\n",
        "\n",
        "    return torch.stack(embeddings)"
      ],
      "metadata": {
        "id": "galFpBiI3O1u"
      },
      "execution_count": null,
      "outputs": []
    },
    {
      "cell_type": "markdown",
      "source": [
        "Проста модель LSTM для класифікації"
      ],
      "metadata": {
        "id": "fXrpqbJwxubB"
      }
    },
    {
      "cell_type": "code",
      "source": [
        "import torch.nn as nn\n",
        "\n",
        "\n",
        "class TextClassifier(nn.Module):\n",
        "    def __init__(self, embed_dim, hidden_dim, output_dim):\n",
        "        super(TextClassifier, self).__init__()\n",
        "        self.lstm = nn.LSTM(embed_dim, hidden_dim, batch_first=True)\n",
        "        self.fc = nn.Linear(hidden_dim, output_dim)\n",
        "\n",
        "    def forward(self, x):\n",
        "        _, (hidden, _) = self.lstm(x)\n",
        "        out = self.fc(hidden[-1])\n",
        "        return out\n",
        "\n",
        "\n",
        "hidden_dim = 64\n",
        "output_dim = 2\n",
        "\n",
        "model_classifier = TextClassifier(hyperparameters['EMBEDDING_DIMENSION'], hidden_dim, output_dim).to('cuda')\n",
        "criterion = nn.CrossEntropyLoss()\n",
        "optimizer = torch.optim.Adam(model_classifier.parameters(), lr=0.01)"
      ],
      "metadata": {
        "id": "SLk_7muJ3XZZ"
      },
      "execution_count": null,
      "outputs": []
    },
    {
      "cell_type": "code",
      "source": [
        "from torch.utils.data import TensorDataset, DataLoader\n",
        "\n",
        "\n",
        "train_embeddings = torch.stack([encode_text(text, model, vocab) for text in train_texts])\n",
        "test_embeddings = torch.stack([encode_text(text, model, vocab) for text in test_texts])\n",
        "\n"
      ],
      "metadata": {
        "id": "vRNOAwGM5B6T"
      },
      "execution_count": null,
      "outputs": []
    },
    {
      "cell_type": "markdown",
      "source": [
        "Створив даталоадери"
      ],
      "metadata": {
        "id": "wHwINCIRx8Er"
      }
    },
    {
      "cell_type": "code",
      "source": [
        "train_labels = torch.tensor(train_labels).to('cuda')\n",
        "test_labels = torch.tensor(test_labels).to('cuda')\n",
        "\n",
        "train_data = TensorDataset(train_embeddings, train_labels)\n",
        "test_data = TensorDataset(test_embeddings, test_labels)\n",
        "\n",
        "train_loader = DataLoader(train_data, batch_size=32, shuffle=True)\n",
        "test_loader = DataLoader(test_data, batch_size=32)"
      ],
      "metadata": {
        "id": "8HXRVlwSVMw5"
      },
      "execution_count": null,
      "outputs": []
    },
    {
      "cell_type": "markdown",
      "source": [
        "Трейн луп"
      ],
      "metadata": {
        "id": "pA3lFHuvx5sS"
      }
    },
    {
      "cell_type": "code",
      "source": [
        "for epoch in range(10):\n",
        "    model_classifier.train()\n",
        "    epoch_loss = 0\n",
        "    for texts, labels in train_loader:\n",
        "        optimizer.zero_grad()\n",
        "        outputs = model_classifier(texts)\n",
        "        loss = criterion(outputs, labels)\n",
        "        loss.backward()\n",
        "        optimizer.step()\n",
        "        epoch_loss += loss.item()\n",
        "\n",
        "    print(f'Epoch {epoch+1}, Loss: {epoch_loss/len(train_loader)}')"
      ],
      "metadata": {
        "id": "9repbiOe5Ufi",
        "colab": {
          "base_uri": "https://localhost:8080/"
        },
        "outputId": "1007a302-edb0-47a7-b143-fd1a81b6fd56"
      },
      "execution_count": null,
      "outputs": [
        {
          "output_type": "stream",
          "name": "stdout",
          "text": [
            "Epoch 1, Loss: 0.7080628871917725\n",
            "Epoch 2, Loss: 0.5378948748111725\n",
            "Epoch 3, Loss: 0.36480011641979215\n",
            "Epoch 4, Loss: 0.19136251956224443\n",
            "Epoch 5, Loss: 0.07322391495108604\n",
            "Epoch 6, Loss: 0.016830880381166934\n",
            "Epoch 7, Loss: 0.0051129660569131374\n",
            "Epoch 8, Loss: 0.004269997216761112\n",
            "Epoch 9, Loss: 0.006158409186173231\n",
            "Epoch 10, Loss: 0.005454325466416776\n"
          ]
        }
      ]
    },
    {
      "cell_type": "code",
      "source": [
        "model_classifier.eval()\n",
        "correct = 0\n",
        "total = 0\n",
        "with torch.no_grad():\n",
        "    for texts, labels in test_loader:\n",
        "        outputs = model_classifier(texts)\n",
        "        _, predicted = torch.max(outputs, 1)\n",
        "        total += labels.size(0)\n",
        "        correct += (predicted == labels).sum().item()\n",
        "\n",
        "print(f'Accuracy: {100 * correct / total}%')\n"
      ],
      "metadata": {
        "id": "UJVdd-pw3lJy",
        "colab": {
          "base_uri": "https://localhost:8080/"
        },
        "outputId": "9c14222d-f917-4529-cd31-8192fb5ab69e"
      },
      "execution_count": null,
      "outputs": [
        {
          "output_type": "stream",
          "name": "stdout",
          "text": [
            "Accuracy: 75.0%\n"
          ]
        }
      ]
    },
    {
      "cell_type": "code",
      "source": [
        "from sklearn.metrics import classification_report\n",
        "\n",
        "\n",
        "all_preds = []\n",
        "all_labels = []\n",
        "\n",
        "model_classifier.eval()\n",
        "with torch.no_grad():\n",
        "    for texts, labels in test_loader:\n",
        "        outputs = model_classifier(texts)\n",
        "        _, predicted = torch.max(outputs, 1)\n",
        "        all_preds.extend(predicted.cpu().numpy())\n",
        "        all_labels.extend(labels.cpu().numpy())"
      ],
      "metadata": {
        "id": "y0CaixHd-LqZ"
      },
      "execution_count": null,
      "outputs": []
    },
    {
      "cell_type": "markdown",
      "source": [
        "Вивів матрицю невідповідності + інші метрики, загалом як для 3 епох і відносно невеликого корпусу даних вийшло доволі непогано"
      ],
      "metadata": {
        "id": "QsOsdD-vyASJ"
      }
    },
    {
      "cell_type": "code",
      "source": [
        "import matplotlib.pyplot as plt\n",
        "import seaborn as sns\n",
        "from sklearn.metrics import confusion_matrix, classification_report\n",
        "\n",
        "cm = confusion_matrix(all_labels, all_preds)\n",
        "\n",
        "plt.figure(figsize=(8, 6))\n",
        "sns.heatmap(cm, annot=True, fmt='d', cmap='Blues', xticklabels=['soc.religion.christian', 'talk.politics.guns'], yticklabels=['soc.religion.christian', 'talk.politics.guns'])\n",
        "plt.xlabel('Predicted')\n",
        "plt.ylabel('True')\n",
        "plt.title('Confusion Matrix')\n",
        "plt.show()\n",
        "\n",
        "print(classification_report(all_labels, all_preds, target_names=['soc.religion.christian', 'talk.politics.guns']))\n"
      ],
      "metadata": {
        "colab": {
          "base_uri": "https://localhost:8080/",
          "height": 720
        },
        "id": "rE-Qn-o_WDpp",
        "outputId": "2fbddc03-63ee-4023-e7cf-5ed1538d2056"
      },
      "execution_count": null,
      "outputs": [
        {
          "output_type": "display_data",
          "data": {
            "text/plain": [
              "<Figure size 800x600 with 2 Axes>"
            ],
            "image/png": "[encoded data removed]"
          },
          "metadata": {}
        },
        {
          "output_type": "stream",
          "name": "stdout",
          "text": [
            "                        precision    recall  f1-score   support\n",
            "\n",
            "soc.religion.christian       0.69      0.95      0.80        21\n",
            "    talk.politics.guns       0.91      0.53      0.67        19\n",
            "\n",
            "              accuracy                           0.75        40\n",
            "             macro avg       0.80      0.74      0.73        40\n",
            "          weighted avg       0.79      0.75      0.74        40\n",
            "\n"
          ]
        }
      ]
    },
    {
      "cell_type": "markdown",
      "source": [
        "Лінк на ембедінги: https://drive.google.com/file/d/1QjOLE6ux7l2GnpplN0tOua8Dm9wzaIfd/view?usp=sharing\n",
        "\n",
        "Лінк на словник: https://drive.google.com/file/d/1olHPfLKM7NjRpY3hmw0_jFDmHxVU7EQQ/view?usp=sharing"
      ],
      "metadata": {
        "id": "h_ps1VwPyYhu"
      }
    }
  ]
}