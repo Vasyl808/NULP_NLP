{
  "nbformat": 4,
  "nbformat_minor": 0,
  "metadata": {
    "colab": {
      "provenance": [],
      "gpuType": "T4",
      "include_colab_link": true
    },
    "kernelspec": {
      "name": "python3",
      "display_name": "Python 3"
    },
    "language_info": {
      "name": "python"
    },
    "accelerator": "GPU"
  },
  "cells": [
    {
      "cell_type": "markdown",
      "metadata": {
        "id": "view-in-github",
        "colab_type": "text"
      },
      "source": [
        "<a href=\"https://colab.research.google.com/github/Vasyl808/NULP_NLP/blob/main/LPNLP06_Spellchecker_quest.ipynb\" target=\"_parent\"><img src=\"https://colab.research.google.com/assets/colab-badge.svg\" alt=\"Open In Colab\"/></a>"
      ]
    },
    {
      "cell_type": "markdown",
      "source": [
        "# Spellchecker quest\n",
        "\n",
        "Хтось наробив помилок у віршах Тараса Шевченка. Наша задача -- виправити ці помилки і прочитати приховане повідомлення.\n",
        "\n",
        "## Задача\n",
        "\n",
        "Ви отримаєте тренувальні та тестувальні дані.\n",
        "\n",
        "Тренувальні дані знаходяться в полі `lab.train_text`. Це звичайний нерозмічений текст. На ньому необхідно натренувати мовну модель. Підійде будь-яка. Я би радив feed-forward нейрону модель з токенізацією по літерах, бо це те, що ми проходили на останній лекції. Але n-грамна теж має спрацювати.\n",
        "\n",
        "Тестувальні дані знаходиться в полі `lab.test_items`. Приклад одного елемента:\n",
        "\n",
        "```json\n",
        "{\n",
        "  \"text\": \"Співали б прозу, та по ножах,\",\n",
        "  \"error_start\": 23,\n",
        "  \"error_end\": 28,\n",
        "  \"error\": \"ножах\",\n",
        "  \"corrections\": [\n",
        "    \"ногах\",\n",
        "    \"йотах\",\n",
        "    \"єнотах\",\n",
        "    \"ножах\",\n",
        "    \"нотах\"\n",
        "  ]\n",
        "}\n",
        "```\n",
        "\n",
        "`error_start` та `error_end` вказують на місцезнаходження помилки в тексті (в символах). У данному прикладі, помилкою є `text[23:28]`, тобто слово \"ножах\".\n",
        "\n",
        "`corrections` -- це список можливих виправлень.\n",
        "\n",
        "Ваша задача -- обрати правильне виправлення серед запропонованих.\n",
        "\n",
        "\n",
        "## Приховане повідомлення\n",
        "\n",
        "Один приклад в `lab.test_items` дає можливість прочитати одну літеру прихованого повідомлення. Для цього знайдіть різницю між літерами слова з помилкою (`error`) та обраним виправленням. Надрукуйте цю літеру. Якщо слово з помилкою направді правильне, а таке теж буває, надрукуйте пробіл. Приклади:\n",
        "\n",
        "```\n",
        "Error               Correction     To print\n",
        "-------------------------------------------\n",
        "привіт               приліт        л\n",
        "пні                  поні          о\n",
        "баллет               балет         л\n",
        "привіт               привіт        (space)\n",
        "```\n",
        "\n",
        "Приховане повідомлення, яке ви побачите в результаті це рядок з віршу одного з українських авторів.\n",
        "\n",
        "Відповідь на квест -- ім'я автора/ки у форматі \"Ім'я Прізвище\".\n",
        "\n",
        "Полетіли! 🚀"
      ],
      "metadata": {
        "id": "L-Z5-FrvSNPR"
      }
    },
    {
      "cell_type": "code",
      "source": [
        "!pip install --quiet --ignore-installed http://nlp.band/static/pypy/lpnlp-2023.10.2-py3-none-any.whl"
      ],
      "metadata": {
        "id": "qa35VG1zj2wR",
        "colab": {
          "base_uri": "https://localhost:8080/"
        },
        "outputId": "b951300c-c61e-4df1-eb17-feb4730b9b7d"
      },
      "execution_count": 1,
      "outputs": [
        {
          "output_type": "stream",
          "name": "stdout",
          "text": [
            "\u001b[?25l   \u001b[90m━━━━━━━━━━━━━━━━━━━━━━━━━━━━━━━━━━━━━━━━\u001b[0m \u001b[32m0.0/144.8 kB\u001b[0m \u001b[31m?\u001b[0m eta \u001b[36m-:--:--\u001b[0m\r\u001b[2K   \u001b[90m━━━━━━━━━━━━━━━━━━━━━━━━━━━━━━━━━━━━━━━━\u001b[0m \u001b[32m144.8/144.8 kB\u001b[0m \u001b[31m6.1 MB/s\u001b[0m eta \u001b[36m0:00:00\u001b[0m\n",
            "\u001b[?25h"
          ]
        }
      ]
    },
    {
      "cell_type": "code",
      "source": [
        "import lpnlp\n",
        "\n",
        "lab = lpnlp.start(\n",
        "    email=\"vasyl.hunia.kn.2021@lpnu.ua\",                   # <----------- Заповніть це поле\n",
        "    lab=\"quest_spellchecker\"\n",
        ")"
      ],
      "metadata": {
        "id": "DjClbL-Hmcaq",
        "colab": {
          "base_uri": "https://localhost:8080/"
        },
        "outputId": "a2f1f59f-05e1-4209-bc13-a53eea4f3422"
      },
      "execution_count": 2,
      "outputs": [
        {
          "output_type": "stream",
          "name": "stdout",
          "text": [
            "Удачі!\n"
          ]
        }
      ]
    },
    {
      "cell_type": "markdown",
      "source": [
        "## Мовна модель\n",
        "\n",
        "Натренуйте свою мовну модель тут"
      ],
      "metadata": {
        "id": "CkQ69irsm_Ci"
      }
    },
    {
      "cell_type": "code",
      "source": [
        "print(lab.train_text[:330])"
      ],
      "metadata": {
        "id": "DsyqC9fPnMGa",
        "colab": {
          "base_uri": "https://localhost:8080/"
        },
        "outputId": "e767fd77-9a6a-439d-97b6-7fab7e3021b3"
      },
      "execution_count": 3,
      "outputs": [
        {
          "output_type": "stream",
          "name": "stdout",
          "text": [
            "﻿ПРИЧИННА\r\n",
            "\r\n",
            "Реве та стогне Дніпр широкий,\r\n",
            "Сердитий вітер завива,\r\n",
            "Додолу верби гне високі,\r\n",
            "Горами хвилю підійма.\r\n",
            "І блідий місяць на ту пору\r\n",
            "Із хмари де-де виглядав,\r\n",
            "Неначе човен в синім морі,\r\n",
            "То виринав, то потопав.\r\n",
            "Ще треті півні не співали,\r\n",
            "Ніхто нігде не гомонів,\r\n",
            "Сичі в гаю перекликались,\r\n",
            "Та ясен раз у раз скрипів.\n"
          ]
        }
      ]
    },
    {
      "cell_type": "code",
      "source": [
        "import torch\n",
        "from torch import nn\n",
        "from tqdm import tqdm\n",
        "import collections"
      ],
      "metadata": {
        "id": "R5cSnnnvXPXW"
      },
      "execution_count": 4,
      "outputs": []
    },
    {
      "cell_type": "markdown",
      "source": [
        "Клас для словника"
      ],
      "metadata": {
        "id": "VwgTIUdfW568"
      }
    },
    {
      "cell_type": "code",
      "source": [
        "class Vocabulary:\n",
        "    def __init__(self, tokens, unk_token=\"<UNK>\", min_count=None):\n",
        "        if min_count is None:\n",
        "            min_count = 0\n",
        "\n",
        "        count = collections.Counter(tokens)\n",
        "        tokens = [w for w, c in count.most_common() if c >= min_count]\n",
        "\n",
        "        self._itos = list(tokens)\n",
        "        self.unk_token = unk_token\n",
        "        try:\n",
        "            self.unk_index = self._itos.index(unk_token)\n",
        "        except ValueError:\n",
        "            self._itos.insert(0, unk_token)\n",
        "            self.unk_index = 0\n",
        "\n",
        "        self._stoi = {token: index for index, token in enumerate(self._itos)}\n",
        "\n",
        "    def stoi(self, token: str) -> int:\n",
        "        return self._stoi.get(token, self.unk_index)\n",
        "\n",
        "    def itos(self, index: int) -> str:\n",
        "        return self._itos[index]\n",
        "\n",
        "    def __getitem__(self, key):\n",
        "        if isinstance(key, str):\n",
        "            return self.stoi(key)\n",
        "        elif isinstance(key, int):\n",
        "            return self.itos(key)\n",
        "        raise TypeError(\"Unsupported key type\")\n",
        "\n",
        "    def get(self, key, default=None):\n",
        "        return self._stoi.get(key, default)\n",
        "\n",
        "    @property\n",
        "    def tokens(self):\n",
        "        return self._itos\n",
        "\n",
        "    def __len__(self) -> int:\n",
        "        return len(self._itos)"
      ],
      "metadata": {
        "id": "qZRyaxrpW3NP"
      },
      "execution_count": 5,
      "outputs": []
    },
    {
      "cell_type": "markdown",
      "source": [
        "Клас моделі взяв з лекції"
      ],
      "metadata": {
        "id": "CNixuFKSXD6s"
      }
    },
    {
      "cell_type": "code",
      "source": [
        "class BengioLMModel(nn.Module):\n",
        "    def __init__(\n",
        "          self,\n",
        "          vocab_size: int,\n",
        "          embed_dim: int,\n",
        "          context_len: int,\n",
        "          hidden_dim: int\n",
        "        ) -> None:\n",
        "\n",
        "        super().__init__()\n",
        "\n",
        "        self.vocab_size = vocab_size\n",
        "        self.embed_dim = embed_dim\n",
        "        self.context_len = context_len\n",
        "        self.hidden_dim = hidden_dim\n",
        "\n",
        "        self.embed = nn.Embedding(vocab_size, embed_dim)\n",
        "        self.W = nn.Linear(context_len * embed_dim, hidden_dim)\n",
        "        self.U = nn.Linear(hidden_dim, vocab_size)\n",
        "\n",
        "    def forward(self, X_indexes: torch.tensor):\n",
        "        X = self.embed(X_indexes)\n",
        "        e = X.view(-1, self.context_len * self.embed_dim)\n",
        "\n",
        "        h = torch.tanh(self.W(e))\n",
        "        logits = self.U(h)\n",
        "\n",
        "        log_probs = torch.log_softmax(logits, dim=-1)\n",
        "\n",
        "        return log_probs"
      ],
      "metadata": {
        "id": "-JHrL5cTXDam"
      },
      "execution_count": 238,
      "outputs": []
    },
    {
      "cell_type": "markdown",
      "source": [
        "Допоміжні функції для токенізації, векторизації, підготовки тренувальних семплів, батчінгу"
      ],
      "metadata": {
        "id": "K4ViJ2-2YFzZ"
      }
    },
    {
      "cell_type": "code",
      "source": [
        "from typing import Iterable, List, Tuple, Dict, Union\n",
        "\n",
        "\n",
        "def vectorize(tokens: Iterable[str], vocab: Vocabulary) -> torch.tensor:\n",
        "   X = torch.tensor([vocab.stoi(token) for token in tokens])\n",
        "   return X\n",
        "\n",
        "\n",
        "def prepare_data(tokens: List[str], context_len: int):\n",
        "    for i in range(context_len, len(tokens)):\n",
        "        context = tokens[i - context_len:i]\n",
        "        target = tokens[i]\n",
        "\n",
        "        yield context, target\n",
        "\n",
        "\n",
        "def tokenize(text: str) -> List[str]:\n",
        "   return list(text.lower())\n",
        "\n",
        "\n",
        "def batch_it(xs, batch_size):\n",
        "    batch = []\n",
        "\n",
        "    for x in xs:\n",
        "        batch.append(x)\n",
        "        if len(batch) == batch_size:\n",
        "            yield batch\n",
        "            batch = []\n",
        "\n",
        "    if batch:\n",
        "        yield batch"
      ],
      "metadata": {
        "id": "7Y0__0fbYCKS"
      },
      "execution_count": 239,
      "outputs": []
    },
    {
      "cell_type": "code",
      "source": [
        "train_text_tokens = tokenize(lab.train_text)\n",
        "vocab = Vocabulary(train_text_tokens)\n",
        "len(vocab)"
      ],
      "metadata": {
        "id": "tFb93XK8ErR7",
        "colab": {
          "base_uri": "https://localhost:8080/"
        },
        "outputId": "e82d3da0-b84a-4f84-8157-86f7f1acc26a"
      },
      "execution_count": 240,
      "outputs": [
        {
          "output_type": "execute_result",
          "data": {
            "text/plain": [
              "82"
            ]
          },
          "metadata": {},
          "execution_count": 240
        }
      ]
    },
    {
      "cell_type": "markdown",
      "source": [
        "Гіперпараметри моделі"
      ],
      "metadata": {
        "id": "6Ry8WADtaAlX"
      }
    },
    {
      "cell_type": "code",
      "source": [
        "hparams: Dict[str, Union[float, int]] = {\n",
        "    \"vocab_size\": len(vocab),\n",
        "    \"embed_dim\": 64,\n",
        "    \"context_len\": 16,\n",
        "    \"hidden_dim\": 128,\n",
        "    \"learning_rate\": 0.001,\n",
        "    \"num_epochs\": 20,\n",
        "    \"batch_size\": 1024\n",
        "}"
      ],
      "metadata": {
        "id": "RJYr8TCGZlqR"
      },
      "execution_count": 241,
      "outputs": []
    },
    {
      "cell_type": "code",
      "source": [
        "model = BengioLMModel(\n",
        "    vocab_size=hparams.get(\"vocab_size\"),\n",
        "    embed_dim=hparams.get(\"embed_dim\"),\n",
        "    context_len=hparams.get(\"context_len\"),\n",
        "    hidden_dim=hparams.get(\"hidden_dim\")\n",
        ")\n"
      ],
      "metadata": {
        "id": "8DZnX8XraGZj"
      },
      "execution_count": 242,
      "outputs": []
    },
    {
      "cell_type": "markdown",
      "source": [
        "Трейн луп"
      ],
      "metadata": {
        "id": "IAPn1rRRa0Y8"
      }
    },
    {
      "cell_type": "code",
      "source": [
        "def train(\n",
        "    vocabulary: Vocabulary,\n",
        "    model: nn.Module,\n",
        "    parms: Dict[str, Union[float, int]],\n",
        "    text_tokens: List[str]\n",
        "):\n",
        "    device = torch.device(\"cuda\" if torch.cuda.is_available() else \"cpu\")\n",
        "    print(device)\n",
        "    model = model.to(device)\n",
        "\n",
        "    optimizer = torch.optim.Adam(\n",
        "        model.parameters(),\n",
        "        lr=parms.get(\"learning_rate\")\n",
        "    )\n",
        "\n",
        "    loss_fn = nn.NLLLoss()\n",
        "\n",
        "    model.train()\n",
        "\n",
        "    for epoch in range(parms.get(\"num_epochs\")):\n",
        "        total_loss = 0.0\n",
        "        examples = prepare_data(text_tokens, parms.get(\"context_len\"))\n",
        "        examples = list(examples)\n",
        "\n",
        "        for batch in tqdm(batch_it(examples, batch_size=parms.get(\"batch_size\")), leave=False):\n",
        "            X_batch = torch.stack([vectorize(context, vocabulary) for context, target in batch]).to(device)\n",
        "            y_batch = torch.tensor([vectorize([target], vocabulary) for context, target in batch]).to(device)\n",
        "\n",
        "            optimizer.zero_grad()\n",
        "\n",
        "            log_probs = model(X_batch)\n",
        "            loss = loss_fn(log_probs, y_batch)\n",
        "\n",
        "            loss.backward()\n",
        "            optimizer.step()\n",
        "\n",
        "            total_loss += loss.sum().item()\n",
        "\n",
        "        print(f\" Epoch: {epoch + 1} Loss: {total_loss / len(examples)}\")\n"
      ],
      "metadata": {
        "id": "hJMeRSLTaMrZ"
      },
      "execution_count": 243,
      "outputs": []
    },
    {
      "cell_type": "code",
      "source": [
        "train(vocab, model, hparams, train_text_tokens)"
      ],
      "metadata": {
        "colab": {
          "base_uri": "https://localhost:8080/"
        },
        "id": "1gjw7nuvazve",
        "outputId": "3c1097ec-3054-4473-9d68-09a5d1cdbf2a"
      },
      "execution_count": 244,
      "outputs": [
        {
          "output_type": "stream",
          "name": "stdout",
          "text": [
            "cuda\n"
          ]
        },
        {
          "output_type": "stream",
          "name": "stderr",
          "text": []
        },
        {
          "output_type": "stream",
          "name": "stdout",
          "text": [
            " Epoch: 1 Loss: 0.002433988686691675\n"
          ]
        },
        {
          "output_type": "stream",
          "name": "stderr",
          "text": []
        },
        {
          "output_type": "stream",
          "name": "stdout",
          "text": [
            " Epoch: 2 Loss: 0.0021134421347204294\n"
          ]
        },
        {
          "output_type": "stream",
          "name": "stderr",
          "text": []
        },
        {
          "output_type": "stream",
          "name": "stdout",
          "text": [
            " Epoch: 3 Loss: 0.0020151221131619566\n"
          ]
        },
        {
          "output_type": "stream",
          "name": "stderr",
          "text": []
        },
        {
          "output_type": "stream",
          "name": "stdout",
          "text": [
            " Epoch: 4 Loss: 0.001952909519565965\n"
          ]
        },
        {
          "output_type": "stream",
          "name": "stderr",
          "text": []
        },
        {
          "output_type": "stream",
          "name": "stdout",
          "text": [
            " Epoch: 5 Loss: 0.00190830927806889\n"
          ]
        },
        {
          "output_type": "stream",
          "name": "stderr",
          "text": []
        },
        {
          "output_type": "stream",
          "name": "stdout",
          "text": [
            " Epoch: 6 Loss: 0.0018743852616604215\n"
          ]
        },
        {
          "output_type": "stream",
          "name": "stderr",
          "text": []
        },
        {
          "output_type": "stream",
          "name": "stdout",
          "text": [
            " Epoch: 7 Loss: 0.001847649010130913\n"
          ]
        },
        {
          "output_type": "stream",
          "name": "stderr",
          "text": []
        },
        {
          "output_type": "stream",
          "name": "stdout",
          "text": [
            " Epoch: 8 Loss: 0.0018258690209584554\n"
          ]
        },
        {
          "output_type": "stream",
          "name": "stderr",
          "text": []
        },
        {
          "output_type": "stream",
          "name": "stdout",
          "text": [
            " Epoch: 9 Loss: 0.0018075430534111175\n"
          ]
        },
        {
          "output_type": "stream",
          "name": "stderr",
          "text": []
        },
        {
          "output_type": "stream",
          "name": "stdout",
          "text": [
            " Epoch: 10 Loss: 0.0017917589399632575\n"
          ]
        },
        {
          "output_type": "stream",
          "name": "stderr",
          "text": []
        },
        {
          "output_type": "stream",
          "name": "stdout",
          "text": [
            " Epoch: 11 Loss: 0.0017779555023922278\n"
          ]
        },
        {
          "output_type": "stream",
          "name": "stderr",
          "text": []
        },
        {
          "output_type": "stream",
          "name": "stdout",
          "text": [
            " Epoch: 12 Loss: 0.0017657195536549732\n"
          ]
        },
        {
          "output_type": "stream",
          "name": "stderr",
          "text": []
        },
        {
          "output_type": "stream",
          "name": "stdout",
          "text": [
            " Epoch: 13 Loss: 0.0017547516869295548\n"
          ]
        },
        {
          "output_type": "stream",
          "name": "stderr",
          "text": []
        },
        {
          "output_type": "stream",
          "name": "stdout",
          "text": [
            " Epoch: 14 Loss: 0.001744835621781395\n"
          ]
        },
        {
          "output_type": "stream",
          "name": "stderr",
          "text": []
        },
        {
          "output_type": "stream",
          "name": "stdout",
          "text": [
            " Epoch: 15 Loss: 0.0017358270801269477\n"
          ]
        },
        {
          "output_type": "stream",
          "name": "stderr",
          "text": []
        },
        {
          "output_type": "stream",
          "name": "stdout",
          "text": [
            " Epoch: 16 Loss: 0.001727607505338976\n"
          ]
        },
        {
          "output_type": "stream",
          "name": "stderr",
          "text": []
        },
        {
          "output_type": "stream",
          "name": "stdout",
          "text": [
            " Epoch: 17 Loss: 0.0017200670432421928\n"
          ]
        },
        {
          "output_type": "stream",
          "name": "stderr",
          "text": []
        },
        {
          "output_type": "stream",
          "name": "stdout",
          "text": [
            " Epoch: 18 Loss: 0.0017131126241331362\n"
          ]
        },
        {
          "output_type": "stream",
          "name": "stderr",
          "text": []
        },
        {
          "output_type": "stream",
          "name": "stdout",
          "text": [
            " Epoch: 19 Loss: 0.0017066649967349893\n"
          ]
        },
        {
          "output_type": "stream",
          "name": "stderr",
          "text": [
            "                        "
          ]
        },
        {
          "output_type": "stream",
          "name": "stdout",
          "text": [
            " Epoch: 20 Loss: 0.0017006423868915258\n"
          ]
        },
        {
          "output_type": "stream",
          "name": "stderr",
          "text": [
            "\r"
          ]
        }
      ]
    },
    {
      "cell_type": "markdown",
      "source": [
        "Гіперпараметри з якими точність була 60%"
      ],
      "metadata": {
        "id": "aAkihB3w0jSu"
      }
    },
    {
      "cell_type": "code",
      "source": [
        "print(hparams)"
      ],
      "metadata": {
        "colab": {
          "base_uri": "https://localhost:8080/"
        },
        "id": "vI_GY2NYvB-l",
        "outputId": "90f6b518-2031-41a1-95dd-47d33ba06d6e"
      },
      "execution_count": 97,
      "outputs": [
        {
          "output_type": "stream",
          "name": "stdout",
          "text": [
            "{'vocab_size': 82, 'embed_dim': 100, 'context_len': 16, 'hidden_dim': 128, 'learning_rate': 0.001, 'num_epochs': 10, 'batch_size': 64}\n"
          ]
        }
      ]
    },
    {
      "cell_type": "code",
      "source": [
        "print(hparams)"
      ],
      "metadata": {
        "colab": {
          "base_uri": "https://localhost:8080/"
        },
        "id": "vlURDAVGx7R4",
        "outputId": "043e33b0-8b57-4d48-b464-c545f22042b4"
      },
      "execution_count": 108,
      "outputs": [
        {
          "output_type": "stream",
          "name": "stdout",
          "text": [
            "{'vocab_size': 82, 'embed_dim': 100, 'context_len': 16, 'hidden_dim': 64, 'learning_rate': 0.001, 'num_epochs': 20, 'batch_size': 128}\n"
          ]
        }
      ]
    },
    {
      "cell_type": "code",
      "source": [
        "print(hparams)"
      ],
      "metadata": {
        "colab": {
          "base_uri": "https://localhost:8080/"
        },
        "id": "d6Cb_h1r1NeP",
        "outputId": "ae3aa88c-8b43-4596-c801-c91bf870b36f"
      },
      "execution_count": 118,
      "outputs": [
        {
          "output_type": "stream",
          "name": "stdout",
          "text": [
            "{'vocab_size': 82, 'embed_dim': 64, 'context_len': 16, 'hidden_dim': 64, 'learning_rate': 0.001, 'num_epochs': 20, 'batch_size': 256}\n"
          ]
        }
      ]
    },
    {
      "cell_type": "markdown",
      "source": [
        "65%"
      ],
      "metadata": {
        "id": "yk00RA-F5JN-"
      }
    },
    {
      "cell_type": "code",
      "source": [
        "print(hparams)"
      ],
      "metadata": {
        "colab": {
          "base_uri": "https://localhost:8080/"
        },
        "id": "y5kepskh5ITy",
        "outputId": "558d307c-5555-4df4-ba69-37e1feaa6b24"
      },
      "execution_count": 136,
      "outputs": [
        {
          "output_type": "stream",
          "name": "stdout",
          "text": [
            "{'vocab_size': 82, 'embed_dim': 64, 'context_len': 16, 'hidden_dim': 64, 'learning_rate': 0.001, 'num_epochs': 20, 'batch_size': 128}\n"
          ]
        }
      ]
    },
    {
      "cell_type": "code",
      "source": [
        "print(hparams)"
      ],
      "metadata": {
        "colab": {
          "base_uri": "https://localhost:8080/"
        },
        "id": "UZ1k24NcByq9",
        "outputId": "7c68bc07-2fc8-48b9-e318-3f60c73a9237"
      },
      "execution_count": 171,
      "outputs": [
        {
          "output_type": "stream",
          "name": "stdout",
          "text": [
            "{'vocab_size': 82, 'embed_dim': 64, 'context_len': 16, 'hidden_dim': 128, 'learning_rate': 0.001, 'num_epochs': 20, 'batch_size': 1024}\n"
          ]
        }
      ]
    },
    {
      "cell_type": "markdown",
      "source": [
        "# Читаємо між рядків"
      ],
      "metadata": {
        "id": "USBCYglkn_WO"
      }
    },
    {
      "cell_type": "code",
      "source": [
        "import math\n",
        "import collections\n",
        "from typing import List, Tuple\n",
        "\n",
        "\n",
        "# Допоміжна фунція:\n",
        "def get_letter(w1: str, w2: str) -> str:\n",
        "    \"\"\"Повертає літеру, якої відрізняються слова або пробіл для однакових слів.\n",
        "    \"\"\"\n",
        "\n",
        "    letters1 = collections.Counter(w1)\n",
        "    letters2 = collections.Counter(w2)\n",
        "\n",
        "    diff = letters1 - letters2\n",
        "    if len(diff) != 1:\n",
        "        return \" \"\n",
        "\n",
        "    return diff.most_common()[0][0]\n",
        "\n",
        "\n",
        "def score_text(text: str, model, vocab, metric_type: str, device) -> float:\n",
        "    \"\"\"Повертає perplexity або log-probability для тексту.\"\"\"\n",
        "\n",
        "    tokens = tokenize(text)\n",
        "\n",
        "    total_log_prob = 0.0\n",
        "\n",
        "    for context, target in prepare_data(tokens, model.context_len):\n",
        "        X = vectorize(context, vocab).to(device)\n",
        "        target = vectorize([target], vocab)[0].to(device)\n",
        "        log_probs = model(X)\n",
        "        target_log_prob = log_probs[0, target]\n",
        "        total_log_prob += target_log_prob\n",
        "\n",
        "    if metric_type == 'perplexity':\n",
        "        return torch.exp(-total_log_prob / len(tokens)).item()\n",
        "    elif metric_type == 'log-probability':\n",
        "        return -(total_log_prob / len(tokens)).item()\n",
        "    else:\n",
        "        raise ValueError(\"Invalid metric_type. Choose either 'perplexity' or 'log-probability'.\")\n",
        "\n",
        "\n",
        "# Можете змінювати параметри та весь цей код, якщо потрібно\n",
        "def solve(model, vocab, test_items) -> Tuple[List[str], str]:\n",
        "    \"\"\"Повертає список виправлених слів для кожного з текстів в test_items та\n",
        "    секретне повідомлення.\n",
        "    \"\"\"\n",
        "\n",
        "    choices = []\n",
        "    secret = []\n",
        "\n",
        "    device = next(model.parameters()).device\n",
        "\n",
        "    for item in test_items:\n",
        "        scores = []\n",
        "        for corr in item['corrections']:\n",
        "\n",
        "            # Підставляємо слово-кандидат в текст\n",
        "            text = item['text'][:item['error_start']] + corr + item['text'][item['error_end']:]\n",
        "\n",
        "            # Рахуємо score тексту\n",
        "            score = score_text(text, model, vocab, 'perplexity', device)\n",
        "            scores.append(score)\n",
        "\n",
        "            print(f'{score:.4f} {text}')\n",
        "\n",
        "        # Сортуємо кандидатів на виправлення за score\n",
        "        result = sorted(zip(scores, item['corrections']), key=lambda x: x[0])\n",
        "\n",
        "        # Обираємо найкращу заміну\n",
        "        best = result[0]\n",
        "        best_word = best[1]\n",
        "        choices.append(best_word)\n",
        "\n",
        "        # Знаходимо чергову літеру повідомлення\n",
        "        error = item['error']\n",
        "        letter = get_letter(error, best_word)\n",
        "        secret.append(letter)\n",
        "\n",
        "    secret_message = ''.join(secret)\n",
        "\n",
        "    return choices, secret_message\n",
        "\n",
        "choices, secret_message = solve(model, vocab, lab.test_items)\n",
        "\n",
        "lab.evaluate_accuracy(choices)\n",
        "print(\"SECRET MESSAGE: \", secret_message)\n"
      ],
      "metadata": {
        "id": "suXDePt3pLZ7",
        "colab": {
          "base_uri": "https://localhost:8080/"
        },
        "outputId": "0f0cc7cf-6016-4c84-8a26-1db5d9807564"
      },
      "execution_count": 245,
      "outputs": [
        {
          "output_type": "stream",
          "name": "stdout",
          "text": [
            "2.5933 Сховалося, і смеркло в полін.\n",
            "2.5661 Сховалося, і смеркло в полії.\n",
            "1.9393 Сховалося, і смеркло в полі.\n",
            "3.3460 Сховалося, і смеркло в полбі.\n",
            "2.3067 Сховалося, і смеркло в політ.\n",
            "2.3299 Сорочечки. А потім в жаті\n",
            "1.8183 Сорочечки. А потім в хаті\n",
            "2.6682 Сорочечки. А потім в хатні\n",
            "1.9833 Сорочечки. А потім в гаті\n",
            "2.2113 Сорочечки. А потім в хеті\n",
            "1.9292 Вона той тихий божий став,\n",
            "1.8993 Вона той тихий божий страв,\n",
            "2.0770 Вона той тихий божий стан,\n",
            "2.5571 Вона той тихий божий стад,\n",
            "1.7535 А тих, що бачать над собою\n",
            "2.0432 А тих, що бачать над соболю\n",
            "1.9895 А тих, що бачать над собор\n",
            "1.9817 А тих, що бачать над побою\n",
            "2.5368 І ти, як палець той, зосталась\n",
            "2.2460 І ти, як палець той, посталась\n",
            "2.4290 І ти, як палець той, остались\n",
            "2.2283 І ти, як палець той, осталась\n",
            "3.1622 В своїй крові. Плац великий\n",
            "2.6789 В своїй крові. Пліч великий\n",
            "2.2955 В своїй крові. Плач великий\n",
            "2.7030 В своїй крові. Плат великий\n",
            "2.5012 Широкий Дніпре, не залий!\n",
            "2.4639 Широкий Дніпре, не малин!\n",
            "2.6898 Широкий Дніпре, не талий!\n",
            "2.0776 Широкий Дніпре, не малий!\n",
            "3.4088 Втомившись, пишуче закони,\n",
            "3.1741 Втомившись, пишучи закони,\n",
            "3.5993 Втомившись, пишучу закони,\n",
            "2.1223 Такий хороший та багатир!\n",
            "2.9321 Такий хороший та багатший!\n",
            "1.7801 Такий хороший та багатий!\n",
            "4.9292 Козу з козяточком з-пін гаю\n",
            "3.9434 Козу з козяточком з-під гаю\n",
            "4.4321 Козу з козяточком з-гід гаю\n",
            "5.0774 Козу з козяточком з-піп гаю\n",
            "3.1541 Підстережуть мас на тотеж,\n",
            "3.4093 Підстережуть вис на тотеж,\n",
            "3.3855 Підстережуть квас на тотеж,\n",
            "2.9957 Підстережуть вал на тотеж,\n",
            "3.0396 Підстережуть вас на тотеж,\n",
            "2.8373 Щоб я постіль весела-слала,\n",
            "3.0149 Щоб я постіль весела-слаба,\n",
            "3.4579 Щоб я постіль весела-склала,\n",
            "2.5497 Козу з козяточком женусь,\n",
            "2.6268 Козу з козяточком жнуть,\n",
            "1.9809 Козу з козяточком женуть,\n",
            "2.6804 Козу з козяточком зженуть,\n",
            "2.1520 Козу з козяточком женять,\n",
            "4.7433 На пам'ять 22 сентября 1859 робу\n",
            "4.8433 На пам'ять 22 сентября 1859 року\n",
            "5.2677 На пам'ять 22 сентября 1859 рогу\n",
            "6.0354 На пам'ять 22 сентября 1859 троку\n",
            "3.0159 Сумує, квилить, паче рано\n",
            "2.5607 Сумує, квилить, плече рано\n",
            "2.8199 Сумує, квилить, оплаче рано\n",
            "2.0130 Сумує, квилить, плаче рано\n",
            "2.3397 Сумує, квилить, плачеш рано\n",
            "2.4934 Утре сльози - все од нога -\n",
            "1.9947 Утре сльози - все од бога -\n",
            "2.5093 Утре сльози - все од убога -\n",
            "3.3308 Утре сльози - все од боа -\n",
            "2.8878 Утре сльози - все од бора -\n",
            "2.5924 Так жаль маленьких діток спало!\n",
            "2.5924 Так жаль маленьких діток слало!\n",
            "2.3714 Так жаль маленьких діток стало!\n",
            "2.9173 Так жаль маленьких діток сотало!\n",
            "2.4655 Так жаль маленьких діток сало!\n",
            "4.2582 Молитися богу? Мак думка не та!\n",
            "5.8196 Молитися богу? Такт думка не та!\n",
            "3.6548 Молитися богу? Так думка не та!\n",
            "3.9500 Молитися богу? Сак думка не та!\n",
            "4.1922 Молитися богу? Тек думка не та!\n",
            "2.6451 То не купав би я в калюці\n",
            "2.9675 То не купав би я в калюжні\n",
            "2.7636 То не купав би я в калюжі\n",
            "3.1122 То не купав би я в калюжці\n",
            "4.6630 Женуть (последний долг отдать),\n",
            "4.4441 Женуть (последний дог отдать),\n",
            "3.6356 Женуть (последний долі отдать),\n",
            "4.3046 Женуть (последний доль отдать),\n",
            "1.7685 В торбину мовчки половила\n",
            "1.8518 В торбину мовчки полонила\n",
            "1.6479 В торбину мовчки положила\n",
            "1.8972 В торбину мовчки воложила\n",
            "2.5387 І без царя вас, біднуватих,\n",
            "2.8061 І без царя вас, тіснуватих,\n",
            "2.4952 І без царя вас, біснуватих,\n",
            "2.3241 Коза з козятком коло їхати,\n",
            "2.1224 Коза з козятком коло хати,\n",
            "3.0168 Коза з козятком коло ахати,\n",
            "2.5809 Коза з козятком коло хети,\n",
            "2.6439 Коза з козятком коло хатин,\n",
            "2.9690 А з добрих молодих печей\n",
            "2.4102 А з добрих молодих плечей\n",
            "2.6481 А з добрих молодих плебей\n",
            "1.7210 Ходіте биться! Чи бороться,\n",
            "1.8912 Ходіте биться! Чи бореться,\n",
            "1.9236 Ходіте биться! Чи боріться,\n",
            "2.3400 Ходіте биться! Чи борються,\n",
            "3.6413 Святий тесляр. Мітла з востоку\n",
            "3.3482 Святий тесляр. Мітка з востоку\n",
            "3.4140 Святий тесляр. Мітила з востоку\n",
            "3.5184 Зустрівся гость святиш. Бур'ян,\n",
            "2.6421 Зустрівся гость святий. Бур'ян,\n",
            "3.2768 Зустрівся гость стятий. Бур'ян,\n",
            "1.9967 І гадки, праведний, не маєш,\n",
            "2.1789 І гадки, праведний, не лає,\n",
            "1.9345 І гадки, праведний, не має,\n",
            "1.8395 І гадки, праведний, не моє,\n",
            "2.1671 І гадки, праведний, не мак,\n",
            "2.9522 А пек тобі, забув, дурю,\n",
            "2.8234 А пек тобі, забув, дурію,\n",
            "2.4625 А пек тобі, забув, дурню,\n",
            "3.0774 А пек тобі, забув, дудню,\n",
            "4.5514 - То йди топись! - А жінка! Діри?\n",
            "3.7237 - То йди топись! - А жінка! Діти?\n",
            "4.3907 - То йди топись! - А жінка! Фіти?\n",
            "3.8652 - То йди топись! - А жінка! Віти?\n",
            "4.0948 - То йди топись! - А жінка! Піти?\n",
            "2.0180 Якби ти на світ не радивсь\n",
            "2.2910 Якби ти на світ не родивсь\n",
            "2.2536 Якби ти на світ не уродивсь\n",
            "1.8303 Якби ти на світ не ходивсь\n",
            "2.0822 В дитячій праведній крові!\n",
            "2.2026 В дитячій праведній кросі!\n",
            "3.0225 В дитячій праведній кроєві!\n",
            "2.4349 В дитячій праведній кропі!\n",
            "3.2063 Да зрить розтленная землян,\n",
            "2.2548 Да зрить розтленная земля,\n",
            "2.8519 Да зрить розтленная земляк,\n",
            "3.0121 Ще рік минув. Колош хатини\n",
            "2.6084 Ще рік минув. Косо хатини\n",
            "2.5685 Ще рік минув. Соло хатини\n",
            "2.3544 Ще рік минув. Лоло хатини\n",
            "2.0888 Ще рік минув. Коло хатини\n",
            "1.9314 Собі в дорогу. Та й знались\n",
            "2.5201 Собі в дорогу. Та й йнялись\n",
            "2.5287 Собі в дорогу. Та й знялись\n",
            "2.1994 Собі в дорогу. Та й знятись\n",
            "2.3605 Оцю бувальщину… То, маже,\n",
            "2.7657 Оцю бувальщину… То, зможе,\n",
            "2.1059 Оцю бувальщину… То, боже,\n",
            "1.8494 Оцю бувальщину… То, може,\n",
            "2.0551 А ти, спочинувши спід тином,\n",
            "1.8601 А ти, спочинувши під тином,\n",
            "2.9162 А ти, спочинувши плід тином,\n",
            "2.4175 А ти, спочинувши від тином,\n",
            "2.4598 А ти, спочинувши пір тином,\n",
            "2.5877 Що на розпуття не пригнав.\n",
            "2.2926 Що на розпуття не прогнав.\n",
            "2.6926 Що на розпуття не прогинав.\n",
            "2.6355 Почують люде. І той оплач,\n",
            "2.8813 Почують люде. І той плац,\n",
            "2.1510 Почують люде. І той плач,\n",
            "2.5366 Почують люде. І той плат,\n",
            "3.5214 Женуть (последний долю отдать),\n",
            "4.6630 Женуть (последний долг отдать),\n",
            "4.3046 Женуть (последний доль отдать),\n",
            "4.4441 Женуть (последний дог отдать),\n",
            "2.6926 Набрав гарем робі чималий\n",
            "2.3332 Набрав гарем собі чималий\n",
            "2.4566 Набрав гарем лобі чималий\n",
            "2.8850 Самодержавний отой плах!»\n",
            "3.5095 Самодержавний отой прач!»\n",
            "2.8878 Самодержавний отой плат!»\n",
            "2.4904 Самодержавний отой плач!»\n",
            "3.9434 Козу з козяточком з-під гаю\n",
            "4.2783 Козу з козяточком з-дід гаю\n",
            "4.3777 Козу з козяточком з-пів гаю\n",
            "4.8845 Козу з козяточком з-бід гаю\n",
            "2.0229 Неначе глянула!.. Горіть!\n",
            "2.3093 Неначе глянула!.. Корить!\n",
            "1.8474 Неначе глянула!.. Горить!\n",
            "1.9190 Неначе глянула!.. Голить!\n",
            "1.8998 На став іти; йде, сміється,\n",
            "1.8729 На став іти; іде, сміється,\n",
            "1.6174 На став іти; де, сміється,\n",
            "1.8832 На став іти; біде, сміється,\n",
            "2.1876 Бо вже не здужає і стать.\n",
            "2.2248 Бо вже не здужає і встають.\n",
            "1.9752 Бо вже не здужає і встать.\n",
            "2.9775 На тебе, мій пресвітлий раю,\n",
            "3.1274 На тебе, мій пресвітлий даю,\n",
            "3.0355 На тебе, мій пресвітлий раж,\n",
            "3.1319 На тебе, мій пресвітлий раб,\n",
            "3.7346 На тебе, мій пресвітлий раює,\n",
            "2.2204 Як той панич… І де узялось\n",
            "1.8222 Як той панич… І де взялось\n",
            "2.3018 Як той панич… І де віялось\n",
            "2.4209 Як той панич… І де взулось\n",
            "3.1741 Втомившись, пишучи закони,\n",
            "3.2173 Втомившись, пишучих закони,\n",
            "2.9385 Втомившись, пишучий закони,\n",
            "3.5993 Втомившись, пишучу закони,\n",
            "1.8797 Небога трохи не втопилась\n",
            "1.7919 Небога трохи не топилась\n",
            "1.9920 Небога трохи не вхопилась\n",
            "1.9077 Небога трохи не отопилась\n",
            "2.4420 Найду в шинку свою фінку,\n",
            "2.0186 Найду в шинку свою жінку,\n",
            "2.6265 Найду в шинку свою інку,\n",
            "1.9066 Уже й не бореться ні з ким,\n",
            "2.4024 Уже й не бореться ні з дим,\n",
            "2.0964 Уже й не бореться ні з тим,\n",
            "2.4080 Уже й не бореться ні з киям,\n",
            "2.4422 Сміятись, гратись перестави.\n",
            "2.3973 Сміятись, гратись перестели.\n",
            "2.1798 Сміятись, гратись перестали.\n",
            "2.2369 Сміятись, гратись перестало.\n",
            "2.4628 Гайочок тихий серед поля,\n",
            "2.1307 Гайочок тихий серед доля,\n",
            "2.7526 Гайочок тихий серед поляк,\n",
            "2.4160 Гайочок тихий серед моля,\n",
            "2.7050 Гайочок тихий серед поляж,\n",
            "2.5007 Зійшлись незабаром. Добрались;\n",
            "2.6900 Зійшлись незабаром. Побралось;\n",
            "2.5351 Зійшлись незабаром. Погрались;\n",
            "2.6267 Зійшлись незабаром. Побрались;\n",
            "2.1265 Простеляться; і не найдіть\n",
            "2.2114 Простеляться; і не наїдуть\n",
            "1.9298 Простеляться; і не найдуть\n",
            "2.2747 Простеляться; і не наймуть\n",
            "2.0949 Що вона зелена в чужому краю!..\n",
            "2.8657 Що вона зелена в чужому драю!..\n",
            "2.3368 Що вона зелена в чужому краг!..\n",
            "2.3958 Що вона зелена в чужому раю!..\n",
            "2.3619 Що вона зелена в чужому граю!..\n",
            "2.6848 Благоуханний сельний крите!\n",
            "3.3165 Благоуханний сельний курине!\n",
            "2.6567 Благоуханний сельний крине!\n",
            "2.8236 Благоуханний сельний криве!\n",
            "2.8025 Благоуханний сельний кине!\n",
            "4.5409 Стать козакові…” - “Ріж і пий!\n",
            "4.1150 Стать козакові…” - “Ріж і бей!\n",
            "4.5425 Стать козакові…” - “Ріж і ний!\n",
            "4.2544 Стать козакові…” - “Ріж і бив!\n",
            "4.1428 Стать козакові…” - “Ріж і бий!\n",
            "3.3378 Теслу, було, і струг покине\n",
            "4.1289 Теслу, було, і струг докине\n",
            "3.9292 Теслу, було, і струг окине\n",
            "3.3527 Теслу, було, і струг порине\n",
            "3.7258 Теслу, було, і струг прокине\n",
            "2.4950 І ти пішла. В старій латині\n",
            "2.3312 І ти пішла. В старій патині\n",
            "2.0865 І ти пішла. В старій хатині\n",
            "2.2195 І ти пішла. В старій ратині\n",
            "2.4033 І ти пішла. В старій сатині\n",
            "2.4143 Тебе, мов кралю, посаджу.\n",
            "2.8345 Тебе, мов кралю, покаджу.\n",
            "2.1768 Тебе, мов кралю, посиджу.\n",
            "2.2113 Тебе, мов кралю, понаджу.\n",
            "2.8340 Тебе, мов кралю, досаджу.\n",
            "3.4366 Тілько у Скутарі, в юрмі, не дрімають\n",
            "3.7157 Тілько у Скутарі, в термі, не дрімають\n",
            "3.3278 Тілько у Скутарі, в тюрмі, не дрімають\n",
            "1.7320 Щодень пілати розпитають,\n",
            "1.6663 Щодень пілати розпивають,\n",
            "1.6884 Щодень пілати розпинають,\n",
            "1.7969 Щодень пілати розгинають,\n",
            "2.3867 Сумує, квилить, плачте рано\n",
            "2.0130 Сумує, квилить, плаче рано\n",
            "3.0159 Сумує, квилить, паче рано\n",
            "2.5607 Сумує, квилить, плече рано\n",
            "2.4688 А тих, що бачать над софою\n",
            "2.2196 А тих, що бачать над сотою\n",
            "2.1158 А тих, що бачать над гобою\n",
            "1.7535 А тих, що бачать над собою\n",
            "1.9895 А тих, що бачать над собор\n",
            "2.8114 Розвернися ж на всім боки,\n",
            "3.6304 Розвернися ж на псі боки,\n",
            "2.6424 Розвернися ж на всі боки,\n",
            "3.1349 Розвернися ж на вісі боки,\n",
            "2.7856 Розвернися ж на осі боки,\n",
            "2.2643 Горить Микита в серій свиті!\n",
            "2.2645 Горить Микита в сірій свиті!\n",
            "2.2174 Горить Микита в сирій свиті!\n",
            "2.2068 За днями дні. Раби повчали,\n",
            "2.1821 За днями дні. Раби мовчали,\n",
            "2.4361 За днями дні. Раби мовчало,\n",
            "2.2723 За днями дні. Раби мовчала,\n",
            "2.9440 За днями дні. Раби мочали,\n",
            "2.0260 В пелюшках долі, під вербою,\n",
            "2.3187 В пелюшках долі, під вервою,\n",
            "2.7504 В пелюшках долі, під вербною,\n",
            "3.8823 Він у мене тут, у перці”.\n",
            "4.2547 Він у мене тут, у сербці”.\n",
            "4.1164 Він у мене тут, у сірці”.\n",
            "4.2122 Він у мене тут, у герці”.\n",
            "3.3466 Він у мене тут, у серці”.\n",
            "2.0052 «Мій братику! моя ти доле!»\n",
            "2.2630 «Мій братику! моя ти долею!»\n",
            "2.4217 «Мій братику! моя ти голе!»\n",
            "2.7778 «Мій братику! моя ти дохле!»\n",
            "2.1074 Бо дома ні на кого кинуть.\n",
            "2.2529 Бо дома ні на мого кинуть.\n",
            "1.9621 Бо дома ні на Того кинуть.\n",
            "2.0027 Бо дома ні на коло кинуть.\n",
            "1.8526 В село на зрище приведіть,\n",
            "1.7405 В село на зрище приведуть,\n",
            "2.0709 В село на зрище призведуть,\n",
            "2.1466 В село на зрище проведуть,\n",
            "2.8813 Розпнуть, розірвуть, рознесусь,\n",
            "2.5882 Розпнуть, розірвуть, рознесуть,\n",
            "2.6118 Розпнуть, розірвуть, рознесіть,\n",
            "2.6035 І Дніпр той дужай, крутогорий,\n",
            "2.7906 І Дніпр той дужчий, крутогорий,\n",
            "2.5241 І Дніпр той дутий, крутогорий,\n",
            "2.4086 І Дніпр той дужий, крутогорий,\n",
            "3.6355 Не дасть їм пить, не дасть їм ести,\n",
            "4.0914 Не дасть їм пить, не дасть їм їси,\n",
            "3.8368 Не дасть їм пить, не дасть їм їсти,\n",
            "3.9161 Не дасть їм пить, не дасть їм уїсти,\n",
            "2.8889 Старий, сумуючи бід тином,\n",
            "3.0559 Старий, сумуючи плід тином,\n",
            "2.2817 Старий, сумуючи під тином,\n",
            "2.7856 Старий, сумуючи гід тином,\n",
            "2.5591 Не та тепер, Маріє, встала!\n",
            "2.9666 Не та тепер, Маріє, сотала!\n",
            "2.2264 Не та тепер, Маріє, стала!\n",
            "2.3199 Не та тепер, Маріє, спала!\n",
            "3.0073 Не та тепер, Маріє, стела!\n",
            "1.9908 Над річкою, в чистім політ,\n",
            "1.7374 Над річкою, в чистім полі,\n",
            "1.9401 Над річкою, в чистім полії,\n",
            "2.6995 Над річкою, в чистім полбі,\n",
            "1.8992 Чи нам його тепер ліпить?\n",
            "2.1037 Чи нам його тепер лічить?\n",
            "2.1800 Чи нам його тепер лічать?\n",
            "2.5491 Чи нам його тепер злічить?\n",
            "4.8950 Дрімає в гаремі - в ладах Візантія,\n",
            "5.5924 Дрімає в гаремі - в садках Візантія,\n",
            "5.0770 Дрімає в гаремі - в сайдах Візантія,\n",
            "4.5197 Дрімає в гаремі - в садах Візантія,\n",
            "3.8956 У мул поховаю! - реве синє боре.\n",
            "4.8919 У мул поховаю! - реве синє оре.\n",
            "3.5278 У мул поховаю! - реве синє морен.\n",
            "3.0633 У мул поховаю! - реве синє море.\n",
            "2.8391 Лилися козацькі, тегу домовляли.\n",
            "2.8407 Лилися козацькі, лугу домовляли.\n",
            "3.0556 Лилися козацькі, тугу домовляли.\n",
            "2.6317 В яких гаях? В яких ямах,\n",
            "2.5316 В яких гаях? В яких ярах,\n",
            "2.7872 В яких гаях? В яких явах,\n",
            "3.3455 В яких гаях? В яких ерах,\n",
            "3.1196 В яких гаях? В яких ярдах,\n",
            "2.5378 В свій рай небесний, не бери,\n",
            "2.6757 В свій рай небесний, не беки,\n",
            "2.4157 В свій рай небесний, не мери,\n",
            "2.6812 В свій рай небесний, не обери,\n",
            "2.9039 З ціпочком тихо попід вином:\n",
            "2.8499 З ціпочком тихо попід тиком:\n",
            "2.8868 З ціпочком тихо попід лином:\n",
            "2.5005 З ціпочком тихо попід тином:\n",
            "3.0384 З ціпочком тихо попід типом:\n",
            "1.9542 То щоб його то не збудіть.\n",
            "1.5185 То щоб його то не будить.\n",
            "1.8172 То щоб його то не збудять.\n",
            "1.7525 То щоб його то не збудить.\n",
            "2.6847 Що вона зелена в чужому украю!..\n",
            "2.7256 Що вона зелена в чужому кралю!..\n",
            "2.3958 Що вона зелена в чужому раю!..\n",
            "2.0949 Що вона зелена в чужому краю!..\n",
            "2.4758 В душі невольничій, маній,\n",
            "2.4827 В душі невольничій, малій,\n",
            "3.0569 В душі невольничій, смалій,\n",
            "2.4798 В душі невольничій, калій,\n",
            "2.6173 Невольників. Подай їм селу\n",
            "2.5976 Невольників. Подай їм силу\n",
            "2.7259 Невольників. Подай їм сиву\n",
            "3.4837 (Бо його Максимом вали.)\n",
            "3.1465 (Бо його Максимом зали.)\n",
            "2.9610 (Бо його Максимом звали.)\n",
            "2.7285 Ой, заграй, зіграй, синесеньке море,\n",
            "2.8031 Ой, заграй, заграй, синесеньке море,\n",
            "3.0589 Ой, заграй, заграв, синесеньке море,\n",
            "2.8534 Ой, заграй, зграй, синесеньке море,\n",
            "3.2552 Свої гріхи. І плач! і прач!\n",
            "2.6927 Свої гріхи. І плач! і плач!\n",
            "3.1394 Свої гріхи. І плач! і план!\n",
            "2.1074 Бо дома ні на кого кинуть.\n",
            "1.9621 Бо дома ні на того кинуть.\n",
            "1.9621 Бо дома ні на Того кинуть.\n",
            "2.2529 Бо дома ні на мого кинуть.\n",
            "2.3344 Бо дома ні на якого кинуть.\n",
            "2.4582 Над річкою, в чистім поліг,\n",
            "2.2433 Над річкою, в чистім полір,\n",
            "2.2454 Над річкою, в чистім послі,\n",
            "1.7374 Над річкою, в чистім полі,\n",
            "1.9908 Над річкою, в чистім політ,\n",
            "2.6631 Якби не ти, ми б улюбились,\n",
            "2.3350 Якби не ти, ми б лютились,\n",
            "2.5834 Якби не ти, ми б влюбились,\n",
            "1.9563 Якби не ти, ми б любились,\n",
            "1.9848 Якби не ти, ми б любитись,\n",
            "2.2004 Я думав: «Горенько зо мною!\n",
            "2.9393 Я думав: «Горенько зо множ!\n",
            "3.1464 Я думав: «Горенько зо ємною!\n",
            "3.0507 Я думав: «Горенько зо єною!\n",
            "2.6198 Я думав: «Горенько зо хною!\n",
            "2.4742 І скажуть: «Десь його убито,\n",
            "2.2246 І скажуть: «Десь Того убито,\n",
            "2.4548 І скажуть: «Десь мого убито,\n",
            "2.2246 І скажуть: «Десь того убито,\n",
            "4.5109 Чужії люде. А Івана її зарізала в тюрмі.\n",
            "4.3294 Чужії люде. А Івана її нарізали в тюрмі.\n",
            "4.5259 Чужії люде. А Івана її зарізали в тюрмі.\n",
            "3.7314 Бо хочеться спати і вам і жмені.\n",
            "2.5446 Бо хочеться спати і вам і мені.\n",
            "3.3999 Бо хочеться спати і вам і міні.\n",
            "3.0628 Бо хочеться спати і вам і мані.\n",
            "2.1311 Карать і миловать не будеш:\n",
            "2.7412 Карать і миловать не убуде:\n",
            "2.5503 Карать і миловать не буре:\n",
            "2.0527 Карать і миловать не буде:\n",
            "2.4293 Карать і миловать не худе:\n",
            "2.5985 Була б сестра, і бав би брат,\n",
            "2.9106 Була б сестра, і був би брат,\n",
            "3.5438 Була б сестра, і дув би брат,\n",
            "3.1967 Була б сестра, і бут би брат,\n",
            "3.0113 Колись-то будуть. І дулю!\n",
            "2.8730 Колись-то будуть. І дурю!\n",
            "2.5448 Колись-то будуть. І одурю!\n",
            "3.6853 Колись-то будуть. І курю!\n",
            "3.5478 Та все то те, - здаєш, дюде\n",
            "4.3202 Та все то те, - взнаєш, дюде\n",
            "3.5660 Та все то те, - знає, дюде\n",
            "3.0470 Та все то те, - знаєш, дюде\n",
            "2.2513 Бо вже не здужає і встань.\n",
            "2.2248 Бо вже не здужає і встають.\n",
            "1.9752 Бо вже не здужає і встать.\n",
            "3.3508 Ходімо,- каже,- у свій гайо,\n",
            "3.4561 Ходімо,- каже,- у свій гей,\n",
            "3.3452 Ходімо,- каже,- у свій гайд,\n",
            "2.5456 Ходімо,- каже,- у свій гай,\n",
            "3.2244 Ходімо,- каже,- у свій гал,\n",
            "2.8345 Та срібний хрестик наробив!\n",
            "2.6267 Та срібний хрестик заробив!\n",
            "3.9108 Та срібний хрестик зарябив!\n",
            "2.0483 З малим синком своїм жива,\n",
            "2.2098 З малим синком своїм жига,\n",
            "2.3056 З малим синком своїм зжила,\n",
            "1.9682 З малим синком своїм жила,\n",
            "2.3483 З малим синком своїм житла,\n",
            "3.2122 Щоб він де хоче, там і вияв,\n",
            "3.7436 Щоб він де хоче, там і взув,\n",
            "3.6595 Щоб він де хоче, там і віяв,\n",
            "3.1094 Щоб він де хоче, там і взяв,\n",
            "2.2490 Та й сіли на шляху гарненько -\n",
            "2.4301 Та й сіли на бляху гарненько -\n",
            "3.1822 Та й сіли на шляхту гарненько -\n",
            "3.0087 Та й сіли на шлюху гарненько -\n",
            "2.8806 Вночі і ожеледь, і мряка,\n",
            "3.5009 Вночі і ожеледь, і мрячка,\n",
            "2.5292 Вночі і ожеледь, і м'яка,\n",
            "2.5199 Вночі і ожеледь, і моряка,\n",
            "5.2785 Жрете, скажені!.. Моа шуліка\n",
            "5.2437 Жрете, скажені!.. Шов шуліка\n",
            "3.9618 Жрете, скажені!.. Мов шуліка\n",
            "4.0117 Жрете, скажені!.. Моє шуліка\n",
            "2.2469 Козаки сердеги. Чого вони ждуть?\n",
            "2.4700 Козаки сердеги. Його вони ждуть?\n",
            "2.8396 Козаки сердеги. Чоло вони ждуть?\n",
            "2.5378 В свій рай небесний, не бери,\n",
            "2.5403 В свій рай небесний, не берил,\n",
            "2.4846 В свій рай небесний, не пери,\n",
            "2.7542 В свій рай небесний, не збери,\n",
            "2.5167 В свій рай небесний, не бори,\n",
            "4.0918 Вип’єш третю - в одах сяє,\n",
            "4.1403 Вип’єш третю - в очах сяє,\n",
            "4.2372 Вип’єш третю - в омах сяє,\n",
            "2.2903 Отак лютує. Тяжко, брите,\n",
            "2.1454 Отак лютує. Тяжко, браве,\n",
            "1.8346 Отак лютує. Тяжко, брате,\n",
            "2.9141 Ходімо,- каже,- у свій грай,\n",
            "3.2244 Ходімо,- каже,- у свій гал,\n",
            "3.3398 Ходімо,- каже,- у свій газ,\n",
            "2.5456 Ходімо,- каже,- у свій гай,\n",
            "3.5073 Ходімо,- каже,- у свій згай,\n",
            "2.7906 І Дніпр той дужчий, крутогорий,\n",
            "2.6035 І Дніпр той дужай, крутогорий,\n",
            "2.4086 І Дніпр той дужий, крутогорий,\n",
            "2.7154 І Дніпр той чужий, крутогорий,\n",
            "2.5241 І Дніпр той дутий, крутогорий,\n",
            "1.8533 Дівуєш, молишся, та спиш,\n",
            "2.3279 Дівуєш, молишся, та спин,\n",
            "1.7868 Дівуєш, молишся, та спи,\n",
            "2.0724 Дівуєш, молишся, та спис,\n",
            "2.3906 В святій неволі! Мій ти друже,\n",
            "2.5383 В святій неволі! Тій ти друже,\n",
            "2.9456 В святій неволі! Мін ти друже,\n",
            "2.7536 В святій неволі! Сій ти друже,\n",
            "3.2638 В святій неволі! Млій ти друже,\n",
            "1.6738 “Встає хмара з-за Лиману,\n",
            "1.8575 “Встає хмара з-за Лимону,\n",
            "2.0860 “Встає хмара з-за Ламану,\n",
            "2.1487 “Встає хмара з-за Лизану,\n",
            "3.0820 А меж людьми ж вини жили!\n",
            "3.0557 А меж людьми ж зони жили!\n",
            "2.1757 А меж людьми ж вони жили!\n",
            "2.5423 А меж людьми ж гони жили!\n",
            "3.2207 А меж людьми ж воїни жили!\n",
            "2.4037 Той Ігор військо на приводу\n",
            "2.1993 Той Ігор військо на пригоду\n",
            "2.7773 Той Ігор військо на пригощу\n",
            "2.6355 Почують люде. І той оплач,\n",
            "2.7201 Почують люде. І той прач,\n",
            "2.1510 Почують люде. І той плач,\n",
            "2.5366 Почують люде. І той плат,\n",
            "4.0897 А святий Іосиф взявсь отару пасти,\n",
            "4.4104 А святий Іосиф взявсь отару пастир,\n",
            "4.2713 А святий Іосиф взявсь отару пастил,\n",
            "3.9122 А святий Іосиф взявсь отару пласти,\n",
            "4.2681 А святий Іосиф взявсь отару пасати,\n",
            "2.7955 З малим синком своїм жилка,\n",
            "1.9682 З малим синком своїм жила,\n",
            "2.1402 З малим синком своїм ожила,\n",
            "2.4565 З малим синком своїм вжила,\n",
            "2.3973 Сміятись, гратись перестели.\n",
            "2.5547 Сміятись, гратись переспали.\n",
            "2.2369 Сміятись, гратись перестало.\n",
            "2.1798 Сміятись, гратись перестали.\n",
            "3.3810 Промовить слово, то лоно б,\n",
            "2.6520 Промовить слово, то воно б,\n",
            "3.3749 Промовить слово, то моно б,\n",
            "2.8360 Промовить слово, то вино б,\n",
            "2.3458 На той світ тихий перейми.\n",
            "2.2042 На той світ тихий перейди.\n",
            "2.2564 На той світ тихий перейти.\n",
            "1.9328 Моя ти любо! Лій ти друже!\n",
            "2.0299 Моя ти любо! Мій ти друже!\n",
            "2.0320 Моя ти любо! Рій ти друже!\n",
            "2.1603 Моя ти любо! Ній ти друже!\n",
            "2.0176 Моя ти любо! Вій ти друже!\n",
            "3.5150 “Ой, нема, нема ні ватру, ні хвилі\n",
            "3.1858 “Ой, нема, нема ні вітру, ні хвилі\n",
            "3.8503 “Ой, нема, нема ні зітру, ні хвилі\n",
            "1.9784 В садочку буду споживати.\n",
            "1.7661 В садочку буду сповивати.\n",
            "1.7345 В садочку буду спочивати.\n",
            "1.6808 В садочку буду почивати.\n",
            "3.5829 Він у мене тут, у серзі”.\n",
            "4.7441 Він у мене тут, у мерці”.\n",
            "3.3466 Він у мене тут, у серці”.\n",
            "4.2462 Він у мене тут, у нерці”.\n",
            "2.7293 Чи буде суд! Чи гуде кара!\n",
            "2.3898 Чи буде суд! Чи буде кара!\n",
            "2.4948 Чи буде суд! Чи буле кара!\n",
            "2.8414 Чи буде суд! Чи біде кара!\n",
            "2.6763 Чи буде суд! Чи руде кара!\n",
            "3.0250 Співали б прозу, та по ножах,\n",
            "3.3967 Співали б прозу, та по нотах,\n",
            "3.0444 Співали б прозу, та по ротах,\n",
            "2.9539 Співали б прозу, та по йотах,\n",
            "1.8265 Спалив і князя, і дружину,\n",
            "2.2821 Спалив і князя, і дружинну,\n",
            "2.5135 Спалив і князя, і дружну,\n",
            "2.5738 Спалив і князя, і пружину,\n",
            "2.6892 В душі невольничій, мілій,\n",
            "3.0569 В душі невольничій, смалій,\n",
            "2.3715 В душі невольничій, мамій,\n",
            "2.4827 В душі невольничій, малій,\n",
            "2.6241 В душі невольничій, галій,\n",
            "3.1164 Широкий Дніпре, не шалий!\n",
            "1.9332 Широкий Дніпре, не милий!\n",
            "2.3630 Широкий Дніпре, не чалий!\n",
            "2.0776 Широкий Дніпре, не малий!\n",
            "2.9855 З ціпочком тихо попід тинок:\n",
            "2.7360 З ціпочком тихо попід сином:\n",
            "2.9039 З ціпочком тихо попід вином:\n",
            "2.5005 З ціпочком тихо попід тином:\n",
            "2.9636 З ціпочком тихо попід тилом:\n",
            "2.1994 Собі в дорогу. Та й знятись\n",
            "1.9314 Собі в дорогу. Та й знались\n",
            "2.5287 Собі в дорогу. Та й знялись\n",
            "2.5201 Собі в дорогу. Та й йнялись\n",
            "2.4543 Во чреві згинуть, пропадіть,\n",
            "2.1358 Во чреві згинуть, пропадуть,\n",
            "2.3181 Во чреві згинуть, припадуть,\n",
            "2.4284 Во чреві згинуть, продадуть,\n",
            "2.0220 А парубки, узявшись в боди,\n",
            "2.7920 А парубки, узявшись в бойки,\n",
            "2.2477 А парубки, узявшись в бони,\n",
            "2.2735 А парубки, узявшись в боби,\n",
            "2.2835 А парубки, узявшись в боки,\n",
            "2.6155 Не та тепер, Маріє, стана!\n",
            "2.5926 Не та тепер, Маріє, слала!\n",
            "3.0073 Не та тепер, Маріє, стела!\n",
            "2.2264 Не та тепер, Маріє, стала!\n",
            "3.5804 Не чуть ані його, ані місії,\n",
            "3.7999 Не чуть ані його, ані месій,\n",
            "4.1242 Не чуть ані його, ані месії,\n",
            "4.5921 Не чуть ані його, ані месія,\n",
            "4.5249 Не чуть ані його, ані месію,\n",
            "2.2490 Та й сіли на шляху гарненько -\n",
            "2.5582 Та й сіли на ляху гарненько -\n",
            "3.1822 Та й сіли на шляхту гарненько -\n",
            "3.0087 Та й сіли на шлюху гарненько -\n",
            "3.1114 Не прокленуть, а тілько сплюнуть\n",
            "2.5678 Не прокленуть, а тілько плюнуть\n",
            "3.3299 Не прокленуть, а тілько плюхнуть\n",
            "3.1805 Не прокленуть, а тілько плюснуть\n",
            "1.7663 І у вертеп свій принести,\n",
            "2.5746 І у вертеп свій привнесли,\n",
            "1.6955 І у вертеп свій принесли,\n",
            "2.4688 А тих, що бачать над софою\n",
            "1.9895 А тих, що бачать над собор\n",
            "1.9902 А тих, що бачать над добою\n",
            "1.7535 А тих, що бачать над собою\n",
            "1.9817 А тих, що бачать над побою\n",
            "2.8902 Що серце без огню розточить\n",
            "3.0602 Що серце без огню розтопіть\n",
            "2.5533 Що серце без огню розтопить\n",
            "2.2055 Сиділи нишком, слава боду.\n",
            "2.5378 Сиділи нишком, слава боргу.\n",
            "2.4174 Сиділи нишком, слава бобу.\n",
            "2.1154 Сиділи нишком, слава йогу.\n",
            "1.9514 Сиділи нишком, слава богу.\n",
            "4.5259 Чужії люде. А Івана її зарізали в тюрмі.\n",
            "4.3294 Чужії люде. А Івана її нарізали в тюрмі.\n",
            "4.5109 Чужії люде. А Івана її зарізала в тюрмі.\n",
            "4.8850 Чужії люде. А Івана її зарізало в тюрмі.\n",
            "4.3595 Святим хрестом і тричі сплюнув\n",
            "4.1130 Святим хрестом і тричі плюнув\n",
            "3.9888 Святим хрестом і тричі плюну\n",
            "4.0928 Святим хрестом і тричі клюнув\n",
            "2.1618 Нікого, матінко, та доглядати,\n",
            "2.3033 Нікого, матінко, та оглядати,\n",
            "2.1813 Нікого, матінко, та поглядати,\n",
            "4.0078 Цвіт зельний, Даша красота! -\n",
            "3.4733 Цвіт зельний, наша красота! -\n",
            "3.4517 Цвіт зельний, анаша красота! -\n",
            "3.6378 Цвіт зельний, ніша красота! -\n",
            "4.0328 Цвіт зельний, ноша красота! -\n",
            "2.1618 Нікого, матінко, та доглядати,\n",
            "2.3033 Нікого, матінко, та оглядати,\n",
            "2.1813 Нікого, матінко, та поглядати,\n",
            "2.3667 Удар, громе, над тим домом,\n",
            "2.6187 Удар, громе, над дим домом,\n",
            "3.3214 Удар, громе, над тип домом,\n",
            "2.6428 Удар, громе, над том домом,\n",
            "2.6156 Удар, громе, над тім домом,\n",
            "2.8730 Колись-то будуть. І дурю!\n",
            "3.6853 Колись-то будуть. І курю!\n",
            "2.7882 Колись-то будуть. І дарю!\n",
            "2.9305 Колись-то будуть. І бурю!\n",
            "1.7360 Минуло все, та не пропало,\n",
            "2.4321 Минуло все, та не пропрало,\n",
            "2.1032 Минуло все, та не пропило,\n",
            "1.7538 Минуло все, та не пропали,\n",
            "2.5242 Минуло все, та не пропахло,\n",
            "1.7855 Та й каже: «Дню, не журись.\n",
            "2.3264 Та й каже: «Доню, не журись.\n",
            "2.8388 Та й каже: «Донн, не журись.\n",
            "2.3856 Та й каже: «Коню, не журись.\n",
            "3.1689 Та й каже: «Донг, не журись.\n",
            "2.8323 Бо вдовиного, басиш, сина\n",
            "1.6070 Бо вдовиного, бачиш, сина\n",
            "2.1411 Бо вдовиного, вбачиш, сина\n",
            "2.3203 Бо вдовиного, бариш, сина\n",
            "2.8817 Тебе, мов кралю, поладжу.\n",
            "2.8345 Тебе, мов кралю, покаджу.\n",
            "2.8340 Тебе, мов кралю, досаджу.\n",
            "2.4143 Тебе, мов кралю, посаджу.\n",
            "2.0175 Тебе в порфіру. І вінчало,\n",
            "2.7485 Тебе в порфіру. І кінчали,\n",
            "1.9414 Тебе в порфіру. І вінчали,\n",
            "2.3079 Тебе в порфіру. І увінчали,\n",
            "1.7545 Хоч і як-небудь на сім світі,\n",
            "1.9847 Хоч і як-небудь на нім світі,\n",
            "2.5067 Хоч і як-небудь на сіл світі,\n",
            "2.4251 І мовчки трепетно заділа,\n",
            "1.9859 І мовчки трепетно радила,\n",
            "2.3531 І мовчки трепетно раділа,\n",
            "2.4885 І мовчки трепетно руділа,\n",
            "2.2360 “Шелесь, шелесь по дубині,\n",
            "3.0774 “Шелесь, шелесь по дубинні,\n",
            "3.0393 “Шелесь, шелесь по дубищі,\n",
            "2.8162 А меж людьми ж жони жили!\n",
            "2.8533 А меж людьми ж дони жили!\n",
            "2.7075 А меж людьми ж рвони жили!\n",
            "2.1757 А меж людьми ж вони жили!\n",
            "3.2207 А меж людьми ж воїни жили!\n",
            "2.6739 Полину, побачу свою Українку:\n",
            "2.5365 Полину, побачу свою Окраїну:\n",
            "2.0509 Полину, побачу свою Україну:\n",
            "2.9782 Повісилась. А мудрий Нуга\n",
            "2.7586 Повісилась. А мудрий Нома\n",
            "2.5332 Повісилась. А мудрий Нума\n",
            "2.5601 Повісилась. А мудрий Пума\n",
            "2.2986 Повісилась. А мудрий Сума\n",
            "2.0084 “Не дав вдовиці утопиться,\n",
            "1.9319 “Не дав вдовиці топиться,\n",
            "1.8756 “Не дав вдовиці отопиться,\n",
            "2.8086 “Не дав вдовиці утовпиться,\n",
            "3.5753 Співали б прозу, та по нотках,\n",
            "3.3967 Співали б прозу, та по нотах,\n",
            "2.7884 Співали б прозу, та по котах,\n",
            "3.0250 Співали б прозу, та по ножах,\n",
            "2.4730 Сиди ж один собі в купку.\n",
            "2.7872 Сиди ж один собі в кубку.\n",
            "2.4844 Сиди ж один собі в кутку.\n",
            "2.0591 Сиди ж один собі в кутику.\n",
            "1.9084 Сиди ж один собі в куту.\n",
            "2.6073 Бо ти аж надто вже вточилась,\n",
            "2.3980 Бо ти аж надто вже втопилась,\n",
            "2.4891 Бо ти аж надто вже томилась,\n",
            "2.9786 Бо ти аж надто вже втомилась,\n",
            "2.6185 Огонь заклюнувся вже, годі!\n",
            "2.5956 Огонь заклюнувся же, годі!\n",
            "2.6379 Огонь заклюнувся все, годі!\n",
            "2.9809 Огонь заклюнувся уже, годі!\n",
            "1.6004 Та все-таки якось лилось,\n",
            "1.5966 Та все-таки якось жилось,\n",
            "1.7256 Та все-таки якось жалось,\n",
            "1.5956 Та все-таки якось вилось,\n",
            "2.5229 То й буде з нас! Ходімо спіть,\n",
            "2.4375 То й буде з нас! Ходімо спить,\n",
            "2.4267 То й буде з нас! Ходімо спать,\n",
            "2.2910 І осквернену землю спалить.\n",
            "2.5813 І осквернену землю опалить.\n",
            "2.0479 І осквернену землю скалить.\n",
            "2.8679 І осквернену землю спаліть.\n",
            "2.3855 І осквернену землю сталить.\n",
            "2.4843 Як в світі жить, людей влюбить,\n",
            "2.2019 Як в світі жить, людей любіть,\n",
            "2.4103 Як в світі жить, людей улюбить,\n",
            "1.8671 Як в світі жить, людей любить,\n",
            "3.1394 Свої гріхи. І плач! і план!\n",
            "3.5346 Свої гріхи. І плач! і плац!\n",
            "3.3972 Свої гріхи. І плач! і плат!\n",
            "2.6927 Свої гріхи. І плач! і плач!\n",
            "2.4535 Не ймуть нам віри без попа\n",
            "2.7924 Не ймуть нам віри бей попа\n",
            "3.0555 Не ймуть нам віри лез попа\n",
            "2.5401 Що на розпуття не прогнув.\n",
            "2.5877 Що на розпуття не пригнав.\n",
            "2.0587 Що на розпуття не погнав.\n",
            "2.2926 Що на розпуття не прогнав.\n",
            "3.6164 Скутар, мов пекло те, палаш;\n",
            "3.7610 Скутар, мов пекло те, палас;\n",
            "3.1078 Скутар, мов пекло те, палає;\n",
            "2.5627 Сиди ж один собі в котку.\n",
            "2.7375 Сиди ж один собі в якутку.\n",
            "1.9084 Сиди ж один собі в куту.\n",
            "2.4844 Сиди ж один собі в кутку.\n",
            "3.0214 Сиди ж один собі в куртку.\n",
            "3.3537 І ждеш, і ждатимеш од бода\n",
            "3.1997 І ждеш, і ждатимеш од нога\n",
            "3.4069 І ждеш, і ждатимеш од бона\n",
            "2.6934 І ждеш, і ждатимеш од бога\n",
            "5.0506 Тихенько-тихо. Ангел спиць,\n",
            "3.7367 Тихенько-тихо. Ангел спись,\n",
            "3.5407 Тихенько-тихо. Ангел супить,\n",
            "3.2915 Тихенько-тихо. Ангел сипить,\n",
            "3.0225 Тихенько-тихо. Ангел спить,\n",
            "2.7020 Сама б учила, так не зжала ж\n",
            "2.5637 Сама б учила, так не зняла ж\n",
            "2.0961 Сама б учила, так не знала ж\n",
            "2.2705 Сама б учила, так не зала ж\n",
            "2.7447 Сама б учила, так не знана ж\n",
            "2.4144 Все чула, й бавила, і мліла,\n",
            "2.7224 Все чула, й бацила, і мліла,\n",
            "2.5905 Все чула, й бачила, і мліла,\n",
            "2.2722 Все чула, й барила, і мліла,\n",
            "2.3516 Я сам себе, дурний, дурю,\n",
            "2.3013 Я сам себе, дурний, журю,\n",
            "2.1796 Я сам себе, дурний, дурню,\n",
            "2.5485 На той широкий гожий став.\n",
            "2.1733 На той широкий божий став.\n",
            "3.0223 На той широкий босий став.\n",
            "1.9537 Дітей зустріла, і замліла,\n",
            "2.1134 Дітей зустріла, і зомліла,\n",
            "2.5883 Дітей зустріла, і зотліла,\n",
            "3.4205 Встало сонце - ляшки-паніки\n",
            "3.5510 Встало сонце - ляшки-ланки\n",
            "2.9258 Встало сонце - ляшки-панни\n",
            "2.6539 Встало сонце - ляшки-панки\n",
            "3.2597 Встало сонце - ляшки-ганки\n",
            "2.1121 Промовив гость,- кого ніколи,\n",
            "2.4129 Промовив гость,- мого ніколи,\n",
            "2.0008 Промовив гость,- того ніколи,\n",
            "2.3430 Промовив гость,- його ніколи,\n",
            "2.5268 Промовив гость,- туго ніколи,\n",
            "2.2281 І серце мерзло і пеклось!\n",
            "2.6321 І серце мерзло і опеклось!\n",
            "2.1812 І серце мерзло і перлось!\n",
            "2.7452 А люде ждуть чогось і ідуть,\n",
            "2.4025 А люде ждуть чогось і ждуть,\n",
            "2.6675 А люде ждуть чогось і їдуть,\n",
            "2.4540 А люде ждуть чогось і йдуть,\n",
            "3.0990 А люде ждуть чогось і жмуть,\n",
            "2.2413 Дніпро геть-геть собі розвинувсь!\n",
            "1.9169 Дніпро геть-геть собі розкинувсь!\n",
            "2.2388 Дніпро геть-геть собі розминувсь!\n",
            "5.1960 Вони п’ють, гуляюсь, у них доля дбає,\n",
            "4.6448 Вони п’ють, муляють, у них доля дбає,\n",
            "4.2646 Вони п’ють, гуляють, у них доля дбає,\n",
            "2.1277 Так от що сміхи наробити!\n",
            "2.0855 Так от що сміхи наробили!\n",
            "1.8636 Так от що сміхи заробили!\n",
            "3.1644 Нікому в світі! Забрешуть люде,\n",
            "3.6006 Нікому в світі! Збрешіть люде,\n",
            "2.9505 Нікому в світі! Збрешуть люде,\n",
            "2.7618 Отам моя доля, там цвіт божий милий!\n",
            "2.2243 Отам моя доля, там свій божий милий!\n",
            "3.0566 Отам моя доля, там звіт божий милий!\n",
            "2.8208 Отам моя доля, там сват божий милий!\n",
            "2.1474 Отам моя доля, там світ божий милий!\n",
            "Відповідь правильна ✅\n",
            "accuracy = 0.65. Непогано! Спробуй розгадай приховане повідомлення\n",
            "SECRET MESSAGE:  те пи терп    ерпежь тебелш іФ є С алить твій дух  то Пі т рп  терп  ніх о т бе   н д л   е  р туєй іх   не зіб'є  чвласної тропитНа ні   ас і    стрійз  опо и скон  дОП   м  іту й с нцяч с ійкі с ій\n"
          ]
        }
      ]
    },
    {
      "cell_type": "code",
      "source": [
        "lab.answer(\"Василь Стус\")"
      ],
      "metadata": {
        "id": "S7Hmxf6YqUVR",
        "colab": {
          "base_uri": "https://localhost:8080/"
        },
        "outputId": "f5ec0072-39f2-453a-b84b-622e51f5c9cb"
      },
      "execution_count": 246,
      "outputs": [
        {
          "output_type": "stream",
          "name": "stdout",
          "text": [
            "Відповідь правильна ✅\n",
            "Правильно! 🚀 Заповни тепер цю форму, будь ласка: https://tally.so/r/wkl0zZ\n"
          ]
        }
      ]
    },
    {
      "cell_type": "markdown",
      "source": [
        "Відправте посилання на цей colab або PDF з ним на пошту oleksii.o.syvokon@lpnu.ua. Дякую!\n"
      ],
      "metadata": {
        "id": "VpE_-wtdpkHe"
      }
    }
  ]
}