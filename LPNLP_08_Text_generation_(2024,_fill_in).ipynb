{
  "cells": [
    {
      "cell_type": "markdown",
      "metadata": {
        "id": "view-in-github",
        "colab_type": "text"
      },
      "source": [
        "<a href=\"https://colab.research.google.com/github/Vasyl808/NULP_NLP/blob/main/LPNLP_08_Text_generation_(2024%2C_fill_in).ipynb\" target=\"_parent\"><img src=\"https://colab.research.google.com/assets/colab-badge.svg\" alt=\"Open In Colab\"/></a>"
      ]
    },
    {
      "cell_type": "markdown",
      "metadata": {
        "id": "c-tiVIhwDZgF"
      },
      "source": [
        "# Генерація тексту\n",
        "\n",
        "У цій роботі ми використаємо мовну модель для генерації тексту.\n",
        "\n",
        "У класичної мовної моделі є два взаємопов'язані визначення:\n",
        "\n",
        "1. Оцінити ймовірність вхідного тексту.\n",
        "2. Видати ймовірнісний розподіл наступного слова для даного префіксу.\n",
        "\n",
        "Для генерації тексту нам ідеально підходить друге визначення."
      ]
    },
    {
      "cell_type": "markdown",
      "metadata": {
        "id": "n5cdtYXg9ARX"
      },
      "source": [
        "## Початок роботи\n",
        "\n",
        "Будь ласка, заповніть поля `EMAIL`, `NAME` та `GROUP` нижче:"
      ]
    },
    {
      "cell_type": "code",
      "source": [
        "!pip install --quiet --ignore-installed http://nlp.band/static/pypy/lpnlp-2023.10.2-py3-none-any.whl"
      ],
      "metadata": {
        "id": "sEbiQ-LYNANN",
        "colab": {
          "base_uri": "https://localhost:8080/"
        },
        "outputId": "7a6364e0-bf0b-413c-9c69-59785b9fcd00"
      },
      "execution_count": 1,
      "outputs": [
        {
          "output_type": "stream",
          "name": "stdout",
          "text": [
            "\u001b[?25l   \u001b[90m━━━━━━━━━━━━━━━━━━━━━━━━━━━━━━━━━━━━━━━━\u001b[0m \u001b[32m0.0/64.9 kB\u001b[0m \u001b[31m?\u001b[0m eta \u001b[36m-:--:--\u001b[0m\r\u001b[2K   \u001b[90m━━━━━━━━━━━━━━━━━━━━━━━━━━━━━━━━━━━━━━━━\u001b[0m \u001b[32m64.9/64.9 kB\u001b[0m \u001b[31m2.0 MB/s\u001b[0m eta \u001b[36m0:00:00\u001b[0m\n",
            "\u001b[?25h\u001b[?25l   \u001b[90m━━━━━━━━━━━━━━━━━━━━━━━━━━━━━━━━━━━━━━━━\u001b[0m \u001b[32m0.0/167.3 kB\u001b[0m \u001b[31m?\u001b[0m eta \u001b[36m-:--:--\u001b[0m\r\u001b[2K   \u001b[90m━━━━━━━━━━━━━━━━━━━━━━━━━━━━━━━━━━━━━━━━\u001b[0m \u001b[32m167.3/167.3 kB\u001b[0m \u001b[31m6.0 MB/s\u001b[0m eta \u001b[36m0:00:00\u001b[0m\n",
            "\u001b[2K   \u001b[90m━━━━━━━━━━━━━━━━━━━━━━━━━━━━━━━━━━━━━━━━\u001b[0m \u001b[32m144.8/144.8 kB\u001b[0m \u001b[31m5.0 MB/s\u001b[0m eta \u001b[36m0:00:00\u001b[0m\n",
            "\u001b[2K   \u001b[90m━━━━━━━━━━━━━━━━━━━━━━━━━━━━━━━━━━━━━━━━\u001b[0m \u001b[32m70.4/70.4 kB\u001b[0m \u001b[31m2.0 MB/s\u001b[0m eta \u001b[36m0:00:00\u001b[0m\n",
            "\u001b[2K   \u001b[90m━━━━━━━━━━━━━━━━━━━━━━━━━━━━━━━━━━━━━━━━\u001b[0m \u001b[32m126.3/126.3 kB\u001b[0m \u001b[31m3.6 MB/s\u001b[0m eta \u001b[36m0:00:00\u001b[0m\n",
            "\u001b[?25h"
          ]
        }
      ]
    },
    {
      "cell_type": "code",
      "execution_count": 2,
      "metadata": {
        "id": "vuKrzAhF9DS9",
        "colab": {
          "base_uri": "https://localhost:8080/"
        },
        "outputId": "b8120e08-d5f0-4828-c7a8-93973837e943"
      },
      "outputs": [
        {
          "output_type": "stream",
          "name": "stdout",
          "text": [
            "Удачі!\n"
          ]
        }
      ],
      "source": [
        "################################################################################\n",
        "# FILL-IN:\n",
        "#-----------------------------------------------------------------------\n",
        "EMAIL = \"vasyl.hunia.kn.2021@lpnu.ua\"  # заповніть вашим значенням\n",
        "################################################################################\n",
        "\n",
        "import lpnlp\n",
        "\n",
        "lab = lpnlp.start(email=EMAIL, lab=\"text_generation\")"
      ]
    },
    {
      "cell_type": "markdown",
      "metadata": {
        "id": "nIrY-_DL9XRv"
      },
      "source": [
        "### Завантаження моделі\n",
        "\n",
        "Тренування мовної моделі з нуля займає багато часу: від кількох годин або днів для маленьких та середніх моделей й аж до кількох місяців чи навіть років для великих. Звичайно, за рахунок розпаралелювання тренування на багатьох GPU, реальний час рідко буває більше місяця-двох.\n",
        "\n",
        "Для цієї роботи (як і в реальному житті), ми візьмемо претреновану модель. Хтось натренував її за нас. В данному випадку, візьмемо GPT-2 від компанії OpenAI.\n",
        "\n",
        "Ця модель, як і безліч інших, зберігається на [HuggingFace Models](https://huggingface.co/models). Завантажити та працювати з нею зручно через бібліотеку [HuggingFace Transformers](https://github.com/huggingface/transformers/)"
      ]
    },
    {
      "cell_type": "code",
      "source": [
        "!pip install transformers"
      ],
      "metadata": {
        "id": "oTaN8J8w4ddP",
        "colab": {
          "base_uri": "https://localhost:8080/"
        },
        "outputId": "fc0d1d35-5626-4d86-d900-767ccaac3668"
      },
      "execution_count": 3,
      "outputs": [
        {
          "output_type": "stream",
          "name": "stdout",
          "text": [
            "Requirement already satisfied: transformers in /usr/local/lib/python3.10/dist-packages (4.44.2)\n",
            "Requirement already satisfied: filelock in /usr/local/lib/python3.10/dist-packages (from transformers) (3.16.1)\n",
            "Requirement already satisfied: huggingface-hub<1.0,>=0.23.2 in /usr/local/lib/python3.10/dist-packages (from transformers) (0.24.7)\n",
            "Requirement already satisfied: numpy>=1.17 in /usr/local/lib/python3.10/dist-packages (from transformers) (1.26.4)\n",
            "Requirement already satisfied: packaging>=20.0 in /usr/local/lib/python3.10/dist-packages (from transformers) (24.1)\n",
            "Requirement already satisfied: pyyaml>=5.1 in /usr/local/lib/python3.10/dist-packages (from transformers) (6.0.2)\n",
            "Requirement already satisfied: regex!=2019.12.17 in /usr/local/lib/python3.10/dist-packages (from transformers) (2024.9.11)\n",
            "Requirement already satisfied: requests in /usr/local/lib/python3.10/dist-packages (from transformers) (2.32.3)\n",
            "Requirement already satisfied: safetensors>=0.4.1 in /usr/local/lib/python3.10/dist-packages (from transformers) (0.4.5)\n",
            "Requirement already satisfied: tokenizers<0.20,>=0.19 in /usr/local/lib/python3.10/dist-packages (from transformers) (0.19.1)\n",
            "Requirement already satisfied: tqdm>=4.27 in /usr/local/lib/python3.10/dist-packages (from transformers) (4.66.5)\n",
            "Requirement already satisfied: fsspec>=2023.5.0 in /usr/local/lib/python3.10/dist-packages (from huggingface-hub<1.0,>=0.23.2->transformers) (2024.6.1)\n",
            "Requirement already satisfied: typing-extensions>=3.7.4.3 in /usr/local/lib/python3.10/dist-packages (from huggingface-hub<1.0,>=0.23.2->transformers) (4.12.2)\n",
            "Requirement already satisfied: charset-normalizer<4,>=2 in /usr/local/lib/python3.10/dist-packages (from requests->transformers) (3.4.0)\n",
            "Requirement already satisfied: idna<4,>=2.5 in /usr/local/lib/python3.10/dist-packages (from requests->transformers) (3.10)\n",
            "Requirement already satisfied: urllib3<3,>=1.21.1 in /usr/local/lib/python3.10/dist-packages (from requests->transformers) (2.2.3)\n",
            "Requirement already satisfied: certifi>=2017.4.17 in /usr/local/lib/python3.10/dist-packages (from requests->transformers) (2024.8.30)\n"
          ]
        }
      ]
    },
    {
      "cell_type": "code",
      "execution_count": 4,
      "metadata": {
        "id": "Oadzovl02gxh"
      },
      "outputs": [],
      "source": [
        "import transformers\n",
        "import torch"
      ]
    },
    {
      "cell_type": "code",
      "execution_count": 5,
      "metadata": {
        "id": "ZpeVt8kn76PY",
        "colab": {
          "base_uri": "https://localhost:8080/",
          "height": 237,
          "referenced_widgets": [
            "9448e835a41f4840b2001da3e6cef23a",
            "a0c3feaf462249dbbc5b1781b81108c8",
            "865614aaec254458a0d2f29671e41c62",
            "9bb6f247e2aa4a6ba9d85d142d12c12c",
            "27463506bc7a44829640ad33393ffa7f",
            "831a84f4f70f4fd4b0bf4076d4e60c76",
            "fafb2fc37efb438b9f91c1d4392be049",
            "b95138699238409182bba74ca251940f",
            "6b94ec37e6aa458eabab0e5f72762fcd",
            "03b817b126d346da9831509ab10377c3",
            "e2aec8be482949dba955c713e9f210d7",
            "1ad5db6211084dd9bb001e7e0f9865bd",
            "97e7538dfafc4b6db2b633292a16080a",
            "fda3abee700b4b5aa37bde144413b454",
            "3c6efc9e12e249b59745cdef9edccd7f",
            "022da3d9e78543dc8af7906c7a32a71d",
            "ab93428218764aa7aebe2b6973eb972e",
            "fbe61c4c93b242d781de31d04226a201",
            "7d5c7ebd32fa4b44a74dc2f219b09f55",
            "bd84957859b3401c998a973de6a16bce",
            "b1df9a59c4ee451595ad5f40328db3c1",
            "160d8679fb824376acf97f68d598f36b",
            "89eb13ee4cf54f2da040ede4113e4149",
            "394f9a86352e4e54901fbc55e0797db2",
            "24516e31389d4bae8995db32874035b6",
            "ce4e78cb4b5a47c6b36b6e4fe1be635b",
            "54f8e5e50c3c4f30b4bd475074c25fd2",
            "84e5d47ea70b4fdebfcc77f74c4d3d1d",
            "aef6756505cc41008d898128ce942e4e",
            "42f808878f024c3c94061a4e5912567c",
            "8f9d373857374910b22f39ecfcd2fbd2",
            "d7efff40c4064486951555f16732bba6",
            "534876521236479682a755d133c133c4"
          ]
        },
        "outputId": "ef1170a3-6fbe-4cf4-a4d8-7a624b157be9"
      },
      "outputs": [
        {
          "output_type": "stream",
          "name": "stderr",
          "text": [
            "/usr/local/lib/python3.10/dist-packages/huggingface_hub/utils/_token.py:89: UserWarning: \n",
            "The secret `HF_TOKEN` does not exist in your Colab secrets.\n",
            "To authenticate with the Hugging Face Hub, create a token in your settings tab (https://huggingface.co/settings/tokens), set it as secret in your Google Colab and restart your session.\n",
            "You will be able to reuse this secret in all of your notebooks.\n",
            "Please note that authentication is recommended but still optional to access public models or datasets.\n",
            "  warnings.warn(\n"
          ]
        },
        {
          "output_type": "display_data",
          "data": {
            "text/plain": [
              "config.json:   0%|          | 0.00/665 [00:00<?, ?B/s]"
            ],
            "application/vnd.jupyter.widget-view+json": {
              "version_major": 2,
              "version_minor": 0,
              "model_id": "9448e835a41f4840b2001da3e6cef23a"
            }
          },
          "metadata": {}
        },
        {
          "output_type": "display_data",
          "data": {
            "text/plain": [
              "model.safetensors:   0%|          | 0.00/548M [00:00<?, ?B/s]"
            ],
            "application/vnd.jupyter.widget-view+json": {
              "version_major": 2,
              "version_minor": 0,
              "model_id": "1ad5db6211084dd9bb001e7e0f9865bd"
            }
          },
          "metadata": {}
        },
        {
          "output_type": "display_data",
          "data": {
            "text/plain": [
              "generation_config.json:   0%|          | 0.00/124 [00:00<?, ?B/s]"
            ],
            "application/vnd.jupyter.widget-view+json": {
              "version_major": 2,
              "version_minor": 0,
              "model_id": "89eb13ee4cf54f2da040ede4113e4149"
            }
          },
          "metadata": {}
        }
      ],
      "source": [
        "model = transformers.AutoModelForCausalLM.from_pretrained(\"gpt2\")"
      ]
    },
    {
      "cell_type": "markdown",
      "source": [
        "## Токенізація\n",
        "\n",
        "Кожна модель має словник токенів, з яким вона тренувалася, та правила токенізації (розбиття тексту на токени). Обов'язково слід використовувати той самий словник та метод.\n",
        "\n",
        "Бібліотека transformers вміє робити це для кожної підтримуваної моделі."
      ],
      "metadata": {
        "id": "vaZDEIu85NJ-"
      }
    },
    {
      "cell_type": "code",
      "source": [
        "tokenizer = transformers.AutoTokenizer.from_pretrained(\"gpt2\")"
      ],
      "metadata": {
        "id": "KTKW10u75soH",
        "colab": {
          "base_uri": "https://localhost:8080/",
          "height": 200,
          "referenced_widgets": [
            "237ddfc1e9be41ff90a610081a36e62d",
            "4fc91c24b7e54dbaa242b9acb7a8b110",
            "f2d1f76d8d554ed689670a7d9155941e",
            "0bb9932719e0473591b3e6b8b3fc09a7",
            "537f2644459341cdb954627fc40dccde",
            "de1f5489cea541f6a66b705392fa45c2",
            "c5110d24a9014928b216dcc8cc33b0f6",
            "6fbebcd0ff7445369419c0c8386e1ec0",
            "8c36a8ff6dda445ba209ba64838c0c61",
            "7814fbfd18d34bd5972dd6b7eba1a15a",
            "fcafec2a24014a82978569008eb69cb2",
            "1ca54e56ac5b47ea8b1bcf4c4103ceb2",
            "8768f3f90b12458281fb22037f887fd4",
            "922c9a7b295f449fa54765028678dd8c",
            "a7cc3dc5e2bc4169a21af03605d5f271",
            "85d1b092673e4761a7e4c5aea5903c26",
            "44c4892ff9ad47de9d1eee301f3ad5c8",
            "254e564f608e472a97230f905c7b86be",
            "52d5554420b4476f9f2ab8a98c75fe66",
            "87ddab962a67474e862f552e2643e126",
            "a3a1f6ab386347d197c6f132d3ef8139",
            "3f3b5ba4f37844019ace6992e1eeeb81",
            "134f527d0ead41eab6eabdaa9760d116",
            "f5367569937c4d9bb4794dd5752773cc",
            "f156ecacaf634e3f9eec915bb497d85d",
            "7f41ce8501024aa293eac2285d00c11b",
            "10897db92ee34e708786470607876e1b",
            "4c32b2d37eda409a9c20a5d01cfac4ee",
            "6847c776af0f4305a7ccc5e67517eef0",
            "3604a168830546a8b0290a7b36dfdb7a",
            "2ad1eb945167488abdebaf55388be458",
            "874211c1c0124596bccc4604c78aba04",
            "e13a6ff07b4a4c8f87c70a8236716119",
            "c253a842cbd244789fcf2c53d9b35675",
            "e0181e40a6fd4223b5db6bf7fff31deb",
            "25d78761c6904950a38d6d25c72646fa",
            "5b9b7d9713594878ab57a31901c49d87",
            "9c8493978335413c8d1a2d12a166c74d",
            "8288c3bf5f594a619b1491392650d69b",
            "1387bc2dc07c4075b4f68b8600f18f20",
            "203269194a284ad8af961d58bb2f9f6f",
            "f2a7a9adfc3d4c04893c242509d5947a",
            "636a5093ae6a474d9c70379e8642e12f",
            "26e1919ae1334c468e0ba3c59e118806"
          ]
        },
        "outputId": "df117c75-5e17-4549-9325-b70bda5fcfa8"
      },
      "execution_count": 6,
      "outputs": [
        {
          "output_type": "display_data",
          "data": {
            "text/plain": [
              "tokenizer_config.json:   0%|          | 0.00/26.0 [00:00<?, ?B/s]"
            ],
            "application/vnd.jupyter.widget-view+json": {
              "version_major": 2,
              "version_minor": 0,
              "model_id": "237ddfc1e9be41ff90a610081a36e62d"
            }
          },
          "metadata": {}
        },
        {
          "output_type": "display_data",
          "data": {
            "text/plain": [
              "vocab.json:   0%|          | 0.00/1.04M [00:00<?, ?B/s]"
            ],
            "application/vnd.jupyter.widget-view+json": {
              "version_major": 2,
              "version_minor": 0,
              "model_id": "1ca54e56ac5b47ea8b1bcf4c4103ceb2"
            }
          },
          "metadata": {}
        },
        {
          "output_type": "display_data",
          "data": {
            "text/plain": [
              "merges.txt:   0%|          | 0.00/456k [00:00<?, ?B/s]"
            ],
            "application/vnd.jupyter.widget-view+json": {
              "version_major": 2,
              "version_minor": 0,
              "model_id": "134f527d0ead41eab6eabdaa9760d116"
            }
          },
          "metadata": {}
        },
        {
          "output_type": "display_data",
          "data": {
            "text/plain": [
              "tokenizer.json:   0%|          | 0.00/1.36M [00:00<?, ?B/s]"
            ],
            "application/vnd.jupyter.widget-view+json": {
              "version_major": 2,
              "version_minor": 0,
              "model_id": "c253a842cbd244789fcf2c53d9b35675"
            }
          },
          "metadata": {}
        },
        {
          "output_type": "stream",
          "name": "stderr",
          "text": [
            "/usr/local/lib/python3.10/dist-packages/transformers/tokenization_utils_base.py:1601: FutureWarning: `clean_up_tokenization_spaces` was not set. It will be set to `True` by default. This behavior will be depracted in transformers v4.45, and will be then set to `False` by default. For more details check this issue: https://github.com/huggingface/transformers/issues/31884\n",
            "  warnings.warn(\n"
          ]
        }
      ]
    },
    {
      "cell_type": "markdown",
      "source": [
        "Перевіримо токенізатор:"
      ],
      "metadata": {
        "id": "9NHX7-Rk5zwg"
      }
    },
    {
      "cell_type": "code",
      "source": [
        "input_text = \"Hello, LP NLP!\"\n",
        "token_ids = tokenizer.encode(input_text)\n",
        "token_ids"
      ],
      "metadata": {
        "id": "7Nc_Ntq659R9",
        "colab": {
          "base_uri": "https://localhost:8080/"
        },
        "outputId": "2111557a-b911-45f1-b8ee-7d8ed990b6bc"
      },
      "execution_count": 7,
      "outputs": [
        {
          "output_type": "execute_result",
          "data": {
            "text/plain": [
              "[15496, 11, 18470, 399, 19930, 0]"
            ]
          },
          "metadata": {},
          "execution_count": 7
        }
      ]
    },
    {
      "cell_type": "code",
      "source": [
        "tokenizer.convert_ids_to_tokens(token_ids)"
      ],
      "metadata": {
        "id": "JV8NyH1q6I-b",
        "colab": {
          "base_uri": "https://localhost:8080/"
        },
        "outputId": "ef5f9048-9b7e-488b-a8af-5182d423f608"
      },
      "execution_count": 8,
      "outputs": [
        {
          "output_type": "execute_result",
          "data": {
            "text/plain": [
              "['Hello', ',', 'ĠLP', 'ĠN', 'LP', '!']"
            ]
          },
          "metadata": {},
          "execution_count": 8
        }
      ]
    },
    {
      "cell_type": "markdown",
      "source": [
        "Рідкісні слова будуть розбиті на підслова:"
      ],
      "metadata": {
        "id": "7SFJkiCn60kS"
      }
    },
    {
      "cell_type": "code",
      "source": [
        "tokenizer.convert_ids_to_tokens(tokenizer.encode(\"My name is Vasyl Hunia\"))"
      ],
      "metadata": {
        "id": "RxmMsUgo6u7-",
        "colab": {
          "base_uri": "https://localhost:8080/"
        },
        "outputId": "9bd5f9c0-1d88-4c00-b2ef-299422d69542"
      },
      "execution_count": 10,
      "outputs": [
        {
          "output_type": "execute_result",
          "data": {
            "text/plain": [
              "['My', 'Ġname', 'Ġis', 'ĠVas', 'yl', 'ĠHun', 'ia']"
            ]
          },
          "metadata": {},
          "execution_count": 10
        }
      ]
    },
    {
      "cell_type": "markdown",
      "metadata": {
        "id": "S3Uh8W7wMpwE"
      },
      "source": [
        "## Перевірка моделі -- один крок ітерації"
      ]
    },
    {
      "cell_type": "markdown",
      "metadata": {
        "id": "_LiBLRgyNu32"
      },
      "source": [
        "Ми генеруватимемо текст в циклі токен за токеном, зліва направо. Але для початку розберімо, як виглядає один крок такого циклу.\n"
      ]
    },
    {
      "cell_type": "markdown",
      "metadata": {
        "id": "c9cbLyy3N-u9"
      },
      "source": [
        "На кожному кроці на вхід моделі подаємо ті токени, які вже згенеровано.\n",
        "\n",
        "На першому кроці у нас ще нічого не згенеровано. Тому починаємо зі токену `<BOS>` (\"begin of sentence\"). В різних моделях він виглядає по-різному. Подивимося, що в GPT-2:\n"
      ]
    },
    {
      "cell_type": "code",
      "source": [
        "tokenizer.bos_token"
      ],
      "metadata": {
        "id": "xRVmoPoj0-IR",
        "colab": {
          "base_uri": "https://localhost:8080/",
          "height": 36
        },
        "outputId": "c66b5a2d-035d-4510-b629-12d469974b00"
      },
      "execution_count": 11,
      "outputs": [
        {
          "output_type": "execute_result",
          "data": {
            "text/plain": [
              "'<|endoftext|>'"
            ],
            "application/vnd.google.colaboratory.intrinsic+json": {
              "type": "string"
            }
          },
          "metadata": {},
          "execution_count": 11
        }
      ]
    },
    {
      "cell_type": "code",
      "source": [
        "tokenizer.bos_token_id"
      ],
      "metadata": {
        "id": "bqnkWMCO3FOS",
        "colab": {
          "base_uri": "https://localhost:8080/"
        },
        "outputId": "f2d3d06a-bd19-4bf9-ff44-ab0a087d0360"
      },
      "execution_count": 12,
      "outputs": [
        {
          "output_type": "execute_result",
          "data": {
            "text/plain": [
              "50256"
            ]
          },
          "metadata": {},
          "execution_count": 12
        }
      ]
    },
    {
      "cell_type": "code",
      "execution_count": 13,
      "metadata": {
        "id": "y6z8l1TlRQa-",
        "colab": {
          "base_uri": "https://localhost:8080/"
        },
        "outputId": "e7110dc9-82e4-409f-cb62-a6527750166b"
      },
      "outputs": [
        {
          "output_type": "execute_result",
          "data": {
            "text/plain": [
              "tensor([[50256]])"
            ]
          },
          "metadata": {},
          "execution_count": 13
        }
      ],
      "source": [
        "# Формуємо вхідний батч. Майже завжди для більшої ефективності\n",
        "# нейронні мережі очікують на вхід кілька незалежних речень\n",
        "# (або зображень у випадку з комп'ютерним зором)\n",
        "#\n",
        "# В нашій роботі ми завжди працюємо лише з одним реченням,\n",
        "# тож розмір батча дорівнює одинці. Але все одно маємо\n",
        "# оформити вхід як матрицю:\n",
        "input_ = torch.LongTensor([[tokenizer.bos_token_id]])\n",
        "input_"
      ]
    },
    {
      "cell_type": "code",
      "execution_count": 14,
      "metadata": {
        "id": "vSiBQkJJSGue",
        "colab": {
          "base_uri": "https://localhost:8080/"
        },
        "outputId": "7e8badf2-c932-4965-de08-8c60d8c93a39"
      },
      "outputs": [
        {
          "output_type": "execute_result",
          "data": {
            "text/plain": [
              "torch.Size([1, 1, 50257])"
            ]
          },
          "metadata": {},
          "execution_count": 14
        }
      ],
      "source": [
        "# Нарешті робимо крок генерації\n",
        "output = model(input_, return_dict=True)\n",
        "\n",
        "# На виході модель повертає вектор з logits -- ненормалізованими\n",
        "# ймовірностями кожного токена в словнику\n",
        "output.logits.shape"
      ]
    },
    {
      "cell_type": "markdown",
      "source": [
        "Чому маємо саме таку розмірність?\n",
        "\n",
        "* Перша одиниця -- розмір батча, тобто кількість вхідних речень.\n",
        "* Друга одиниця -- це довжина вхідної послідовності. На першому кроці ми подали лише один токен (bos_token)\n",
        "* 50257 -- це розмір словника"
      ],
      "metadata": {
        "id": "Ckux9YLV4viE"
      }
    },
    {
      "cell_type": "code",
      "source": [
        "tokenizer.vocab_size"
      ],
      "metadata": {
        "id": "P_YkZjZl5MoV",
        "colab": {
          "base_uri": "https://localhost:8080/"
        },
        "outputId": "c1e4b8bd-ff19-490a-ddfd-76625d151e06"
      },
      "execution_count": 15,
      "outputs": [
        {
          "output_type": "execute_result",
          "data": {
            "text/plain": [
              "50257"
            ]
          },
          "metadata": {},
          "execution_count": 15
        }
      ]
    },
    {
      "cell_type": "markdown",
      "metadata": {
        "id": "xNoTYS-1Sr2y"
      },
      "source": [
        "Поки що модель повернула не ймовірності, а просто якісь числа. Їм треба нормалізувати функцією softmax:"
      ]
    },
    {
      "cell_type": "code",
      "source": [
        "probs = torch.softmax(output.logits, dim=-1)"
      ],
      "metadata": {
        "id": "GNlOw5qT3wXP"
      },
      "execution_count": 16,
      "outputs": []
    },
    {
      "cell_type": "code",
      "execution_count": 17,
      "metadata": {
        "id": "dMCovI7uS1N8",
        "colab": {
          "base_uri": "https://localhost:8080/"
        },
        "outputId": "176156bd-04e0-4119-df12-6142eb59937b"
      },
      "outputs": [
        {
          "output_type": "execute_result",
          "data": {
            "text/plain": [
              "torch.Size([1, 1, 50257])"
            ]
          },
          "metadata": {},
          "execution_count": 17
        }
      ],
      "source": [
        "# Розмірність має збігатися з розміром словника\n",
        "probs.shape"
      ]
    },
    {
      "cell_type": "code",
      "execution_count": 18,
      "metadata": {
        "id": "_1H8iIaSTHJl",
        "colab": {
          "base_uri": "https://localhost:8080/"
        },
        "outputId": "a376e0c6-87f3-4642-db54-3fef0881281d"
      },
      "outputs": [
        {
          "output_type": "execute_result",
          "data": {
            "text/plain": [
              "tensor(1.0000, grad_fn=<SumBackward0>)"
            ]
          },
          "metadata": {},
          "execution_count": 18
        }
      ],
      "source": [
        "# Сума ймовірностей має дорівнювати 1.0\n",
        "probs.sum()"
      ]
    },
    {
      "cell_type": "markdown",
      "source": [
        "Ймовірності можуть ставати дуже маленькими та причиняти проблеми у зв'язку з обмеженою точністю float чисел. Тому прийнято працювати з логарифмами ймовірностей."
      ],
      "metadata": {
        "id": "jUzNuPn15o7y"
      }
    },
    {
      "cell_type": "code",
      "source": [
        "log_probs = torch.log_softmax(output.logits, dim=-1)\n",
        "\n",
        "# Щоб перейти до звичайних ймовірностей, маємо зробити експоненціювання\n",
        "log_probs.exp().sum()"
      ],
      "metadata": {
        "id": "sAN57ZiW5-75",
        "colab": {
          "base_uri": "https://localhost:8080/"
        },
        "outputId": "d6397aff-66e8-4571-9b31-48b41733529e"
      },
      "execution_count": 19,
      "outputs": [
        {
          "output_type": "execute_result",
          "data": {
            "text/plain": [
              "tensor(1., grad_fn=<SumBackward0>)"
            ]
          },
          "metadata": {},
          "execution_count": 19
        }
      ]
    },
    {
      "cell_type": "markdown",
      "source": [
        "Кожному слову в словнику відповідає своя ймовірність бути побаченим\n",
        "після заданого префікса. Префіксом у нас поки що був лише одни `bos_token`.\n"
      ],
      "metadata": {
        "id": "ZYdd1kQv6kYU"
      }
    },
    {
      "cell_type": "code",
      "execution_count": 20,
      "metadata": {
        "id": "kA1iznWPTdK4",
        "colab": {
          "base_uri": "https://localhost:8080/"
        },
        "outputId": "5d11c6af-ca14-422f-b9fc-37e822701165"
      },
      "outputs": [
        {
          "output_type": "stream",
          "name": "stdout",
          "text": [
            "P(I) = 0.01832086220383644\n",
            "P(red) = 0.00010652346827555448\n",
            "P(Why) = 0.0008686604560352862\n"
          ]
        }
      ],
      "source": [
        "# Яка ймовірність, що речення почнеться зі слів \"I\", \"red\", \"Why\"?\n",
        "for word in (\"I\", \"red\", \"Why\"):\n",
        "    index = tokenizer.convert_tokens_to_ids(word)\n",
        "    prob = log_probs[0, 0, index].exp()\n",
        "    print(f\"P({word}) = {prob}\")"
      ]
    },
    {
      "cell_type": "markdown",
      "metadata": {
        "id": "kaoCr91RTw4Z"
      },
      "source": [
        "Тепер ми маємо ймовірностний розподіл по словнику. Можемо обрати слово, яке вважатимемо згенерованим. Тут можливі кілька стратегій, які ми розглянемо в наступних розділах."
      ]
    },
    {
      "cell_type": "markdown",
      "metadata": {
        "id": "wUbajoW_-ClA"
      },
      "source": [
        "## Greedy decoding"
      ]
    },
    {
      "cell_type": "markdown",
      "metadata": {
        "id": "9yOkcB3FUd3N"
      },
      "source": [
        "Найпростіший (але й не дуже цікавий) спосіб -- це завжди обирати токен з найбільшою ймовірністю:"
      ]
    },
    {
      "cell_type": "code",
      "execution_count": 21,
      "metadata": {
        "id": "wG7QsAjPUoHW",
        "colab": {
          "base_uri": "https://localhost:8080/"
        },
        "outputId": "5a6b72e7-0df5-45f0-9043-2490cbdf9fa2"
      },
      "outputs": [
        {
          "output_type": "execute_result",
          "data": {
            "text/plain": [
              "tensor(198)"
            ]
          },
          "metadata": {},
          "execution_count": 21
        }
      ],
      "source": [
        "next_token_id = log_probs.argmax()\n",
        "next_token_id"
      ]
    },
    {
      "cell_type": "code",
      "execution_count": null,
      "metadata": {
        "id": "Z87pe4Y0VJ1W"
      },
      "outputs": [],
      "source": [
        "probs[-1, -1, 198]"
      ]
    },
    {
      "cell_type": "code",
      "execution_count": 22,
      "metadata": {
        "id": "WaZRZWpAUtNY",
        "colab": {
          "base_uri": "https://localhost:8080/"
        },
        "outputId": "9a7594f1-e0b0-4553-8f81-9450954ebef8"
      },
      "outputs": [
        {
          "output_type": "execute_result",
          "data": {
            "text/plain": [
              "['Ċ']"
            ]
          },
          "metadata": {},
          "execution_count": 22
        }
      ],
      "source": [
        "tokenizer.convert_ids_to_tokens([next_token_id])  # Наш перший згенерований токен"
      ]
    },
    {
      "cell_type": "markdown",
      "metadata": {
        "id": "YVB5pXOoX29S"
      },
      "source": [
        "Зберемо код докупи та додамо цикл. В циклі ми продовжуватимемо генерувати текст токен за токеном, поки не настане одна з двох умов:\n",
        "1. Модель видала спецальний токен `eos_token` (end of sentence)\n",
        "2. Довжина згенерованого тексту перевищила певний поріг `max_len`\n",
        "\n",
        "У хорошої моделі в більшості випадків має спрацьовувати перша умова зупинки. Проте іноді модель може впасти в безкінчений цикл. Щоб цьому запобігти, маємо другу умову."
      ]
    },
    {
      "cell_type": "code",
      "execution_count": 38,
      "metadata": {
        "id": "cG8nI5WG-Qb5"
      },
      "outputs": [],
      "source": [
        "@torch.no_grad()\n",
        "def greedy_decode(model, tokenizer, max_len=50):\n",
        "    start_index = tokenizer.bos_token_id\n",
        "    result = [start_index]\n",
        "\n",
        "    while len(result) < max_len:\n",
        "\n",
        "        # Передбачення ймовірностней наступного токена\n",
        "        input_ = torch.LongTensor([result])\n",
        "        output = model(input_)\n",
        "        last_token_logits = output.logits[:, -1, :]\n",
        "        probs = torch.log_softmax(last_token_logits.squeeze(0), dim=-1)\n",
        "\n",
        "        # Обираємо токен, що має найбільшу ймовірність\n",
        "        token_index = probs.argmax()\n",
        "\n",
        "        # Зупиняємося, якщо досягли кінця\n",
        "        if token_index == tokenizer.eos_token_id:\n",
        "            break\n",
        "\n",
        "        # Додаємо обраний токен в згенерований текст\n",
        "        result.append(token_index.item())\n",
        "\n",
        "    return result\n",
        "\n",
        "\n",
        "generated_token_ids = greedy_decode(model, tokenizer)"
      ]
    },
    {
      "cell_type": "markdown",
      "source": [
        "Маємо список згенерованих індексів токенів, який починається ось так:"
      ],
      "metadata": {
        "id": "4myF4KrG-rxZ"
      }
    },
    {
      "cell_type": "code",
      "source": [
        "generated_token_ids[:10]"
      ],
      "metadata": {
        "id": "FXp0P-Yz-0UG",
        "colab": {
          "base_uri": "https://localhost:8080/"
        },
        "outputId": "0c339e49-6c25-46e4-e85b-bc89ed78d2e6"
      },
      "execution_count": 39,
      "outputs": [
        {
          "output_type": "execute_result",
          "data": {
            "text/plain": [
              "[50256, 198, 464, 717, 640, 314, 2497, 262, 649, 2196]"
            ]
          },
          "metadata": {},
          "execution_count": 39
        }
      ]
    },
    {
      "cell_type": "markdown",
      "source": [
        "Перетворимо їх в текст:"
      ],
      "metadata": {
        "id": "ANlG9v8--8Fa"
      }
    },
    {
      "cell_type": "code",
      "source": [
        "tokens = tokenizer.convert_ids_to_tokens(generated_token_ids)\n",
        "tokens[:10]"
      ],
      "metadata": {
        "id": "t7X6m4vs91IJ",
        "colab": {
          "base_uri": "https://localhost:8080/"
        },
        "outputId": "d40eed51-59d9-460b-e65a-7abba22e5d4a"
      },
      "execution_count": 40,
      "outputs": [
        {
          "output_type": "execute_result",
          "data": {
            "text/plain": [
              "['<|endoftext|>',\n",
              " 'Ċ',\n",
              " 'The',\n",
              " 'Ġfirst',\n",
              " 'Ġtime',\n",
              " 'ĠI',\n",
              " 'Ġsaw',\n",
              " 'Ġthe',\n",
              " 'Ġnew',\n",
              " 'Ġversion']"
            ]
          },
          "metadata": {},
          "execution_count": 40
        }
      ]
    },
    {
      "cell_type": "code",
      "source": [
        "generated_text = \"\".join(tokens)\n",
        "generated_text"
      ],
      "metadata": {
        "id": "vde2_-J1_JDv",
        "colab": {
          "base_uri": "https://localhost:8080/",
          "height": 53
        },
        "outputId": "89c204ca-5c5e-4b9a-9b8c-c534fd7615c7"
      },
      "execution_count": 41,
      "outputs": [
        {
          "output_type": "execute_result",
          "data": {
            "text/plain": [
              "'<|endoftext|>ĊTheĠfirstĠtimeĠIĠsawĠtheĠnewĠversionĠofĠtheĠgame,ĠIĠwasĠsoĠexcited.ĠIĠwasĠsoĠexcitedĠtoĠseeĠtheĠnewĠversionĠofĠtheĠgame,ĠIĠwasĠsoĠexcitedĠtoĠseeĠtheĠnewĠversionĠofĠtheĠgame,ĠIĠwasĠsoĠexcitedĠto'"
            ],
            "application/vnd.google.colaboratory.intrinsic+json": {
              "type": "string"
            }
          },
          "metadata": {},
          "execution_count": 41
        }
      ]
    },
    {
      "cell_type": "code",
      "execution_count": 42,
      "metadata": {
        "id": "Qv0i3pqdJ3Bn",
        "colab": {
          "base_uri": "https://localhost:8080/",
          "height": 88
        },
        "outputId": "b6989948-e23b-4fdb-ce3d-663878196eb4"
      },
      "outputs": [
        {
          "output_type": "stream",
          "name": "stdout",
          "text": [
            "Відповідь правильна ✅\n",
            "\n"
          ]
        },
        {
          "output_type": "execute_result",
          "data": {
            "text/plain": [
              "'<|endoftext|>ĊTheĠfirstĠtimeĠIĠsawĠtheĠnewĠversionĠofĠtheĠgame,ĠIĠwasĠsoĠexcited.ĠIĠwasĠsoĠexcitedĠtoĠseeĠtheĠnewĠversionĠofĠtheĠgame,ĠIĠwasĠsoĠexcitedĠtoĠseeĠtheĠnewĠversionĠofĠtheĠgame,ĠIĠwasĠsoĠexcitedĠto'"
            ],
            "application/vnd.google.colaboratory.intrinsic+json": {
              "type": "string"
            }
          },
          "metadata": {},
          "execution_count": 42
        }
      ],
      "source": [
        "lab.checkpoint(\"greedy decode\", generated_text)"
      ]
    },
    {
      "cell_type": "markdown",
      "metadata": {
        "id": "9GN1tc5kYsOk"
      },
      "source": [
        "### Примітка: Byte-pair encoding (BPE)\n",
        "\n",
        "Наша модель використовує subword токенізацію, а саме byte-pair encoding (BPE). В сучасному NLP це найрозповсюдженіший спосіб токенізації. Детально можете подивитися в [цьому відео](https://www.youtube.com/watch?v=tOMjTCO0htA).\n",
        "\n",
        "Для наших цілей зараз важливо, що BPE заміняє пробіли на спеціальні Unicode-символи \"Ġ\". Серед інших моделей широко поширений варіант \"▁\" (зверніть увагу, це не звичайний символ підкреслення \"_\"). Щоб отримати чистий текст, треба виконати наступну заміну:"
      ]
    },
    {
      "cell_type": "code",
      "execution_count": 43,
      "metadata": {
        "id": "5S_BPCLY_V9h",
        "colab": {
          "base_uri": "https://localhost:8080/",
          "height": 53
        },
        "outputId": "66d88596-a165-4100-a296-08a0f0c81208"
      },
      "outputs": [
        {
          "output_type": "execute_result",
          "data": {
            "text/plain": [
              "'<|endoftext|>\\nThe first time I saw the new version of the game, I was so excited. I was so excited to see the new version of the game, I was so excited to see the new version of the game, I was so excited to'"
            ],
            "application/vnd.google.colaboratory.intrinsic+json": {
              "type": "string"
            }
          },
          "metadata": {},
          "execution_count": 43
        }
      ],
      "source": [
        "def bpe_decode(s):\n",
        "    result = s.replace(\"Ġ\", \" \")\n",
        "    result = result.replace(\"Ċ\", \"\\n\")\n",
        "    return result\n",
        "\n",
        "bpe_decode(generated_text)"
      ]
    },
    {
      "cell_type": "markdown",
      "source": [
        "Але краще довіритися токенізатору й зробити цю роботу за нас:"
      ],
      "metadata": {
        "id": "42kMbpie_3cb"
      }
    },
    {
      "cell_type": "code",
      "source": [
        "tokenizer.convert_tokens_to_string(tokens)"
      ],
      "metadata": {
        "id": "oycMPnuo__po",
        "colab": {
          "base_uri": "https://localhost:8080/",
          "height": 53
        },
        "outputId": "7ee45be0-5f73-438d-8780-e1f41c6ad707"
      },
      "execution_count": 44,
      "outputs": [
        {
          "output_type": "execute_result",
          "data": {
            "text/plain": [
              "'<|endoftext|>\\nThe first time I saw the new version of the game, I was so excited. I was so excited to see the new version of the game, I was so excited to see the new version of the game, I was so excited to'"
            ],
            "application/vnd.google.colaboratory.intrinsic+json": {
              "type": "string"
            }
          },
          "metadata": {},
          "execution_count": 44
        }
      ]
    },
    {
      "cell_type": "markdown",
      "metadata": {
        "id": "vK0wKs4IAk4l"
      },
      "source": [
        "## Generic decoding function\n",
        "\n",
        "Обирати слово з найбільшою ймовірністю -- не найкращий варіант для генерації тексту хоча б тому, що він завжди детерміновано призводить до однієї послідовності. Нижче ми подивимося на цікавіші альтернативи.\n",
        "\n",
        "Цикл генерації залишиться той самий, що і в `greedy_decode()`. Відрізнятися буде лише один рядок -- той, в якому ми приймали рішення, яке слово обрати. Для зручності, винесемо цей рядок в окрему функцію. Ця функція прийматиме на вхід ймовірностний розподіл по словнику і повертає обраний токен."
      ]
    },
    {
      "cell_type": "code",
      "execution_count": 45,
      "metadata": {
        "id": "8KQ_8Mky9enZ"
      },
      "outputs": [],
      "source": [
        "def greedy_choice(probs):\n",
        "    return probs.argmax()"
      ]
    },
    {
      "cell_type": "markdown",
      "metadata": {
        "id": "XmH11o729oQL"
      },
      "source": [
        "Функцію генерації також трохи переробимо.\n",
        "\n",
        "По-перше, додамо параметр `sample_fn` -- це має бути функція, яка обирає слово з ймовірностного розподілу, наприклад, `greedy_choice`.\n",
        "\n",
        "По-друге, для зручності виконуватимемо BPE декодинг у середині функції генерації."
      ]
    },
    {
      "cell_type": "code",
      "execution_count": 57,
      "metadata": {
        "id": "7eEGscC5Amzw",
        "colab": {
          "base_uri": "https://localhost:8080/",
          "height": 53
        },
        "outputId": "8946a7b1-04fa-46ea-8e1f-97bda87dd1c1"
      },
      "outputs": [
        {
          "output_type": "execute_result",
          "data": {
            "text/plain": [
              "'<|endoftext|>\\nThe first time I saw the new version of the game, I was so excited. I was so excited to see the new version of the game, I was so excited to see the new version of the game, I was so excited to'"
            ],
            "application/vnd.google.colaboratory.intrinsic+json": {
              "type": "string"
            }
          },
          "metadata": {},
          "execution_count": 57
        }
      ],
      "source": [
        "@torch.no_grad()\n",
        "def generate(model, tokenizer, sample_fn, max_len=50, bpe_decode=True):\n",
        "    start_index = tokenizer.bos_token_id\n",
        "    result = [start_index]\n",
        "\n",
        "    while len(result) < max_len:\n",
        "\n",
        "        # Передбачення ймовірностней наступного токена\n",
        "        input_ = torch.LongTensor([result])\n",
        "        output = model(input_)\n",
        "        last_token_logits = output.logits[:, -1, :]\n",
        "        probs = torch.log_softmax(last_token_logits.squeeze(0), dim=-1).exp()\n",
        "\n",
        "        # Обираємо токен, що має найбільшу ймовірність\n",
        "        token_index = sample_fn(probs)     # <---------------- цей рядок змінено\n",
        "\n",
        "        # Зупиняємося, якщо досягнули кінця\n",
        "        if token_index == tokenizer.eos_token_id:\n",
        "            break\n",
        "\n",
        "        # Додаємо обраний токен в згенерований текст\n",
        "        result.append(token_index.item())\n",
        "\n",
        "    if bpe_decode:\n",
        "        tokens = tokenizer.convert_ids_to_tokens(result)\n",
        "        result = tokenizer.convert_tokens_to_string(tokens)\n",
        "\n",
        "    return result\n",
        "\n",
        "\n",
        "generate(model, tokenizer, greedy_choice)"
      ]
    },
    {
      "cell_type": "markdown",
      "metadata": {
        "id": "GXHiIrfZAnpW"
      },
      "source": [
        "## Simple sampling"
      ]
    },
    {
      "cell_type": "markdown",
      "metadata": {
        "id": "7bbdLT96Bd8c"
      },
      "source": [
        "Перший альтернатива -- це sampling. Тепер ми обираємо наступний токен випадково, але пропорційно до ймовірностей."
      ]
    },
    {
      "cell_type": "code",
      "execution_count": 58,
      "metadata": {
        "id": "01Y-djIkAsGB",
        "colab": {
          "base_uri": "https://localhost:8080/"
        },
        "outputId": "85987bdf-29eb-4a00-f339-06f03208877c"
      },
      "outputs": [
        {
          "output_type": "stream",
          "name": "stdout",
          "text": [
            "#1: <|endoftext|>In our last installment of the SAFE Pure Quartz Series, we talked about having a couple tested wigs of Sleeping Beauty Tales, a wig of added sun protection, and a sentinel of ambient cloth so that the wearer can attack the weak.\n",
            "\n",
            "#2: <|endoftext|>adidas Originals Embossed Maneel\n",
            "\n",
            "Anthro Statement\n",
            "\n",
            "When there's something I want to do, I want to be still. That's what made me become a Tobacco Mask painter in spite of how reserved my heart was\n",
            "\n",
            "#3: <|endoftext|>Pomgrind, responsible for painting stigma norms in contemporary Japan , Dip, (1) Chapter XXXVI.\n",
            "\n",
            "Japanese culture has shaped and shaped the way an individual lives . By translating Victorian 'craft' into the Chinese, the traditional\n",
            "\n",
            "#4: <|endoftext|>\n",
            "The latest in a wave of revelations has prompted Canada to demand that the dispute settlement process is set up differently. On Wednesday, a judge dismissed an appeal by the Bar of Ontario in safety court over whether the court expected the government to properly consult\n",
            "\n",
            "#5: <|endoftext|>Taughan Curry plot to help 'Hollywood Star' Ben Affleck win Oscars\n",
            "\n",
            "During Bill Cosby's recent public stunt attempt on Jan. 2, Fox was awarded the \"Best of the Best\" title for their stunt shifts, after\n",
            "\n"
          ]
        }
      ],
      "source": [
        "def simple_sample(probs):\n",
        "    return torch.multinomial(probs, num_samples=1)[0]\n",
        "\n",
        "# Згенеруємо 5 речень\n",
        "for i in range(1, 6):\n",
        "    result = generate(model, tokenizer, simple_sample)\n",
        "    print(f\"#{i}: {result}\")\n",
        "    print()"
      ]
    },
    {
      "cell_type": "markdown",
      "metadata": {
        "id": "XwJG_jGmBXCU"
      },
      "source": [
        "## Sampling with temperature\n",
        "\n",
        "Ми також можемо впливати на генерацію параметром температури softmax.\n",
        "\n",
        "Більші значення температури призводять до того, що різниця між ймовірностями токенів зменшується, тобто розподіл стає більш рівномірним. На практиці це означає, що менш ймовірні варіанти обиратимуться частіше і згенерований текст може бути цікавішим. Однак якщо продовжувати піднімати температуру, то текст спочатку втратить зв'язність, далі почнуть розпадатися слова та граматичність.\n",
        "\n",
        "Менші значення температури змінюють розподіл таким чином, що основна ймовірніста маса припадає на невелику кількість топових токенів. При температурі 0 вся ймовірність дістанеться одному токену й семплінг перетвориться на greedy decoding.\n",
        "\n",
        "Згенеруємо тексти з різною температурою:"
      ]
    },
    {
      "cell_type": "code",
      "execution_count": 52,
      "metadata": {
        "id": "0Y_J1eS3BfTF",
        "colab": {
          "base_uri": "https://localhost:8080/"
        },
        "outputId": "609918cd-ce43-43ee-aebf-068512913395"
      },
      "outputs": [
        {
          "output_type": "stream",
          "name": "stdout",
          "text": [
            "Sampling with temperature=0.1\n",
            "<|endoftext|>\n",
            "The first time I saw the new version of the game, I\n",
            "\n",
            "Sampling with temperature=0.3\n",
            "<|endoftext|>The following is a list of the top 10 best-selling books of\n",
            "\n",
            "Sampling with temperature=0.5\n",
            "<|endoftext|>While the world is still reeling from the devastating aftermath of the 9/\n",
            "\n",
            "Sampling with temperature=0.8\n",
            "<|endoftext|>Idaho's Republican Gov. Gary Herbert was a prime example of the\n",
            "\n",
            "Sampling with temperature=1.0\n",
            "<|endoftext|>Begging to see how and where her mother settled in Maine has always\n",
            "\n",
            "Sampling with temperature=1.25\n",
            "<|endoftext|>BIRMINGHAM — Daily News Editor Lewis Gunn talks about designATING\n",
            "\n",
            "Sampling with temperature=1.5\n",
            "<|endoftext|>hotwabex 3685 group. sublime ballange advances closed.\n",
            "\n",
            "Sampling with temperature=2.0\n",
            "<|endoftext|>point93 127./ with satisfactory responsiveness and partisan inquiry positives,\" appeared President\n",
            "\n",
            "Sampling with temperature=3.0\n",
            "<|endoftext|> theatCasrpmigrMissFarVery agricultural Wastelandico Riceflightuddfeet\n",
            "\n",
            "Sampling with temperature=5.0\n",
            "<|endoftext|>784 standout crammed overflowing residencesule spans Sof Batt contempliders tits scarf functionally\n",
            "\n"
          ]
        }
      ],
      "source": [
        "for temperature in (0.1, 0.3, 0.5, 0.8, 1.0, 1.25, 1.5, 2.0, 3.0, 5.0):\n",
        "\n",
        "    def sample_with_temp(probs):\n",
        "        updated_probs = torch.pow(probs, 1 / temperature)  # Піднесення до степеня\n",
        "        updated_probs = updated_probs / torch.sum(updated_probs)  # Нормалізація\n",
        "        return simple_sample(updated_probs)\n",
        "\n",
        "    print(f\"Sampling with temperature={temperature}\")\n",
        "    result = generate(model, tokenizer, sample_with_temp, max_len=15)\n",
        "    print(result)\n",
        "    print()"
      ]
    },
    {
      "cell_type": "code",
      "source": [
        "# Яке значення `temperature` здається вам оптимальною?\n",
        "lab.checkpoint(\"softmax temperature\", 0.3)"
      ],
      "metadata": {
        "id": "ShTm-dddw6s9",
        "colab": {
          "base_uri": "https://localhost:8080/"
        },
        "outputId": "68fdf3d2-fd76-4ace-e5d5-7715667fcfc5"
      },
      "execution_count": 53,
      "outputs": [
        {
          "output_type": "stream",
          "name": "stdout",
          "text": [
            "Відповідь правильна ✅\n",
            "Окей, добре\n"
          ]
        },
        {
          "output_type": "execute_result",
          "data": {
            "text/plain": [
              "0.3"
            ]
          },
          "metadata": {},
          "execution_count": 53
        }
      ]
    },
    {
      "cell_type": "markdown",
      "source": [
        "Все залежить від задачі, якщо потрібна точність і надійність то потрібно брати не велике значення, якщо брати більші значення то модель починає більше \"творити\"."
      ],
      "metadata": {
        "id": "5t9JeNVqS_Fn"
      }
    },
    {
      "cell_type": "markdown",
      "metadata": {
        "id": "KO9-xZxRBkIB"
      },
      "source": [
        "## Top-k sampling"
      ]
    },
    {
      "cell_type": "code",
      "execution_count": 56,
      "metadata": {
        "id": "HqPZTXxZCQdc"
      },
      "outputs": [],
      "source": [
        "def top_k_sampling(probs, k):\n",
        "    topk = probs.topk(k)\n",
        "    index = torch.multinomial(topk.values, num_samples=1)[0]\n",
        "#     print(f\"Top {k} words take {topk.values.sum():%} probability mass\")\n",
        "    return topk.indices[index]"
      ]
    },
    {
      "cell_type": "code",
      "execution_count": 55,
      "metadata": {
        "id": "Q2BAZ9mnCRGC",
        "colab": {
          "base_uri": "https://localhost:8080/"
        },
        "outputId": "2b3c7319-1399-4008-f4a6-1c968b53b7fe"
      },
      "outputs": [
        {
          "output_type": "stream",
          "name": "stdout",
          "text": [
            "#1: <|endoftext|>\"There are things we don't even know yet, but we do know what they are.\n",
            "\n",
            "#2: <|endoftext|>Cameron Brantley has a reputation as an outsider. A former business partner and an early\n",
            "\n",
            "#3: <|endoftext|>In the last four months, the United States has become a more diverse, multicultural country than it\n",
            "\n",
            "#4: <|endoftext|>The number of people who were killed and injured in the conflict has reached a record high, with\n",
            "\n",
            "#5: <|endoftext|>\"The United States' relationship with its allies is a very good thing for Europe,\" Merkel stated\n",
            "\n"
          ]
        }
      ],
      "source": [
        "k = 15\n",
        "sample_fn = lambda probs: top_k_sampling(probs, k=k)\n",
        "for i in range(1, 6):\n",
        "    result = generate(model, tokenizer, sample_fn, max_len=20)\n",
        "    print(f\"#{i}: {result}\")\n",
        "    print()"
      ]
    },
    {
      "cell_type": "markdown",
      "metadata": {
        "id": "CuJFHRsaCoAK"
      },
      "source": [
        "## Nucleus (top-p) sampling"
      ]
    },
    {
      "cell_type": "code",
      "execution_count": 62,
      "metadata": {
        "id": "PUIZQgXhCU1l"
      },
      "outputs": [],
      "source": [
        "def nucleus_sampling(probs, max_p):\n",
        "    sorted_probs = probs.sort(descending=True)\n",
        "    cum_prob = 0.0\n",
        "    sample_indices = []\n",
        "    sample_probs = []\n",
        "    for i in range(0, len(sorted_probs.values)):\n",
        "        p = sorted_probs.values[i]\n",
        "        cum_prob += p\n",
        "        sample_probs.append(p)\n",
        "        sample_indices.append(sorted_probs.indices[i])\n",
        "        if cum_prob >= max_p:        # <---------- Implement this\n",
        "            break\n",
        "\n",
        "    sample_probs_tensor = torch.tensor(sample_probs)\n",
        "    sample_probs_tensor /= sample_probs_tensor.sum()  # Нормалізація ймовірностей\n",
        "    index = torch.multinomial(sample_probs_tensor, 1).item()  # Вибір випадкового індексу\n",
        "\n",
        "    return sample_indices[index]"
      ]
    },
    {
      "cell_type": "code",
      "execution_count": 63,
      "metadata": {
        "id": "FXuy2S8tCq_Z",
        "colab": {
          "base_uri": "https://localhost:8080/"
        },
        "outputId": "9cca64c9-68bd-4893-ac7e-bff50b823486"
      },
      "outputs": [
        {
          "output_type": "stream",
          "name": "stdout",
          "text": [
            "#0.0: <|endoftext|>\n",
            "The first time I saw the new version of the game, I was so excited. I\n",
            "\n",
            "#0.1: <|endoftext|>\n",
            "The first of the two big games of the season, the Jets are in the midst of\n",
            "\n",
            "#0.3: <|endoftext|>Cristiano Ronaldo has said he is not interested in joining Manchester United and will not sign a\n",
            "\n",
            "#0.5: <|endoftext|>It is the past four years that a new project, The Great Escape, has been put together\n",
            "\n",
            "#0.6: <|endoftext|>- Advertisement -\n",
            "\n",
            "The the question is, what is the best way to introduce female nudity\n",
            "\n",
            "#0.8: <|endoftext|>\"My term as a leader is limited to ensuring we are not the enemy of the people.\n",
            "\n",
            "#1.0: <|endoftext|>people promoting AIs\n",
            "\n",
            "According to one book, using factors like books, books and numbers\n",
            "\n"
          ]
        }
      ],
      "source": [
        "for max_p in (0.0, 0.1, 0.3, 0.5, 0.6, 0.8, 1.0):\n",
        "    sample_fn = lambda probs: nucleus_sampling(probs, max_p=max_p)\n",
        "    result = generate(model, tokenizer, sample_fn, max_len=20)\n",
        "    print(f\"#{max_p}: {result}\")\n",
        "    print()"
      ]
    },
    {
      "cell_type": "markdown",
      "metadata": {
        "id": "ra-F6HyTCxcG"
      },
      "source": [
        "## Start from prompt\n",
        "\n",
        "До цього моменту ми генерували текст з нуля. Однак значно кориснішим є задача генерації тексту від певного префікса або \"підказки\" -- в англійській мові це називається \"prompt\".\n",
        "\n",
        "Prompt дозволить нам контролювати тематику згенерованого тексту або, як ми побачимо на іншій лекції, допоможе моделі виконувати різноманітні завдання."
      ]
    },
    {
      "cell_type": "code",
      "execution_count": 64,
      "metadata": {
        "id": "7mP3YWPfDI7Q"
      },
      "outputs": [],
      "source": [
        "@torch.no_grad()\n",
        "def generate(model, tokenizer, sample_fn, prompt, max_len=50, bpe_decode=True):\n",
        "\n",
        "    result = tokenizer.encode(prompt)     # <---- цей рядок додано\n",
        "\n",
        "    while len(result) < max_len:\n",
        "\n",
        "        # Передбачення ймовірностней наступного токена\n",
        "        input_ = torch.LongTensor([result])\n",
        "        output = model(input_)\n",
        "        log_probs = torch.log_softmax(output.logits[0, -1], dim=-1)\n",
        "\n",
        "        # Обираємо токен, що має найбільшу ймовірність\n",
        "        token_index = sample_fn(log_probs.exp())\n",
        "\n",
        "        # Зупиняємося, якщо досягнули кінця\n",
        "        if token_index == tokenizer.eos_token_id:\n",
        "            break\n",
        "\n",
        "        # Додаємо обраний токен в згенерований текст\n",
        "        result.append(token_index.item())\n",
        "\n",
        "    if bpe_decode:\n",
        "        tokens = tokenizer.convert_ids_to_tokens(result)\n",
        "        result = tokenizer.convert_tokens_to_string(tokens)\n",
        "\n",
        "    return result"
      ]
    },
    {
      "cell_type": "code",
      "execution_count": 66,
      "metadata": {
        "id": "tBf2m-x7DJ0r",
        "colab": {
          "base_uri": "https://localhost:8080/"
        },
        "outputId": "ca33547f-cf73-4991-a4f3-572f0c395c43"
      },
      "outputs": [
        {
          "output_type": "stream",
          "name": "stdout",
          "text": [
            "#1: Lionel Messi is the best player of his generation. He's the best player of his generation. And I think that's what we've got to do.\n",
            "\n",
            "I think it's important to keep the pressure on the players. I think\n",
            "\n",
            "#2: Lionel Messi is the most popular player in the world, but he's not the most popular player in the world. The only reason why Messi is the most popular player in this league is because of his incredible ability to score goals. He's\n",
            "\n",
            "#3: Lionel Messi is a great player, and I am sure he will continue to be a good player for us.\n",
            "\n",
            "\"We will see what happens in the next few days. We have to be ready for the challenge.\n",
            "\n",
            "\"\n",
            "\n",
            "#4: Lionel Messi is the best player on the planet and has been in every single one of his three Champions League games, scoring twice.\n",
            "\n",
            "He is also one of the most important players in the world, having won the World Cup in 2010\n",
            "\n"
          ]
        }
      ],
      "source": [
        "k = 3\n",
        "sample_fn = lambda probs: top_k_sampling(probs, k=k)\n",
        "for i in range(1, 5):\n",
        "    result = generate(model, tokenizer, sample_fn, prompt=\"Lionel Messi is\")\n",
        "    print(f\"#{i}: {result}\")\n",
        "    print()\n",
        "\n",
        "\n",
        "# Спробуйте змінити prompt на щось інше"
      ]
    },
    {
      "cell_type": "markdown",
      "source": [
        "# Zero-shot класифікація\n",
        "\n",
        "Ми будемо досліджувати цю тему на окремій лекції. Але спробуємо застосувати мовну модель для задачі класифікації вже зараз. Хоча наша модель надто маленька й слабка для серйозного використання в zero-shot.\n"
      ],
      "metadata": {
        "id": "0qBd5PJlxP2i"
      }
    },
    {
      "cell_type": "code",
      "source": [
        "generate(model, tokenizer, greedy_choice, prompt=\"This film is awful! Actor play is terrible. The plot is dull. I would rate it as a\").splitlines()[0]\n"
      ],
      "metadata": {
        "id": "2-DXnTBUHurd",
        "colab": {
          "base_uri": "https://localhost:8080/",
          "height": 36
        },
        "outputId": "c4aa938c-8c3e-4f1f-8e6a-82183fe93969"
      },
      "execution_count": 67,
      "outputs": [
        {
          "output_type": "execute_result",
          "data": {
            "text/plain": [
              "'This film is awful! Actor play is terrible. The plot is dull. I would rate it as a B+.'"
            ],
            "application/vnd.google.colaboratory.intrinsic+json": {
              "type": "string"
            }
          },
          "metadata": {},
          "execution_count": 67
        }
      ]
    },
    {
      "cell_type": "code",
      "source": [
        "generate(model, tokenizer, greedy_choice, prompt=\"This film is amazing! The time flies by when you watch it. Definitely recommend! On the scale of 1 to 5, I would rate it as a\").splitlines()[0]\n"
      ],
      "metadata": {
        "id": "jceNhVHYJbMH",
        "colab": {
          "base_uri": "https://localhost:8080/",
          "height": 36
        },
        "outputId": "a7db39dd-9151-4424-da86-9527a9ff8527"
      },
      "execution_count": 68,
      "outputs": [
        {
          "output_type": "execute_result",
          "data": {
            "text/plain": [
              "'This film is amazing! The time flies by when you watch it. Definitely recommend! On the scale of 1 to 5, I would rate it as a 5.'"
            ],
            "application/vnd.google.colaboratory.intrinsic+json": {
              "type": "string"
            }
          },
          "metadata": {},
          "execution_count": 68
        }
      ]
    },
    {
      "cell_type": "code",
      "execution_count": 69,
      "metadata": {
        "id": "cuK8D9uQJR5c",
        "colab": {
          "base_uri": "https://localhost:8080/",
          "height": 70
        },
        "outputId": "76f08793-285d-47ad-9a91-c389fbeeac4b"
      },
      "outputs": [
        {
          "output_type": "stream",
          "name": "stdout",
          "text": [
            "Відповідь правильна ✅\n",
            "Ця робота не має однієї правильної відповіді. Вважаємо лабу пройденою :) Формочка: https://tally.so/r/mZ81ve\n"
          ]
        },
        {
          "output_type": "execute_result",
          "data": {
            "text/plain": [
              "'Готово!'"
            ],
            "application/vnd.google.colaboratory.intrinsic+json": {
              "type": "string"
            }
          },
          "metadata": {},
          "execution_count": 69
        }
      ],
      "source": [
        "lab.answer(\"Готово!\")"
      ]
    },
    {
      "cell_type": "markdown",
      "source": [
        "# Real world\n",
        "\n",
        "У цій роботі ми імплементували кілька методів декодінгу. Але, звичайно, все вже зроблено за нас.\n",
        "\n",
        "Подивіться на параметри функції [generate()](https://huggingface.co/docs/transformers/v4.21.1/en/main_classes/text_generation#transformers.generation_utils.GenerationMixin.generate) з бібліотеки transformers. Багато з них мають виглядати знайомими.\n",
        "\n",
        "Повний приклад використання:"
      ],
      "metadata": {
        "id": "Xy0OIkpIwn1e"
      }
    },
    {
      "cell_type": "code",
      "source": [
        "from transformers import AutoTokenizer, AutoModelForCausalLM\n",
        "import torch\n",
        "\n",
        "model = AutoModelForCausalLM.from_pretrained(\"gpt2\")\n",
        "tokenizer = AutoTokenizer.from_pretrained(\"gpt2\")\n",
        "\n",
        "prompt = \"Gaussian distribution is\"\n",
        "\n",
        "inputs = tokenizer(prompt, return_tensors=\"pt\")\n",
        "outputs = model.generate(**inputs, do_sample=True, top_p=0.8, max_length=50)\n",
        "\n",
        "tokenizer.batch_decode(outputs, skip_special_tokens=True)"
      ],
      "metadata": {
        "id": "nTdm0OLX0qfZ",
        "colab": {
          "base_uri": "https://localhost:8080/"
        },
        "outputId": "87985817-6f47-49f6-c4ac-3a96c67d66f4"
      },
      "execution_count": 71,
      "outputs": [
        {
          "output_type": "stream",
          "name": "stderr",
          "text": [
            "Setting `pad_token_id` to `eos_token_id`:50256 for open-end generation.\n"
          ]
        },
        {
          "output_type": "execute_result",
          "data": {
            "text/plain": [
              "['Gaussian distribution is a complex phenomenon that can arise in many different ways. For example, the distribution of different subpopulations of organisms is highly heterogeneous. Many of the organisms are heterogeneous in that the distribution of a population can be complex.']"
            ]
          },
          "metadata": {},
          "execution_count": 71
        }
      ]
    },
    {
      "cell_type": "markdown",
      "source": [
        "# The End\n"
      ],
      "metadata": {
        "id": "Fj_v43SP0ooz"
      }
    },
    {
      "cell_type": "code",
      "source": [
        "lab.answer(\"Готово!\")"
      ],
      "metadata": {
        "id": "SVwIySR60N-J",
        "colab": {
          "base_uri": "https://localhost:8080/",
          "height": 70
        },
        "outputId": "f3dc57bb-f400-410f-9cbd-23f1c7845c6e"
      },
      "execution_count": 72,
      "outputs": [
        {
          "output_type": "stream",
          "name": "stdout",
          "text": [
            "Відповідь правильна ✅\n",
            "Ця робота не має однієї правильної відповіді. Вважаємо лабу пройденою :) Формочка: https://tally.so/r/mZ81ve\n"
          ]
        },
        {
          "output_type": "execute_result",
          "data": {
            "text/plain": [
              "'Готово!'"
            ],
            "application/vnd.google.colaboratory.intrinsic+json": {
              "type": "string"
            }
          },
          "metadata": {},
          "execution_count": 72
        }
      ]
    }
  ],
  "metadata": {
    "colab": {
      "provenance": [],
      "include_colab_link": true
    },
    "kernelspec": {
      "display_name": "Python 3",
      "name": "python3"
    },
    "language_info": {
      "name": "python"
    },
    "widgets": {
      "application/vnd.jupyter.widget-state+json": {
        "9448e835a41f4840b2001da3e6cef23a": {
          "model_module": "@jupyter-widgets/controls",
          "model_name": "HBoxModel",
          "model_module_version": "1.5.0",
          "state": {
            "_dom_classes": [],
            "_model_module": "@jupyter-widgets/controls",
            "_model_module_version": "1.5.0",
            "_model_name": "HBoxModel",
            "_view_count": null,
            "_view_module": "@jupyter-widgets/controls",
            "_view_module_version": "1.5.0",
            "_view_name": "HBoxView",
            "box_style": "",
            "children": [
              "IPY_MODEL_a0c3feaf462249dbbc5b1781b81108c8",
              "IPY_MODEL_865614aaec254458a0d2f29671e41c62",
              "IPY_MODEL_9bb6f247e2aa4a6ba9d85d142d12c12c"
            ],
            "layout": "IPY_MODEL_27463506bc7a44829640ad33393ffa7f"
          }
        },
        "a0c3feaf462249dbbc5b1781b81108c8": {
          "model_module": "@jupyter-widgets/controls",
          "model_name": "HTMLModel",
          "model_module_version": "1.5.0",
          "state": {
            "_dom_classes": [],
            "_model_module": "@jupyter-widgets/controls",
            "_model_module_version": "1.5.0",
            "_model_name": "HTMLModel",
            "_view_count": null,
            "_view_module": "@jupyter-widgets/controls",
            "_view_module_version": "1.5.0",
            "_view_name": "HTMLView",
            "description": "",
            "description_tooltip": null,
            "layout": "IPY_MODEL_831a84f4f70f4fd4b0bf4076d4e60c76",
            "placeholder": "​",
            "style": "IPY_MODEL_fafb2fc37efb438b9f91c1d4392be049",
            "value": "config.json: 100%"
          }
        },
        "865614aaec254458a0d2f29671e41c62": {
          "model_module": "@jupyter-widgets/controls",
          "model_name": "FloatProgressModel",
          "model_module_version": "1.5.0",
          "state": {
            "_dom_classes": [],
            "_model_module": "@jupyter-widgets/controls",
            "_model_module_version": "1.5.0",
            "_model_name": "FloatProgressModel",
            "_view_count": null,
            "_view_module": "@jupyter-widgets/controls",
            "_view_module_version": "1.5.0",
            "_view_name": "ProgressView",
            "bar_style": "success",
            "description": "",
            "description_tooltip": null,
            "layout": "IPY_MODEL_b95138699238409182bba74ca251940f",
            "max": 665,
            "min": 0,
            "orientation": "horizontal",
            "style": "IPY_MODEL_6b94ec37e6aa458eabab0e5f72762fcd",
            "value": 665
          }
        },
        "9bb6f247e2aa4a6ba9d85d142d12c12c": {
          "model_module": "@jupyter-widgets/controls",
          "model_name": "HTMLModel",
          "model_module_version": "1.5.0",
          "state": {
            "_dom_classes": [],
            "_model_module": "@jupyter-widgets/controls",
            "_model_module_version": "1.5.0",
            "_model_name": "HTMLModel",
            "_view_count": null,
            "_view_module": "@jupyter-widgets/controls",
            "_view_module_version": "1.5.0",
            "_view_name": "HTMLView",
            "description": "",
            "description_tooltip": null,
            "layout": "IPY_MODEL_03b817b126d346da9831509ab10377c3",
            "placeholder": "​",
            "style": "IPY_MODEL_e2aec8be482949dba955c713e9f210d7",
            "value": " 665/665 [00:00&lt;00:00, 27.1kB/s]"
          }
        },
        "27463506bc7a44829640ad33393ffa7f": {
          "model_module": "@jupyter-widgets/base",
          "model_name": "LayoutModel",
          "model_module_version": "1.2.0",
          "state": {
            "_model_module": "@jupyter-widgets/base",
            "_model_module_version": "1.2.0",
            "_model_name": "LayoutModel",
            "_view_count": null,
            "_view_module": "@jupyter-widgets/base",
            "_view_module_version": "1.2.0",
            "_view_name": "LayoutView",
            "align_content": null,
            "align_items": null,
            "align_self": null,
            "border": null,
            "bottom": null,
            "display": null,
            "flex": null,
            "flex_flow": null,
            "grid_area": null,
            "grid_auto_columns": null,
            "grid_auto_flow": null,
            "grid_auto_rows": null,
            "grid_column": null,
            "grid_gap": null,
            "grid_row": null,
            "grid_template_areas": null,
            "grid_template_columns": null,
            "grid_template_rows": null,
            "height": null,
            "justify_content": null,
            "justify_items": null,
            "left": null,
            "margin": null,
            "max_height": null,
            "max_width": null,
            "min_height": null,
            "min_width": null,
            "object_fit": null,
            "object_position": null,
            "order": null,
            "overflow": null,
            "overflow_x": null,
            "overflow_y": null,
            "padding": null,
            "right": null,
            "top": null,
            "visibility": null,
            "width": null
          }
        },
        "831a84f4f70f4fd4b0bf4076d4e60c76": {
          "model_module": "@jupyter-widgets/base",
          "model_name": "LayoutModel",
          "model_module_version": "1.2.0",
          "state": {
            "_model_module": "@jupyter-widgets/base",
            "_model_module_version": "1.2.0",
            "_model_name": "LayoutModel",
            "_view_count": null,
            "_view_module": "@jupyter-widgets/base",
            "_view_module_version": "1.2.0",
            "_view_name": "LayoutView",
            "align_content": null,
            "align_items": null,
            "align_self": null,
            "border": null,
            "bottom": null,
            "display": null,
            "flex": null,
            "flex_flow": null,
            "grid_area": null,
            "grid_auto_columns": null,
            "grid_auto_flow": null,
            "grid_auto_rows": null,
            "grid_column": null,
            "grid_gap": null,
            "grid_row": null,
            "grid_template_areas": null,
            "grid_template_columns": null,
            "grid_template_rows": null,
            "height": null,
            "justify_content": null,
            "justify_items": null,
            "left": null,
            "margin": null,
            "max_height": null,
            "max_width": null,
            "min_height": null,
            "min_width": null,
            "object_fit": null,
            "object_position": null,
            "order": null,
            "overflow": null,
            "overflow_x": null,
            "overflow_y": null,
            "padding": null,
            "right": null,
            "top": null,
            "visibility": null,
            "width": null
          }
        },
        "fafb2fc37efb438b9f91c1d4392be049": {
          "model_module": "@jupyter-widgets/controls",
          "model_name": "DescriptionStyleModel",
          "model_module_version": "1.5.0",
          "state": {
            "_model_module": "@jupyter-widgets/controls",
            "_model_module_version": "1.5.0",
            "_model_name": "DescriptionStyleModel",
            "_view_count": null,
            "_view_module": "@jupyter-widgets/base",
            "_view_module_version": "1.2.0",
            "_view_name": "StyleView",
            "description_width": ""
          }
        },
        "b95138699238409182bba74ca251940f": {
          "model_module": "@jupyter-widgets/base",
          "model_name": "LayoutModel",
          "model_module_version": "1.2.0",
          "state": {
            "_model_module": "@jupyter-widgets/base",
            "_model_module_version": "1.2.0",
            "_model_name": "LayoutModel",
            "_view_count": null,
            "_view_module": "@jupyter-widgets/base",
            "_view_module_version": "1.2.0",
            "_view_name": "LayoutView",
            "align_content": null,
            "align_items": null,
            "align_self": null,
            "border": null,
            "bottom": null,
            "display": null,
            "flex": null,
            "flex_flow": null,
            "grid_area": null,
            "grid_auto_columns": null,
            "grid_auto_flow": null,
            "grid_auto_rows": null,
            "grid_column": null,
            "grid_gap": null,
            "grid_row": null,
            "grid_template_areas": null,
            "grid_template_columns": null,
            "grid_template_rows": null,
            "height": null,
            "justify_content": null,
            "justify_items": null,
            "left": null,
            "margin": null,
            "max_height": null,
            "max_width": null,
            "min_height": null,
            "min_width": null,
            "object_fit": null,
            "object_position": null,
            "order": null,
            "overflow": null,
            "overflow_x": null,
            "overflow_y": null,
            "padding": null,
            "right": null,
            "top": null,
            "visibility": null,
            "width": null
          }
        },
        "6b94ec37e6aa458eabab0e5f72762fcd": {
          "model_module": "@jupyter-widgets/controls",
          "model_name": "ProgressStyleModel",
          "model_module_version": "1.5.0",
          "state": {
            "_model_module": "@jupyter-widgets/controls",
            "_model_module_version": "1.5.0",
            "_model_name": "ProgressStyleModel",
            "_view_count": null,
            "_view_module": "@jupyter-widgets/base",
            "_view_module_version": "1.2.0",
            "_view_name": "StyleView",
            "bar_color": null,
            "description_width": ""
          }
        },
        "03b817b126d346da9831509ab10377c3": {
          "model_module": "@jupyter-widgets/base",
          "model_name": "LayoutModel",
          "model_module_version": "1.2.0",
          "state": {
            "_model_module": "@jupyter-widgets/base",
            "_model_module_version": "1.2.0",
            "_model_name": "LayoutModel",
            "_view_count": null,
            "_view_module": "@jupyter-widgets/base",
            "_view_module_version": "1.2.0",
            "_view_name": "LayoutView",
            "align_content": null,
            "align_items": null,
            "align_self": null,
            "border": null,
            "bottom": null,
            "display": null,
            "flex": null,
            "flex_flow": null,
            "grid_area": null,
            "grid_auto_columns": null,
            "grid_auto_flow": null,
            "grid_auto_rows": null,
            "grid_column": null,
            "grid_gap": null,
            "grid_row": null,
            "grid_template_areas": null,
            "grid_template_columns": null,
            "grid_template_rows": null,
            "height": null,
            "justify_content": null,
            "justify_items": null,
            "left": null,
            "margin": null,
            "max_height": null,
            "max_width": null,
            "min_height": null,
            "min_width": null,
            "object_fit": null,
            "object_position": null,
            "order": null,
            "overflow": null,
            "overflow_x": null,
            "overflow_y": null,
            "padding": null,
            "right": null,
            "top": null,
            "visibility": null,
            "width": null
          }
        },
        "e2aec8be482949dba955c713e9f210d7": {
          "model_module": "@jupyter-widgets/controls",
          "model_name": "DescriptionStyleModel",
          "model_module_version": "1.5.0",
          "state": {
            "_model_module": "@jupyter-widgets/controls",
            "_model_module_version": "1.5.0",
            "_model_name": "DescriptionStyleModel",
            "_view_count": null,
            "_view_module": "@jupyter-widgets/base",
            "_view_module_version": "1.2.0",
            "_view_name": "StyleView",
            "description_width": ""
          }
        },
        "1ad5db6211084dd9bb001e7e0f9865bd": {
          "model_module": "@jupyter-widgets/controls",
          "model_name": "HBoxModel",
          "model_module_version": "1.5.0",
          "state": {
            "_dom_classes": [],
            "_model_module": "@jupyter-widgets/controls",
            "_model_module_version": "1.5.0",
            "_model_name": "HBoxModel",
            "_view_count": null,
            "_view_module": "@jupyter-widgets/controls",
            "_view_module_version": "1.5.0",
            "_view_name": "HBoxView",
            "box_style": "",
            "children": [
              "IPY_MODEL_97e7538dfafc4b6db2b633292a16080a",
              "IPY_MODEL_fda3abee700b4b5aa37bde144413b454",
              "IPY_MODEL_3c6efc9e12e249b59745cdef9edccd7f"
            ],
            "layout": "IPY_MODEL_022da3d9e78543dc8af7906c7a32a71d"
          }
        },
        "97e7538dfafc4b6db2b633292a16080a": {
          "model_module": "@jupyter-widgets/controls",
          "model_name": "HTMLModel",
          "model_module_version": "1.5.0",
          "state": {
            "_dom_classes": [],
            "_model_module": "@jupyter-widgets/controls",
            "_model_module_version": "1.5.0",
            "_model_name": "HTMLModel",
            "_view_count": null,
            "_view_module": "@jupyter-widgets/controls",
            "_view_module_version": "1.5.0",
            "_view_name": "HTMLView",
            "description": "",
            "description_tooltip": null,
            "layout": "IPY_MODEL_ab93428218764aa7aebe2b6973eb972e",
            "placeholder": "​",
            "style": "IPY_MODEL_fbe61c4c93b242d781de31d04226a201",
            "value": "model.safetensors: 100%"
          }
        },
        "fda3abee700b4b5aa37bde144413b454": {
          "model_module": "@jupyter-widgets/controls",
          "model_name": "FloatProgressModel",
          "model_module_version": "1.5.0",
          "state": {
            "_dom_classes": [],
            "_model_module": "@jupyter-widgets/controls",
            "_model_module_version": "1.5.0",
            "_model_name": "FloatProgressModel",
            "_view_count": null,
            "_view_module": "@jupyter-widgets/controls",
            "_view_module_version": "1.5.0",
            "_view_name": "ProgressView",
            "bar_style": "success",
            "description": "",
            "description_tooltip": null,
            "layout": "IPY_MODEL_7d5c7ebd32fa4b44a74dc2f219b09f55",
            "max": 548105171,
            "min": 0,
            "orientation": "horizontal",
            "style": "IPY_MODEL_bd84957859b3401c998a973de6a16bce",
            "value": 548105171
          }
        },
        "3c6efc9e12e249b59745cdef9edccd7f": {
          "model_module": "@jupyter-widgets/controls",
          "model_name": "HTMLModel",
          "model_module_version": "1.5.0",
          "state": {
            "_dom_classes": [],
            "_model_module": "@jupyter-widgets/controls",
            "_model_module_version": "1.5.0",
            "_model_name": "HTMLModel",
            "_view_count": null,
            "_view_module": "@jupyter-widgets/controls",
            "_view_module_version": "1.5.0",
            "_view_name": "HTMLView",
            "description": "",
            "description_tooltip": null,
            "layout": "IPY_MODEL_b1df9a59c4ee451595ad5f40328db3c1",
            "placeholder": "​",
            "style": "IPY_MODEL_160d8679fb824376acf97f68d598f36b",
            "value": " 548M/548M [00:05&lt;00:00, 106MB/s]"
          }
        },
        "022da3d9e78543dc8af7906c7a32a71d": {
          "model_module": "@jupyter-widgets/base",
          "model_name": "LayoutModel",
          "model_module_version": "1.2.0",
          "state": {
            "_model_module": "@jupyter-widgets/base",
            "_model_module_version": "1.2.0",
            "_model_name": "LayoutModel",
            "_view_count": null,
            "_view_module": "@jupyter-widgets/base",
            "_view_module_version": "1.2.0",
            "_view_name": "LayoutView",
            "align_content": null,
            "align_items": null,
            "align_self": null,
            "border": null,
            "bottom": null,
            "display": null,
            "flex": null,
            "flex_flow": null,
            "grid_area": null,
            "grid_auto_columns": null,
            "grid_auto_flow": null,
            "grid_auto_rows": null,
            "grid_column": null,
            "grid_gap": null,
            "grid_row": null,
            "grid_template_areas": null,
            "grid_template_columns": null,
            "grid_template_rows": null,
            "height": null,
            "justify_content": null,
            "justify_items": null,
            "left": null,
            "margin": null,
            "max_height": null,
            "max_width": null,
            "min_height": null,
            "min_width": null,
            "object_fit": null,
            "object_position": null,
            "order": null,
            "overflow": null,
            "overflow_x": null,
            "overflow_y": null,
            "padding": null,
            "right": null,
            "top": null,
            "visibility": null,
            "width": null
          }
        },
        "ab93428218764aa7aebe2b6973eb972e": {
          "model_module": "@jupyter-widgets/base",
          "model_name": "LayoutModel",
          "model_module_version": "1.2.0",
          "state": {
            "_model_module": "@jupyter-widgets/base",
            "_model_module_version": "1.2.0",
            "_model_name": "LayoutModel",
            "_view_count": null,
            "_view_module": "@jupyter-widgets/base",
            "_view_module_version": "1.2.0",
            "_view_name": "LayoutView",
            "align_content": null,
            "align_items": null,
            "align_self": null,
            "border": null,
            "bottom": null,
            "display": null,
            "flex": null,
            "flex_flow": null,
            "grid_area": null,
            "grid_auto_columns": null,
            "grid_auto_flow": null,
            "grid_auto_rows": null,
            "grid_column": null,
            "grid_gap": null,
            "grid_row": null,
            "grid_template_areas": null,
            "grid_template_columns": null,
            "grid_template_rows": null,
            "height": null,
            "justify_content": null,
            "justify_items": null,
            "left": null,
            "margin": null,
            "max_height": null,
            "max_width": null,
            "min_height": null,
            "min_width": null,
            "object_fit": null,
            "object_position": null,
            "order": null,
            "overflow": null,
            "overflow_x": null,
            "overflow_y": null,
            "padding": null,
            "right": null,
            "top": null,
            "visibility": null,
            "width": null
          }
        },
        "fbe61c4c93b242d781de31d04226a201": {
          "model_module": "@jupyter-widgets/controls",
          "model_name": "DescriptionStyleModel",
          "model_module_version": "1.5.0",
          "state": {
            "_model_module": "@jupyter-widgets/controls",
            "_model_module_version": "1.5.0",
            "_model_name": "DescriptionStyleModel",
            "_view_count": null,
            "_view_module": "@jupyter-widgets/base",
            "_view_module_version": "1.2.0",
            "_view_name": "StyleView",
            "description_width": ""
          }
        },
        "7d5c7ebd32fa4b44a74dc2f219b09f55": {
          "model_module": "@jupyter-widgets/base",
          "model_name": "LayoutModel",
          "model_module_version": "1.2.0",
          "state": {
            "_model_module": "@jupyter-widgets/base",
            "_model_module_version": "1.2.0",
            "_model_name": "LayoutModel",
            "_view_count": null,
            "_view_module": "@jupyter-widgets/base",
            "_view_module_version": "1.2.0",
            "_view_name": "LayoutView",
            "align_content": null,
            "align_items": null,
            "align_self": null,
            "border": null,
            "bottom": null,
            "display": null,
            "flex": null,
            "flex_flow": null,
            "grid_area": null,
            "grid_auto_columns": null,
            "grid_auto_flow": null,
            "grid_auto_rows": null,
            "grid_column": null,
            "grid_gap": null,
            "grid_row": null,
            "grid_template_areas": null,
            "grid_template_columns": null,
            "grid_template_rows": null,
            "height": null,
            "justify_content": null,
            "justify_items": null,
            "left": null,
            "margin": null,
            "max_height": null,
            "max_width": null,
            "min_height": null,
            "min_width": null,
            "object_fit": null,
            "object_position": null,
            "order": null,
            "overflow": null,
            "overflow_x": null,
            "overflow_y": null,
            "padding": null,
            "right": null,
            "top": null,
            "visibility": null,
            "width": null
          }
        },
        "bd84957859b3401c998a973de6a16bce": {
          "model_module": "@jupyter-widgets/controls",
          "model_name": "ProgressStyleModel",
          "model_module_version": "1.5.0",
          "state": {
            "_model_module": "@jupyter-widgets/controls",
            "_model_module_version": "1.5.0",
            "_model_name": "ProgressStyleModel",
            "_view_count": null,
            "_view_module": "@jupyter-widgets/base",
            "_view_module_version": "1.2.0",
            "_view_name": "StyleView",
            "bar_color": null,
            "description_width": ""
          }
        },
        "b1df9a59c4ee451595ad5f40328db3c1": {
          "model_module": "@jupyter-widgets/base",
          "model_name": "LayoutModel",
          "model_module_version": "1.2.0",
          "state": {
            "_model_module": "@jupyter-widgets/base",
            "_model_module_version": "1.2.0",
            "_model_name": "LayoutModel",
            "_view_count": null,
            "_view_module": "@jupyter-widgets/base",
            "_view_module_version": "1.2.0",
            "_view_name": "LayoutView",
            "align_content": null,
            "align_items": null,
            "align_self": null,
            "border": null,
            "bottom": null,
            "display": null,
            "flex": null,
            "flex_flow": null,
            "grid_area": null,
            "grid_auto_columns": null,
            "grid_auto_flow": null,
            "grid_auto_rows": null,
            "grid_column": null,
            "grid_gap": null,
            "grid_row": null,
            "grid_template_areas": null,
            "grid_template_columns": null,
            "grid_template_rows": null,
            "height": null,
            "justify_content": null,
            "justify_items": null,
            "left": null,
            "margin": null,
            "max_height": null,
            "max_width": null,
            "min_height": null,
            "min_width": null,
            "object_fit": null,
            "object_position": null,
            "order": null,
            "overflow": null,
            "overflow_x": null,
            "overflow_y": null,
            "padding": null,
            "right": null,
            "top": null,
            "visibility": null,
            "width": null
          }
        },
        "160d8679fb824376acf97f68d598f36b": {
          "model_module": "@jupyter-widgets/controls",
          "model_name": "DescriptionStyleModel",
          "model_module_version": "1.5.0",
          "state": {
            "_model_module": "@jupyter-widgets/controls",
            "_model_module_version": "1.5.0",
            "_model_name": "DescriptionStyleModel",
            "_view_count": null,
            "_view_module": "@jupyter-widgets/base",
            "_view_module_version": "1.2.0",
            "_view_name": "StyleView",
            "description_width": ""
          }
        },
        "89eb13ee4cf54f2da040ede4113e4149": {
          "model_module": "@jupyter-widgets/controls",
          "model_name": "HBoxModel",
          "model_module_version": "1.5.0",
          "state": {
            "_dom_classes": [],
            "_model_module": "@jupyter-widgets/controls",
            "_model_module_version": "1.5.0",
            "_model_name": "HBoxModel",
            "_view_count": null,
            "_view_module": "@jupyter-widgets/controls",
            "_view_module_version": "1.5.0",
            "_view_name": "HBoxView",
            "box_style": "",
            "children": [
              "IPY_MODEL_394f9a86352e4e54901fbc55e0797db2",
              "IPY_MODEL_24516e31389d4bae8995db32874035b6",
              "IPY_MODEL_ce4e78cb4b5a47c6b36b6e4fe1be635b"
            ],
            "layout": "IPY_MODEL_54f8e5e50c3c4f30b4bd475074c25fd2"
          }
        },
        "394f9a86352e4e54901fbc55e0797db2": {
          "model_module": "@jupyter-widgets/controls",
          "model_name": "HTMLModel",
          "model_module_version": "1.5.0",
          "state": {
            "_dom_classes": [],
            "_model_module": "@jupyter-widgets/controls",
            "_model_module_version": "1.5.0",
            "_model_name": "HTMLModel",
            "_view_count": null,
            "_view_module": "@jupyter-widgets/controls",
            "_view_module_version": "1.5.0",
            "_view_name": "HTMLView",
            "description": "",
            "description_tooltip": null,
            "layout": "IPY_MODEL_84e5d47ea70b4fdebfcc77f74c4d3d1d",
            "placeholder": "​",
            "style": "IPY_MODEL_aef6756505cc41008d898128ce942e4e",
            "value": "generation_config.json: 100%"
          }
        },
        "24516e31389d4bae8995db32874035b6": {
          "model_module": "@jupyter-widgets/controls",
          "model_name": "FloatProgressModel",
          "model_module_version": "1.5.0",
          "state": {
            "_dom_classes": [],
            "_model_module": "@jupyter-widgets/controls",
            "_model_module_version": "1.5.0",
            "_model_name": "FloatProgressModel",
            "_view_count": null,
            "_view_module": "@jupyter-widgets/controls",
            "_view_module_version": "1.5.0",
            "_view_name": "ProgressView",
            "bar_style": "success",
            "description": "",
            "description_tooltip": null,
            "layout": "IPY_MODEL_42f808878f024c3c94061a4e5912567c",
            "max": 124,
            "min": 0,
            "orientation": "horizontal",
            "style": "IPY_MODEL_8f9d373857374910b22f39ecfcd2fbd2",
            "value": 124
          }
        },
        "ce4e78cb4b5a47c6b36b6e4fe1be635b": {
          "model_module": "@jupyter-widgets/controls",
          "model_name": "HTMLModel",
          "model_module_version": "1.5.0",
          "state": {
            "_dom_classes": [],
            "_model_module": "@jupyter-widgets/controls",
            "_model_module_version": "1.5.0",
            "_model_name": "HTMLModel",
            "_view_count": null,
            "_view_module": "@jupyter-widgets/controls",
            "_view_module_version": "1.5.0",
            "_view_name": "HTMLView",
            "description": "",
            "description_tooltip": null,
            "layout": "IPY_MODEL_d7efff40c4064486951555f16732bba6",
            "placeholder": "​",
            "style": "IPY_MODEL_534876521236479682a755d133c133c4",
            "value": " 124/124 [00:00&lt;00:00, 6.32kB/s]"
          }
        },
        "54f8e5e50c3c4f30b4bd475074c25fd2": {
          "model_module": "@jupyter-widgets/base",
          "model_name": "LayoutModel",
          "model_module_version": "1.2.0",
          "state": {
            "_model_module": "@jupyter-widgets/base",
            "_model_module_version": "1.2.0",
            "_model_name": "LayoutModel",
            "_view_count": null,
            "_view_module": "@jupyter-widgets/base",
            "_view_module_version": "1.2.0",
            "_view_name": "LayoutView",
            "align_content": null,
            "align_items": null,
            "align_self": null,
            "border": null,
            "bottom": null,
            "display": null,
            "flex": null,
            "flex_flow": null,
            "grid_area": null,
            "grid_auto_columns": null,
            "grid_auto_flow": null,
            "grid_auto_rows": null,
            "grid_column": null,
            "grid_gap": null,
            "grid_row": null,
            "grid_template_areas": null,
            "grid_template_columns": null,
            "grid_template_rows": null,
            "height": null,
            "justify_content": null,
            "justify_items": null,
            "left": null,
            "margin": null,
            "max_height": null,
            "max_width": null,
            "min_height": null,
            "min_width": null,
            "object_fit": null,
            "object_position": null,
            "order": null,
            "overflow": null,
            "overflow_x": null,
            "overflow_y": null,
            "padding": null,
            "right": null,
            "top": null,
            "visibility": null,
            "width": null
          }
        },
        "84e5d47ea70b4fdebfcc77f74c4d3d1d": {
          "model_module": "@jupyter-widgets/base",
          "model_name": "LayoutModel",
          "model_module_version": "1.2.0",
          "state": {
            "_model_module": "@jupyter-widgets/base",
            "_model_module_version": "1.2.0",
            "_model_name": "LayoutModel",
            "_view_count": null,
            "_view_module": "@jupyter-widgets/base",
            "_view_module_version": "1.2.0",
            "_view_name": "LayoutView",
            "align_content": null,
            "align_items": null,
            "align_self": null,
            "border": null,
            "bottom": null,
            "display": null,
            "flex": null,
            "flex_flow": null,
            "grid_area": null,
            "grid_auto_columns": null,
            "grid_auto_flow": null,
            "grid_auto_rows": null,
            "grid_column": null,
            "grid_gap": null,
            "grid_row": null,
            "grid_template_areas": null,
            "grid_template_columns": null,
            "grid_template_rows": null,
            "height": null,
            "justify_content": null,
            "justify_items": null,
            "left": null,
            "margin": null,
            "max_height": null,
            "max_width": null,
            "min_height": null,
            "min_width": null,
            "object_fit": null,
            "object_position": null,
            "order": null,
            "overflow": null,
            "overflow_x": null,
            "overflow_y": null,
            "padding": null,
            "right": null,
            "top": null,
            "visibility": null,
            "width": null
          }
        },
        "aef6756505cc41008d898128ce942e4e": {
          "model_module": "@jupyter-widgets/controls",
          "model_name": "DescriptionStyleModel",
          "model_module_version": "1.5.0",
          "state": {
            "_model_module": "@jupyter-widgets/controls",
            "_model_module_version": "1.5.0",
            "_model_name": "DescriptionStyleModel",
            "_view_count": null,
            "_view_module": "@jupyter-widgets/base",
            "_view_module_version": "1.2.0",
            "_view_name": "StyleView",
            "description_width": ""
          }
        },
        "42f808878f024c3c94061a4e5912567c": {
          "model_module": "@jupyter-widgets/base",
          "model_name": "LayoutModel",
          "model_module_version": "1.2.0",
          "state": {
            "_model_module": "@jupyter-widgets/base",
            "_model_module_version": "1.2.0",
            "_model_name": "LayoutModel",
            "_view_count": null,
            "_view_module": "@jupyter-widgets/base",
            "_view_module_version": "1.2.0",
            "_view_name": "LayoutView",
            "align_content": null,
            "align_items": null,
            "align_self": null,
            "border": null,
            "bottom": null,
            "display": null,
            "flex": null,
            "flex_flow": null,
            "grid_area": null,
            "grid_auto_columns": null,
            "grid_auto_flow": null,
            "grid_auto_rows": null,
            "grid_column": null,
            "grid_gap": null,
            "grid_row": null,
            "grid_template_areas": null,
            "grid_template_columns": null,
            "grid_template_rows": null,
            "height": null,
            "justify_content": null,
            "justify_items": null,
            "left": null,
            "margin": null,
            "max_height": null,
            "max_width": null,
            "min_height": null,
            "min_width": null,
            "object_fit": null,
            "object_position": null,
            "order": null,
            "overflow": null,
            "overflow_x": null,
            "overflow_y": null,
            "padding": null,
            "right": null,
            "top": null,
            "visibility": null,
            "width": null
          }
        },
        "8f9d373857374910b22f39ecfcd2fbd2": {
          "model_module": "@jupyter-widgets/controls",
          "model_name": "ProgressStyleModel",
          "model_module_version": "1.5.0",
          "state": {
            "_model_module": "@jupyter-widgets/controls",
            "_model_module_version": "1.5.0",
            "_model_name": "ProgressStyleModel",
            "_view_count": null,
            "_view_module": "@jupyter-widgets/base",
            "_view_module_version": "1.2.0",
            "_view_name": "StyleView",
            "bar_color": null,
            "description_width": ""
          }
        },
        "d7efff40c4064486951555f16732bba6": {
          "model_module": "@jupyter-widgets/base",
          "model_name": "LayoutModel",
          "model_module_version": "1.2.0",
          "state": {
            "_model_module": "@jupyter-widgets/base",
            "_model_module_version": "1.2.0",
            "_model_name": "LayoutModel",
            "_view_count": null,
            "_view_module": "@jupyter-widgets/base",
            "_view_module_version": "1.2.0",
            "_view_name": "LayoutView",
            "align_content": null,
            "align_items": null,
            "align_self": null,
            "border": null,
            "bottom": null,
            "display": null,
            "flex": null,
            "flex_flow": null,
            "grid_area": null,
            "grid_auto_columns": null,
            "grid_auto_flow": null,
            "grid_auto_rows": null,
            "grid_column": null,
            "grid_gap": null,
            "grid_row": null,
            "grid_template_areas": null,
            "grid_template_columns": null,
            "grid_template_rows": null,
            "height": null,
            "justify_content": null,
            "justify_items": null,
            "left": null,
            "margin": null,
            "max_height": null,
            "max_width": null,
            "min_height": null,
            "min_width": null,
            "object_fit": null,
            "object_position": null,
            "order": null,
            "overflow": null,
            "overflow_x": null,
            "overflow_y": null,
            "padding": null,
            "right": null,
            "top": null,
            "visibility": null,
            "width": null
          }
        },
        "534876521236479682a755d133c133c4": {
          "model_module": "@jupyter-widgets/controls",
          "model_name": "DescriptionStyleModel",
          "model_module_version": "1.5.0",
          "state": {
            "_model_module": "@jupyter-widgets/controls",
            "_model_module_version": "1.5.0",
            "_model_name": "DescriptionStyleModel",
            "_view_count": null,
            "_view_module": "@jupyter-widgets/base",
            "_view_module_version": "1.2.0",
            "_view_name": "StyleView",
            "description_width": ""
          }
        },
        "237ddfc1e9be41ff90a610081a36e62d": {
          "model_module": "@jupyter-widgets/controls",
          "model_name": "HBoxModel",
          "model_module_version": "1.5.0",
          "state": {
            "_dom_classes": [],
            "_model_module": "@jupyter-widgets/controls",
            "_model_module_version": "1.5.0",
            "_model_name": "HBoxModel",
            "_view_count": null,
            "_view_module": "@jupyter-widgets/controls",
            "_view_module_version": "1.5.0",
            "_view_name": "HBoxView",
            "box_style": "",
            "children": [
              "IPY_MODEL_4fc91c24b7e54dbaa242b9acb7a8b110",
              "IPY_MODEL_f2d1f76d8d554ed689670a7d9155941e",
              "IPY_MODEL_0bb9932719e0473591b3e6b8b3fc09a7"
            ],
            "layout": "IPY_MODEL_537f2644459341cdb954627fc40dccde"
          }
        },
        "4fc91c24b7e54dbaa242b9acb7a8b110": {
          "model_module": "@jupyter-widgets/controls",
          "model_name": "HTMLModel",
          "model_module_version": "1.5.0",
          "state": {
            "_dom_classes": [],
            "_model_module": "@jupyter-widgets/controls",
            "_model_module_version": "1.5.0",
            "_model_name": "HTMLModel",
            "_view_count": null,
            "_view_module": "@jupyter-widgets/controls",
            "_view_module_version": "1.5.0",
            "_view_name": "HTMLView",
            "description": "",
            "description_tooltip": null,
            "layout": "IPY_MODEL_de1f5489cea541f6a66b705392fa45c2",
            "placeholder": "​",
            "style": "IPY_MODEL_c5110d24a9014928b216dcc8cc33b0f6",
            "value": "tokenizer_config.json: 100%"
          }
        },
        "f2d1f76d8d554ed689670a7d9155941e": {
          "model_module": "@jupyter-widgets/controls",
          "model_name": "FloatProgressModel",
          "model_module_version": "1.5.0",
          "state": {
            "_dom_classes": [],
            "_model_module": "@jupyter-widgets/controls",
            "_model_module_version": "1.5.0",
            "_model_name": "FloatProgressModel",
            "_view_count": null,
            "_view_module": "@jupyter-widgets/controls",
            "_view_module_version": "1.5.0",
            "_view_name": "ProgressView",
            "bar_style": "success",
            "description": "",
            "description_tooltip": null,
            "layout": "IPY_MODEL_6fbebcd0ff7445369419c0c8386e1ec0",
            "max": 26,
            "min": 0,
            "orientation": "horizontal",
            "style": "IPY_MODEL_8c36a8ff6dda445ba209ba64838c0c61",
            "value": 26
          }
        },
        "0bb9932719e0473591b3e6b8b3fc09a7": {
          "model_module": "@jupyter-widgets/controls",
          "model_name": "HTMLModel",
          "model_module_version": "1.5.0",
          "state": {
            "_dom_classes": [],
            "_model_module": "@jupyter-widgets/controls",
            "_model_module_version": "1.5.0",
            "_model_name": "HTMLModel",
            "_view_count": null,
            "_view_module": "@jupyter-widgets/controls",
            "_view_module_version": "1.5.0",
            "_view_name": "HTMLView",
            "description": "",
            "description_tooltip": null,
            "layout": "IPY_MODEL_7814fbfd18d34bd5972dd6b7eba1a15a",
            "placeholder": "​",
            "style": "IPY_MODEL_fcafec2a24014a82978569008eb69cb2",
            "value": " 26.0/26.0 [00:00&lt;00:00, 854B/s]"
          }
        },
        "537f2644459341cdb954627fc40dccde": {
          "model_module": "@jupyter-widgets/base",
          "model_name": "LayoutModel",
          "model_module_version": "1.2.0",
          "state": {
            "_model_module": "@jupyter-widgets/base",
            "_model_module_version": "1.2.0",
            "_model_name": "LayoutModel",
            "_view_count": null,
            "_view_module": "@jupyter-widgets/base",
            "_view_module_version": "1.2.0",
            "_view_name": "LayoutView",
            "align_content": null,
            "align_items": null,
            "align_self": null,
            "border": null,
            "bottom": null,
            "display": null,
            "flex": null,
            "flex_flow": null,
            "grid_area": null,
            "grid_auto_columns": null,
            "grid_auto_flow": null,
            "grid_auto_rows": null,
            "grid_column": null,
            "grid_gap": null,
            "grid_row": null,
            "grid_template_areas": null,
            "grid_template_columns": null,
            "grid_template_rows": null,
            "height": null,
            "justify_content": null,
            "justify_items": null,
            "left": null,
            "margin": null,
            "max_height": null,
            "max_width": null,
            "min_height": null,
            "min_width": null,
            "object_fit": null,
            "object_position": null,
            "order": null,
            "overflow": null,
            "overflow_x": null,
            "overflow_y": null,
            "padding": null,
            "right": null,
            "top": null,
            "visibility": null,
            "width": null
          }
        },
        "de1f5489cea541f6a66b705392fa45c2": {
          "model_module": "@jupyter-widgets/base",
          "model_name": "LayoutModel",
          "model_module_version": "1.2.0",
          "state": {
            "_model_module": "@jupyter-widgets/base",
            "_model_module_version": "1.2.0",
            "_model_name": "LayoutModel",
            "_view_count": null,
            "_view_module": "@jupyter-widgets/base",
            "_view_module_version": "1.2.0",
            "_view_name": "LayoutView",
            "align_content": null,
            "align_items": null,
            "align_self": null,
            "border": null,
            "bottom": null,
            "display": null,
            "flex": null,
            "flex_flow": null,
            "grid_area": null,
            "grid_auto_columns": null,
            "grid_auto_flow": null,
            "grid_auto_rows": null,
            "grid_column": null,
            "grid_gap": null,
            "grid_row": null,
            "grid_template_areas": null,
            "grid_template_columns": null,
            "grid_template_rows": null,
            "height": null,
            "justify_content": null,
            "justify_items": null,
            "left": null,
            "margin": null,
            "max_height": null,
            "max_width": null,
            "min_height": null,
            "min_width": null,
            "object_fit": null,
            "object_position": null,
            "order": null,
            "overflow": null,
            "overflow_x": null,
            "overflow_y": null,
            "padding": null,
            "right": null,
            "top": null,
            "visibility": null,
            "width": null
          }
        },
        "c5110d24a9014928b216dcc8cc33b0f6": {
          "model_module": "@jupyter-widgets/controls",
          "model_name": "DescriptionStyleModel",
          "model_module_version": "1.5.0",
          "state": {
            "_model_module": "@jupyter-widgets/controls",
            "_model_module_version": "1.5.0",
            "_model_name": "DescriptionStyleModel",
            "_view_count": null,
            "_view_module": "@jupyter-widgets/base",
            "_view_module_version": "1.2.0",
            "_view_name": "StyleView",
            "description_width": ""
          }
        },
        "6fbebcd0ff7445369419c0c8386e1ec0": {
          "model_module": "@jupyter-widgets/base",
          "model_name": "LayoutModel",
          "model_module_version": "1.2.0",
          "state": {
            "_model_module": "@jupyter-widgets/base",
            "_model_module_version": "1.2.0",
            "_model_name": "LayoutModel",
            "_view_count": null,
            "_view_module": "@jupyter-widgets/base",
            "_view_module_version": "1.2.0",
            "_view_name": "LayoutView",
            "align_content": null,
            "align_items": null,
            "align_self": null,
            "border": null,
            "bottom": null,
            "display": null,
            "flex": null,
            "flex_flow": null,
            "grid_area": null,
            "grid_auto_columns": null,
            "grid_auto_flow": null,
            "grid_auto_rows": null,
            "grid_column": null,
            "grid_gap": null,
            "grid_row": null,
            "grid_template_areas": null,
            "grid_template_columns": null,
            "grid_template_rows": null,
            "height": null,
            "justify_content": null,
            "justify_items": null,
            "left": null,
            "margin": null,
            "max_height": null,
            "max_width": null,
            "min_height": null,
            "min_width": null,
            "object_fit": null,
            "object_position": null,
            "order": null,
            "overflow": null,
            "overflow_x": null,
            "overflow_y": null,
            "padding": null,
            "right": null,
            "top": null,
            "visibility": null,
            "width": null
          }
        },
        "8c36a8ff6dda445ba209ba64838c0c61": {
          "model_module": "@jupyter-widgets/controls",
          "model_name": "ProgressStyleModel",
          "model_module_version": "1.5.0",
          "state": {
            "_model_module": "@jupyter-widgets/controls",
            "_model_module_version": "1.5.0",
            "_model_name": "ProgressStyleModel",
            "_view_count": null,
            "_view_module": "@jupyter-widgets/base",
            "_view_module_version": "1.2.0",
            "_view_name": "StyleView",
            "bar_color": null,
            "description_width": ""
          }
        },
        "7814fbfd18d34bd5972dd6b7eba1a15a": {
          "model_module": "@jupyter-widgets/base",
          "model_name": "LayoutModel",
          "model_module_version": "1.2.0",
          "state": {
            "_model_module": "@jupyter-widgets/base",
            "_model_module_version": "1.2.0",
            "_model_name": "LayoutModel",
            "_view_count": null,
            "_view_module": "@jupyter-widgets/base",
            "_view_module_version": "1.2.0",
            "_view_name": "LayoutView",
            "align_content": null,
            "align_items": null,
            "align_self": null,
            "border": null,
            "bottom": null,
            "display": null,
            "flex": null,
            "flex_flow": null,
            "grid_area": null,
            "grid_auto_columns": null,
            "grid_auto_flow": null,
            "grid_auto_rows": null,
            "grid_column": null,
            "grid_gap": null,
            "grid_row": null,
            "grid_template_areas": null,
            "grid_template_columns": null,
            "grid_template_rows": null,
            "height": null,
            "justify_content": null,
            "justify_items": null,
            "left": null,
            "margin": null,
            "max_height": null,
            "max_width": null,
            "min_height": null,
            "min_width": null,
            "object_fit": null,
            "object_position": null,
            "order": null,
            "overflow": null,
            "overflow_x": null,
            "overflow_y": null,
            "padding": null,
            "right": null,
            "top": null,
            "visibility": null,
            "width": null
          }
        },
        "fcafec2a24014a82978569008eb69cb2": {
          "model_module": "@jupyter-widgets/controls",
          "model_name": "DescriptionStyleModel",
          "model_module_version": "1.5.0",
          "state": {
            "_model_module": "@jupyter-widgets/controls",
            "_model_module_version": "1.5.0",
            "_model_name": "DescriptionStyleModel",
            "_view_count": null,
            "_view_module": "@jupyter-widgets/base",
            "_view_module_version": "1.2.0",
            "_view_name": "StyleView",
            "description_width": ""
          }
        },
        "1ca54e56ac5b47ea8b1bcf4c4103ceb2": {
          "model_module": "@jupyter-widgets/controls",
          "model_name": "HBoxModel",
          "model_module_version": "1.5.0",
          "state": {
            "_dom_classes": [],
            "_model_module": "@jupyter-widgets/controls",
            "_model_module_version": "1.5.0",
            "_model_name": "HBoxModel",
            "_view_count": null,
            "_view_module": "@jupyter-widgets/controls",
            "_view_module_version": "1.5.0",
            "_view_name": "HBoxView",
            "box_style": "",
            "children": [
              "IPY_MODEL_8768f3f90b12458281fb22037f887fd4",
              "IPY_MODEL_922c9a7b295f449fa54765028678dd8c",
              "IPY_MODEL_a7cc3dc5e2bc4169a21af03605d5f271"
            ],
            "layout": "IPY_MODEL_85d1b092673e4761a7e4c5aea5903c26"
          }
        },
        "8768f3f90b12458281fb22037f887fd4": {
          "model_module": "@jupyter-widgets/controls",
          "model_name": "HTMLModel",
          "model_module_version": "1.5.0",
          "state": {
            "_dom_classes": [],
            "_model_module": "@jupyter-widgets/controls",
            "_model_module_version": "1.5.0",
            "_model_name": "HTMLModel",
            "_view_count": null,
            "_view_module": "@jupyter-widgets/controls",
            "_view_module_version": "1.5.0",
            "_view_name": "HTMLView",
            "description": "",
            "description_tooltip": null,
            "layout": "IPY_MODEL_44c4892ff9ad47de9d1eee301f3ad5c8",
            "placeholder": "​",
            "style": "IPY_MODEL_254e564f608e472a97230f905c7b86be",
            "value": "vocab.json: 100%"
          }
        },
        "922c9a7b295f449fa54765028678dd8c": {
          "model_module": "@jupyter-widgets/controls",
          "model_name": "FloatProgressModel",
          "model_module_version": "1.5.0",
          "state": {
            "_dom_classes": [],
            "_model_module": "@jupyter-widgets/controls",
            "_model_module_version": "1.5.0",
            "_model_name": "FloatProgressModel",
            "_view_count": null,
            "_view_module": "@jupyter-widgets/controls",
            "_view_module_version": "1.5.0",
            "_view_name": "ProgressView",
            "bar_style": "success",
            "description": "",
            "description_tooltip": null,
            "layout": "IPY_MODEL_52d5554420b4476f9f2ab8a98c75fe66",
            "max": 1042301,
            "min": 0,
            "orientation": "horizontal",
            "style": "IPY_MODEL_87ddab962a67474e862f552e2643e126",
            "value": 1042301
          }
        },
        "a7cc3dc5e2bc4169a21af03605d5f271": {
          "model_module": "@jupyter-widgets/controls",
          "model_name": "HTMLModel",
          "model_module_version": "1.5.0",
          "state": {
            "_dom_classes": [],
            "_model_module": "@jupyter-widgets/controls",
            "_model_module_version": "1.5.0",
            "_model_name": "HTMLModel",
            "_view_count": null,
            "_view_module": "@jupyter-widgets/controls",
            "_view_module_version": "1.5.0",
            "_view_name": "HTMLView",
            "description": "",
            "description_tooltip": null,
            "layout": "IPY_MODEL_a3a1f6ab386347d197c6f132d3ef8139",
            "placeholder": "​",
            "style": "IPY_MODEL_3f3b5ba4f37844019ace6992e1eeeb81",
            "value": " 1.04M/1.04M [00:00&lt;00:00, 15.9MB/s]"
          }
        },
        "85d1b092673e4761a7e4c5aea5903c26": {
          "model_module": "@jupyter-widgets/base",
          "model_name": "LayoutModel",
          "model_module_version": "1.2.0",
          "state": {
            "_model_module": "@jupyter-widgets/base",
            "_model_module_version": "1.2.0",
            "_model_name": "LayoutModel",
            "_view_count": null,
            "_view_module": "@jupyter-widgets/base",
            "_view_module_version": "1.2.0",
            "_view_name": "LayoutView",
            "align_content": null,
            "align_items": null,
            "align_self": null,
            "border": null,
            "bottom": null,
            "display": null,
            "flex": null,
            "flex_flow": null,
            "grid_area": null,
            "grid_auto_columns": null,
            "grid_auto_flow": null,
            "grid_auto_rows": null,
            "grid_column": null,
            "grid_gap": null,
            "grid_row": null,
            "grid_template_areas": null,
            "grid_template_columns": null,
            "grid_template_rows": null,
            "height": null,
            "justify_content": null,
            "justify_items": null,
            "left": null,
            "margin": null,
            "max_height": null,
            "max_width": null,
            "min_height": null,
            "min_width": null,
            "object_fit": null,
            "object_position": null,
            "order": null,
            "overflow": null,
            "overflow_x": null,
            "overflow_y": null,
            "padding": null,
            "right": null,
            "top": null,
            "visibility": null,
            "width": null
          }
        },
        "44c4892ff9ad47de9d1eee301f3ad5c8": {
          "model_module": "@jupyter-widgets/base",
          "model_name": "LayoutModel",
          "model_module_version": "1.2.0",
          "state": {
            "_model_module": "@jupyter-widgets/base",
            "_model_module_version": "1.2.0",
            "_model_name": "LayoutModel",
            "_view_count": null,
            "_view_module": "@jupyter-widgets/base",
            "_view_module_version": "1.2.0",
            "_view_name": "LayoutView",
            "align_content": null,
            "align_items": null,
            "align_self": null,
            "border": null,
            "bottom": null,
            "display": null,
            "flex": null,
            "flex_flow": null,
            "grid_area": null,
            "grid_auto_columns": null,
            "grid_auto_flow": null,
            "grid_auto_rows": null,
            "grid_column": null,
            "grid_gap": null,
            "grid_row": null,
            "grid_template_areas": null,
            "grid_template_columns": null,
            "grid_template_rows": null,
            "height": null,
            "justify_content": null,
            "justify_items": null,
            "left": null,
            "margin": null,
            "max_height": null,
            "max_width": null,
            "min_height": null,
            "min_width": null,
            "object_fit": null,
            "object_position": null,
            "order": null,
            "overflow": null,
            "overflow_x": null,
            "overflow_y": null,
            "padding": null,
            "right": null,
            "top": null,
            "visibility": null,
            "width": null
          }
        },
        "254e564f608e472a97230f905c7b86be": {
          "model_module": "@jupyter-widgets/controls",
          "model_name": "DescriptionStyleModel",
          "model_module_version": "1.5.0",
          "state": {
            "_model_module": "@jupyter-widgets/controls",
            "_model_module_version": "1.5.0",
            "_model_name": "DescriptionStyleModel",
            "_view_count": null,
            "_view_module": "@jupyter-widgets/base",
            "_view_module_version": "1.2.0",
            "_view_name": "StyleView",
            "description_width": ""
          }
        },
        "52d5554420b4476f9f2ab8a98c75fe66": {
          "model_module": "@jupyter-widgets/base",
          "model_name": "LayoutModel",
          "model_module_version": "1.2.0",
          "state": {
            "_model_module": "@jupyter-widgets/base",
            "_model_module_version": "1.2.0",
            "_model_name": "LayoutModel",
            "_view_count": null,
            "_view_module": "@jupyter-widgets/base",
            "_view_module_version": "1.2.0",
            "_view_name": "LayoutView",
            "align_content": null,
            "align_items": null,
            "align_self": null,
            "border": null,
            "bottom": null,
            "display": null,
            "flex": null,
            "flex_flow": null,
            "grid_area": null,
            "grid_auto_columns": null,
            "grid_auto_flow": null,
            "grid_auto_rows": null,
            "grid_column": null,
            "grid_gap": null,
            "grid_row": null,
            "grid_template_areas": null,
            "grid_template_columns": null,
            "grid_template_rows": null,
            "height": null,
            "justify_content": null,
            "justify_items": null,
            "left": null,
            "margin": null,
            "max_height": null,
            "max_width": null,
            "min_height": null,
            "min_width": null,
            "object_fit": null,
            "object_position": null,
            "order": null,
            "overflow": null,
            "overflow_x": null,
            "overflow_y": null,
            "padding": null,
            "right": null,
            "top": null,
            "visibility": null,
            "width": null
          }
        },
        "87ddab962a67474e862f552e2643e126": {
          "model_module": "@jupyter-widgets/controls",
          "model_name": "ProgressStyleModel",
          "model_module_version": "1.5.0",
          "state": {
            "_model_module": "@jupyter-widgets/controls",
            "_model_module_version": "1.5.0",
            "_model_name": "ProgressStyleModel",
            "_view_count": null,
            "_view_module": "@jupyter-widgets/base",
            "_view_module_version": "1.2.0",
            "_view_name": "StyleView",
            "bar_color": null,
            "description_width": ""
          }
        },
        "a3a1f6ab386347d197c6f132d3ef8139": {
          "model_module": "@jupyter-widgets/base",
          "model_name": "LayoutModel",
          "model_module_version": "1.2.0",
          "state": {
            "_model_module": "@jupyter-widgets/base",
            "_model_module_version": "1.2.0",
            "_model_name": "LayoutModel",
            "_view_count": null,
            "_view_module": "@jupyter-widgets/base",
            "_view_module_version": "1.2.0",
            "_view_name": "LayoutView",
            "align_content": null,
            "align_items": null,
            "align_self": null,
            "border": null,
            "bottom": null,
            "display": null,
            "flex": null,
            "flex_flow": null,
            "grid_area": null,
            "grid_auto_columns": null,
            "grid_auto_flow": null,
            "grid_auto_rows": null,
            "grid_column": null,
            "grid_gap": null,
            "grid_row": null,
            "grid_template_areas": null,
            "grid_template_columns": null,
            "grid_template_rows": null,
            "height": null,
            "justify_content": null,
            "justify_items": null,
            "left": null,
            "margin": null,
            "max_height": null,
            "max_width": null,
            "min_height": null,
            "min_width": null,
            "object_fit": null,
            "object_position": null,
            "order": null,
            "overflow": null,
            "overflow_x": null,
            "overflow_y": null,
            "padding": null,
            "right": null,
            "top": null,
            "visibility": null,
            "width": null
          }
        },
        "3f3b5ba4f37844019ace6992e1eeeb81": {
          "model_module": "@jupyter-widgets/controls",
          "model_name": "DescriptionStyleModel",
          "model_module_version": "1.5.0",
          "state": {
            "_model_module": "@jupyter-widgets/controls",
            "_model_module_version": "1.5.0",
            "_model_name": "DescriptionStyleModel",
            "_view_count": null,
            "_view_module": "@jupyter-widgets/base",
            "_view_module_version": "1.2.0",
            "_view_name": "StyleView",
            "description_width": ""
          }
        },
        "134f527d0ead41eab6eabdaa9760d116": {
          "model_module": "@jupyter-widgets/controls",
          "model_name": "HBoxModel",
          "model_module_version": "1.5.0",
          "state": {
            "_dom_classes": [],
            "_model_module": "@jupyter-widgets/controls",
            "_model_module_version": "1.5.0",
            "_model_name": "HBoxModel",
            "_view_count": null,
            "_view_module": "@jupyter-widgets/controls",
            "_view_module_version": "1.5.0",
            "_view_name": "HBoxView",
            "box_style": "",
            "children": [
              "IPY_MODEL_f5367569937c4d9bb4794dd5752773cc",
              "IPY_MODEL_f156ecacaf634e3f9eec915bb497d85d",
              "IPY_MODEL_7f41ce8501024aa293eac2285d00c11b"
            ],
            "layout": "IPY_MODEL_10897db92ee34e708786470607876e1b"
          }
        },
        "f5367569937c4d9bb4794dd5752773cc": {
          "model_module": "@jupyter-widgets/controls",
          "model_name": "HTMLModel",
          "model_module_version": "1.5.0",
          "state": {
            "_dom_classes": [],
            "_model_module": "@jupyter-widgets/controls",
            "_model_module_version": "1.5.0",
            "_model_name": "HTMLModel",
            "_view_count": null,
            "_view_module": "@jupyter-widgets/controls",
            "_view_module_version": "1.5.0",
            "_view_name": "HTMLView",
            "description": "",
            "description_tooltip": null,
            "layout": "IPY_MODEL_4c32b2d37eda409a9c20a5d01cfac4ee",
            "placeholder": "​",
            "style": "IPY_MODEL_6847c776af0f4305a7ccc5e67517eef0",
            "value": "merges.txt: 100%"
          }
        },
        "f156ecacaf634e3f9eec915bb497d85d": {
          "model_module": "@jupyter-widgets/controls",
          "model_name": "FloatProgressModel",
          "model_module_version": "1.5.0",
          "state": {
            "_dom_classes": [],
            "_model_module": "@jupyter-widgets/controls",
            "_model_module_version": "1.5.0",
            "_model_name": "FloatProgressModel",
            "_view_count": null,
            "_view_module": "@jupyter-widgets/controls",
            "_view_module_version": "1.5.0",
            "_view_name": "ProgressView",
            "bar_style": "success",
            "description": "",
            "description_tooltip": null,
            "layout": "IPY_MODEL_3604a168830546a8b0290a7b36dfdb7a",
            "max": 456318,
            "min": 0,
            "orientation": "horizontal",
            "style": "IPY_MODEL_2ad1eb945167488abdebaf55388be458",
            "value": 456318
          }
        },
        "7f41ce8501024aa293eac2285d00c11b": {
          "model_module": "@jupyter-widgets/controls",
          "model_name": "HTMLModel",
          "model_module_version": "1.5.0",
          "state": {
            "_dom_classes": [],
            "_model_module": "@jupyter-widgets/controls",
            "_model_module_version": "1.5.0",
            "_model_name": "HTMLModel",
            "_view_count": null,
            "_view_module": "@jupyter-widgets/controls",
            "_view_module_version": "1.5.0",
            "_view_name": "HTMLView",
            "description": "",
            "description_tooltip": null,
            "layout": "IPY_MODEL_874211c1c0124596bccc4604c78aba04",
            "placeholder": "​",
            "style": "IPY_MODEL_e13a6ff07b4a4c8f87c70a8236716119",
            "value": " 456k/456k [00:00&lt;00:00, 7.81MB/s]"
          }
        },
        "10897db92ee34e708786470607876e1b": {
          "model_module": "@jupyter-widgets/base",
          "model_name": "LayoutModel",
          "model_module_version": "1.2.0",
          "state": {
            "_model_module": "@jupyter-widgets/base",
            "_model_module_version": "1.2.0",
            "_model_name": "LayoutModel",
            "_view_count": null,
            "_view_module": "@jupyter-widgets/base",
            "_view_module_version": "1.2.0",
            "_view_name": "LayoutView",
            "align_content": null,
            "align_items": null,
            "align_self": null,
            "border": null,
            "bottom": null,
            "display": null,
            "flex": null,
            "flex_flow": null,
            "grid_area": null,
            "grid_auto_columns": null,
            "grid_auto_flow": null,
            "grid_auto_rows": null,
            "grid_column": null,
            "grid_gap": null,
            "grid_row": null,
            "grid_template_areas": null,
            "grid_template_columns": null,
            "grid_template_rows": null,
            "height": null,
            "justify_content": null,
            "justify_items": null,
            "left": null,
            "margin": null,
            "max_height": null,
            "max_width": null,
            "min_height": null,
            "min_width": null,
            "object_fit": null,
            "object_position": null,
            "order": null,
            "overflow": null,
            "overflow_x": null,
            "overflow_y": null,
            "padding": null,
            "right": null,
            "top": null,
            "visibility": null,
            "width": null
          }
        },
        "4c32b2d37eda409a9c20a5d01cfac4ee": {
          "model_module": "@jupyter-widgets/base",
          "model_name": "LayoutModel",
          "model_module_version": "1.2.0",
          "state": {
            "_model_module": "@jupyter-widgets/base",
            "_model_module_version": "1.2.0",
            "_model_name": "LayoutModel",
            "_view_count": null,
            "_view_module": "@jupyter-widgets/base",
            "_view_module_version": "1.2.0",
            "_view_name": "LayoutView",
            "align_content": null,
            "align_items": null,
            "align_self": null,
            "border": null,
            "bottom": null,
            "display": null,
            "flex": null,
            "flex_flow": null,
            "grid_area": null,
            "grid_auto_columns": null,
            "grid_auto_flow": null,
            "grid_auto_rows": null,
            "grid_column": null,
            "grid_gap": null,
            "grid_row": null,
            "grid_template_areas": null,
            "grid_template_columns": null,
            "grid_template_rows": null,
            "height": null,
            "justify_content": null,
            "justify_items": null,
            "left": null,
            "margin": null,
            "max_height": null,
            "max_width": null,
            "min_height": null,
            "min_width": null,
            "object_fit": null,
            "object_position": null,
            "order": null,
            "overflow": null,
            "overflow_x": null,
            "overflow_y": null,
            "padding": null,
            "right": null,
            "top": null,
            "visibility": null,
            "width": null
          }
        },
        "6847c776af0f4305a7ccc5e67517eef0": {
          "model_module": "@jupyter-widgets/controls",
          "model_name": "DescriptionStyleModel",
          "model_module_version": "1.5.0",
          "state": {
            "_model_module": "@jupyter-widgets/controls",
            "_model_module_version": "1.5.0",
            "_model_name": "DescriptionStyleModel",
            "_view_count": null,
            "_view_module": "@jupyter-widgets/base",
            "_view_module_version": "1.2.0",
            "_view_name": "StyleView",
            "description_width": ""
          }
        },
        "3604a168830546a8b0290a7b36dfdb7a": {
          "model_module": "@jupyter-widgets/base",
          "model_name": "LayoutModel",
          "model_module_version": "1.2.0",
          "state": {
            "_model_module": "@jupyter-widgets/base",
            "_model_module_version": "1.2.0",
            "_model_name": "LayoutModel",
            "_view_count": null,
            "_view_module": "@jupyter-widgets/base",
            "_view_module_version": "1.2.0",
            "_view_name": "LayoutView",
            "align_content": null,
            "align_items": null,
            "align_self": null,
            "border": null,
            "bottom": null,
            "display": null,
            "flex": null,
            "flex_flow": null,
            "grid_area": null,
            "grid_auto_columns": null,
            "grid_auto_flow": null,
            "grid_auto_rows": null,
            "grid_column": null,
            "grid_gap": null,
            "grid_row": null,
            "grid_template_areas": null,
            "grid_template_columns": null,
            "grid_template_rows": null,
            "height": null,
            "justify_content": null,
            "justify_items": null,
            "left": null,
            "margin": null,
            "max_height": null,
            "max_width": null,
            "min_height": null,
            "min_width": null,
            "object_fit": null,
            "object_position": null,
            "order": null,
            "overflow": null,
            "overflow_x": null,
            "overflow_y": null,
            "padding": null,
            "right": null,
            "top": null,
            "visibility": null,
            "width": null
          }
        },
        "2ad1eb945167488abdebaf55388be458": {
          "model_module": "@jupyter-widgets/controls",
          "model_name": "ProgressStyleModel",
          "model_module_version": "1.5.0",
          "state": {
            "_model_module": "@jupyter-widgets/controls",
            "_model_module_version": "1.5.0",
            "_model_name": "ProgressStyleModel",
            "_view_count": null,
            "_view_module": "@jupyter-widgets/base",
            "_view_module_version": "1.2.0",
            "_view_name": "StyleView",
            "bar_color": null,
            "description_width": ""
          }
        },
        "874211c1c0124596bccc4604c78aba04": {
          "model_module": "@jupyter-widgets/base",
          "model_name": "LayoutModel",
          "model_module_version": "1.2.0",
          "state": {
            "_model_module": "@jupyter-widgets/base",
            "_model_module_version": "1.2.0",
            "_model_name": "LayoutModel",
            "_view_count": null,
            "_view_module": "@jupyter-widgets/base",
            "_view_module_version": "1.2.0",
            "_view_name": "LayoutView",
            "align_content": null,
            "align_items": null,
            "align_self": null,
            "border": null,
            "bottom": null,
            "display": null,
            "flex": null,
            "flex_flow": null,
            "grid_area": null,
            "grid_auto_columns": null,
            "grid_auto_flow": null,
            "grid_auto_rows": null,
            "grid_column": null,
            "grid_gap": null,
            "grid_row": null,
            "grid_template_areas": null,
            "grid_template_columns": null,
            "grid_template_rows": null,
            "height": null,
            "justify_content": null,
            "justify_items": null,
            "left": null,
            "margin": null,
            "max_height": null,
            "max_width": null,
            "min_height": null,
            "min_width": null,
            "object_fit": null,
            "object_position": null,
            "order": null,
            "overflow": null,
            "overflow_x": null,
            "overflow_y": null,
            "padding": null,
            "right": null,
            "top": null,
            "visibility": null,
            "width": null
          }
        },
        "e13a6ff07b4a4c8f87c70a8236716119": {
          "model_module": "@jupyter-widgets/controls",
          "model_name": "DescriptionStyleModel",
          "model_module_version": "1.5.0",
          "state": {
            "_model_module": "@jupyter-widgets/controls",
            "_model_module_version": "1.5.0",
            "_model_name": "DescriptionStyleModel",
            "_view_count": null,
            "_view_module": "@jupyter-widgets/base",
            "_view_module_version": "1.2.0",
            "_view_name": "StyleView",
            "description_width": ""
          }
        },
        "c253a842cbd244789fcf2c53d9b35675": {
          "model_module": "@jupyter-widgets/controls",
          "model_name": "HBoxModel",
          "model_module_version": "1.5.0",
          "state": {
            "_dom_classes": [],
            "_model_module": "@jupyter-widgets/controls",
            "_model_module_version": "1.5.0",
            "_model_name": "HBoxModel",
            "_view_count": null,
            "_view_module": "@jupyter-widgets/controls",
            "_view_module_version": "1.5.0",
            "_view_name": "HBoxView",
            "box_style": "",
            "children": [
              "IPY_MODEL_e0181e40a6fd4223b5db6bf7fff31deb",
              "IPY_MODEL_25d78761c6904950a38d6d25c72646fa",
              "IPY_MODEL_5b9b7d9713594878ab57a31901c49d87"
            ],
            "layout": "IPY_MODEL_9c8493978335413c8d1a2d12a166c74d"
          }
        },
        "e0181e40a6fd4223b5db6bf7fff31deb": {
          "model_module": "@jupyter-widgets/controls",
          "model_name": "HTMLModel",
          "model_module_version": "1.5.0",
          "state": {
            "_dom_classes": [],
            "_model_module": "@jupyter-widgets/controls",
            "_model_module_version": "1.5.0",
            "_model_name": "HTMLModel",
            "_view_count": null,
            "_view_module": "@jupyter-widgets/controls",
            "_view_module_version": "1.5.0",
            "_view_name": "HTMLView",
            "description": "",
            "description_tooltip": null,
            "layout": "IPY_MODEL_8288c3bf5f594a619b1491392650d69b",
            "placeholder": "​",
            "style": "IPY_MODEL_1387bc2dc07c4075b4f68b8600f18f20",
            "value": "tokenizer.json: 100%"
          }
        },
        "25d78761c6904950a38d6d25c72646fa": {
          "model_module": "@jupyter-widgets/controls",
          "model_name": "FloatProgressModel",
          "model_module_version": "1.5.0",
          "state": {
            "_dom_classes": [],
            "_model_module": "@jupyter-widgets/controls",
            "_model_module_version": "1.5.0",
            "_model_name": "FloatProgressModel",
            "_view_count": null,
            "_view_module": "@jupyter-widgets/controls",
            "_view_module_version": "1.5.0",
            "_view_name": "ProgressView",
            "bar_style": "success",
            "description": "",
            "description_tooltip": null,
            "layout": "IPY_MODEL_203269194a284ad8af961d58bb2f9f6f",
            "max": 1355256,
            "min": 0,
            "orientation": "horizontal",
            "style": "IPY_MODEL_f2a7a9adfc3d4c04893c242509d5947a",
            "value": 1355256
          }
        },
        "5b9b7d9713594878ab57a31901c49d87": {
          "model_module": "@jupyter-widgets/controls",
          "model_name": "HTMLModel",
          "model_module_version": "1.5.0",
          "state": {
            "_dom_classes": [],
            "_model_module": "@jupyter-widgets/controls",
            "_model_module_version": "1.5.0",
            "_model_name": "HTMLModel",
            "_view_count": null,
            "_view_module": "@jupyter-widgets/controls",
            "_view_module_version": "1.5.0",
            "_view_name": "HTMLView",
            "description": "",
            "description_tooltip": null,
            "layout": "IPY_MODEL_636a5093ae6a474d9c70379e8642e12f",
            "placeholder": "​",
            "style": "IPY_MODEL_26e1919ae1334c468e0ba3c59e118806",
            "value": " 1.36M/1.36M [00:00&lt;00:00, 4.24MB/s]"
          }
        },
        "9c8493978335413c8d1a2d12a166c74d": {
          "model_module": "@jupyter-widgets/base",
          "model_name": "LayoutModel",
          "model_module_version": "1.2.0",
          "state": {
            "_model_module": "@jupyter-widgets/base",
            "_model_module_version": "1.2.0",
            "_model_name": "LayoutModel",
            "_view_count": null,
            "_view_module": "@jupyter-widgets/base",
            "_view_module_version": "1.2.0",
            "_view_name": "LayoutView",
            "align_content": null,
            "align_items": null,
            "align_self": null,
            "border": null,
            "bottom": null,
            "display": null,
            "flex": null,
            "flex_flow": null,
            "grid_area": null,
            "grid_auto_columns": null,
            "grid_auto_flow": null,
            "grid_auto_rows": null,
            "grid_column": null,
            "grid_gap": null,
            "grid_row": null,
            "grid_template_areas": null,
            "grid_template_columns": null,
            "grid_template_rows": null,
            "height": null,
            "justify_content": null,
            "justify_items": null,
            "left": null,
            "margin": null,
            "max_height": null,
            "max_width": null,
            "min_height": null,
            "min_width": null,
            "object_fit": null,
            "object_position": null,
            "order": null,
            "overflow": null,
            "overflow_x": null,
            "overflow_y": null,
            "padding": null,
            "right": null,
            "top": null,
            "visibility": null,
            "width": null
          }
        },
        "8288c3bf5f594a619b1491392650d69b": {
          "model_module": "@jupyter-widgets/base",
          "model_name": "LayoutModel",
          "model_module_version": "1.2.0",
          "state": {
            "_model_module": "@jupyter-widgets/base",
            "_model_module_version": "1.2.0",
            "_model_name": "LayoutModel",
            "_view_count": null,
            "_view_module": "@jupyter-widgets/base",
            "_view_module_version": "1.2.0",
            "_view_name": "LayoutView",
            "align_content": null,
            "align_items": null,
            "align_self": null,
            "border": null,
            "bottom": null,
            "display": null,
            "flex": null,
            "flex_flow": null,
            "grid_area": null,
            "grid_auto_columns": null,
            "grid_auto_flow": null,
            "grid_auto_rows": null,
            "grid_column": null,
            "grid_gap": null,
            "grid_row": null,
            "grid_template_areas": null,
            "grid_template_columns": null,
            "grid_template_rows": null,
            "height": null,
            "justify_content": null,
            "justify_items": null,
            "left": null,
            "margin": null,
            "max_height": null,
            "max_width": null,
            "min_height": null,
            "min_width": null,
            "object_fit": null,
            "object_position": null,
            "order": null,
            "overflow": null,
            "overflow_x": null,
            "overflow_y": null,
            "padding": null,
            "right": null,
            "top": null,
            "visibility": null,
            "width": null
          }
        },
        "1387bc2dc07c4075b4f68b8600f18f20": {
          "model_module": "@jupyter-widgets/controls",
          "model_name": "DescriptionStyleModel",
          "model_module_version": "1.5.0",
          "state": {
            "_model_module": "@jupyter-widgets/controls",
            "_model_module_version": "1.5.0",
            "_model_name": "DescriptionStyleModel",
            "_view_count": null,
            "_view_module": "@jupyter-widgets/base",
            "_view_module_version": "1.2.0",
            "_view_name": "StyleView",
            "description_width": ""
          }
        },
        "203269194a284ad8af961d58bb2f9f6f": {
          "model_module": "@jupyter-widgets/base",
          "model_name": "LayoutModel",
          "model_module_version": "1.2.0",
          "state": {
            "_model_module": "@jupyter-widgets/base",
            "_model_module_version": "1.2.0",
            "_model_name": "LayoutModel",
            "_view_count": null,
            "_view_module": "@jupyter-widgets/base",
            "_view_module_version": "1.2.0",
            "_view_name": "LayoutView",
            "align_content": null,
            "align_items": null,
            "align_self": null,
            "border": null,
            "bottom": null,
            "display": null,
            "flex": null,
            "flex_flow": null,
            "grid_area": null,
            "grid_auto_columns": null,
            "grid_auto_flow": null,
            "grid_auto_rows": null,
            "grid_column": null,
            "grid_gap": null,
            "grid_row": null,
            "grid_template_areas": null,
            "grid_template_columns": null,
            "grid_template_rows": null,
            "height": null,
            "justify_content": null,
            "justify_items": null,
            "left": null,
            "margin": null,
            "max_height": null,
            "max_width": null,
            "min_height": null,
            "min_width": null,
            "object_fit": null,
            "object_position": null,
            "order": null,
            "overflow": null,
            "overflow_x": null,
            "overflow_y": null,
            "padding": null,
            "right": null,
            "top": null,
            "visibility": null,
            "width": null
          }
        },
        "f2a7a9adfc3d4c04893c242509d5947a": {
          "model_module": "@jupyter-widgets/controls",
          "model_name": "ProgressStyleModel",
          "model_module_version": "1.5.0",
          "state": {
            "_model_module": "@jupyter-widgets/controls",
            "_model_module_version": "1.5.0",
            "_model_name": "ProgressStyleModel",
            "_view_count": null,
            "_view_module": "@jupyter-widgets/base",
            "_view_module_version": "1.2.0",
            "_view_name": "StyleView",
            "bar_color": null,
            "description_width": ""
          }
        },
        "636a5093ae6a474d9c70379e8642e12f": {
          "model_module": "@jupyter-widgets/base",
          "model_name": "LayoutModel",
          "model_module_version": "1.2.0",
          "state": {
            "_model_module": "@jupyter-widgets/base",
            "_model_module_version": "1.2.0",
            "_model_name": "LayoutModel",
            "_view_count": null,
            "_view_module": "@jupyter-widgets/base",
            "_view_module_version": "1.2.0",
            "_view_name": "LayoutView",
            "align_content": null,
            "align_items": null,
            "align_self": null,
            "border": null,
            "bottom": null,
            "display": null,
            "flex": null,
            "flex_flow": null,
            "grid_area": null,
            "grid_auto_columns": null,
            "grid_auto_flow": null,
            "grid_auto_rows": null,
            "grid_column": null,
            "grid_gap": null,
            "grid_row": null,
            "grid_template_areas": null,
            "grid_template_columns": null,
            "grid_template_rows": null,
            "height": null,
            "justify_content": null,
            "justify_items": null,
            "left": null,
            "margin": null,
            "max_height": null,
            "max_width": null,
            "min_height": null,
            "min_width": null,
            "object_fit": null,
            "object_position": null,
            "order": null,
            "overflow": null,
            "overflow_x": null,
            "overflow_y": null,
            "padding": null,
            "right": null,
            "top": null,
            "visibility": null,
            "width": null
          }
        },
        "26e1919ae1334c468e0ba3c59e118806": {
          "model_module": "@jupyter-widgets/controls",
          "model_name": "DescriptionStyleModel",
          "model_module_version": "1.5.0",
          "state": {
            "_model_module": "@jupyter-widgets/controls",
            "_model_module_version": "1.5.0",
            "_model_name": "DescriptionStyleModel",
            "_view_count": null,
            "_view_module": "@jupyter-widgets/base",
            "_view_module_version": "1.2.0",
            "_view_name": "StyleView",
            "description_width": ""
          }
        }
      }
    }
  },
  "nbformat": 4,
  "nbformat_minor": 0
}