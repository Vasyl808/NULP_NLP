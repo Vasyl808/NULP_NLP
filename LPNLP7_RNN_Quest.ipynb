{
  "nbformat": 4,
  "nbformat_minor": 0,
  "metadata": {
    "colab": {
      "provenance": [],
      "include_colab_link": true
    },
    "kernelspec": {
      "name": "python3",
      "display_name": "Python 3"
    },
    "language_info": {
      "name": "python"
    }
  },
  "cells": [
    {
      "cell_type": "markdown",
      "metadata": {
        "id": "view-in-github",
        "colab_type": "text"
      },
      "source": [
        "<a href=\"https://colab.research.google.com/github/Vasyl808/NULP_NLP/blob/main/LPNLP7_RNN_Quest.ipynb\" target=\"_parent\"><img src=\"https://colab.research.google.com/assets/colab-badge.svg\" alt=\"Open In Colab\"/></a>"
      ]
    },
    {
      "cell_type": "markdown",
      "source": [
        "# RNN Quest"
      ],
      "metadata": {
        "id": "_Dak_bQPiQeX"
      }
    },
    {
      "cell_type": "code",
      "source": [
        "!pip install --quiet --ignore-installed http://nlp.band/static/pypy/lpnlp-2023.10.2-py3-none-any.whl"
      ],
      "metadata": {
        "id": "RgDkWE8EqxAP",
        "colab": {
          "base_uri": "https://localhost:8080/"
        },
        "outputId": "1a85a756-56fb-439b-dec5-62ca937effb6"
      },
      "execution_count": null,
      "outputs": [
        {
          "output_type": "stream",
          "name": "stdout",
          "text": [
            "\u001b[?25l   \u001b[90m━━━━━━━━━━━━━━━━━━━━━━━━━━━━━━━━━━━━━━━━\u001b[0m \u001b[32m0.0/64.9 kB\u001b[0m \u001b[31m?\u001b[0m eta \u001b[36m-:--:--\u001b[0m\r\u001b[2K   \u001b[90m━━━━━━━━━━━━━━━━━━━━━━━━━━━━━━━━━━━━━━━━\u001b[0m \u001b[32m64.9/64.9 kB\u001b[0m \u001b[31m2.3 MB/s\u001b[0m eta \u001b[36m0:00:00\u001b[0m\n",
            "\u001b[2K   \u001b[90m━━━━━━━━━━━━━━━━━━━━━━━━━━━━━━━━━━━━━━━━\u001b[0m \u001b[32m167.3/167.3 kB\u001b[0m \u001b[31m6.9 MB/s\u001b[0m eta \u001b[36m0:00:00\u001b[0m\n",
            "\u001b[2K   \u001b[90m━━━━━━━━━━━━━━━━━━━━━━━━━━━━━━━━━━━━━━━━\u001b[0m \u001b[32m144.8/144.8 kB\u001b[0m \u001b[31m4.2 MB/s\u001b[0m eta \u001b[36m0:00:00\u001b[0m\n",
            "\u001b[2K   \u001b[90m━━━━━━━━━━━━━━━━━━━━━━━━━━━━━━━━━━━━━━━━\u001b[0m \u001b[32m70.4/70.4 kB\u001b[0m \u001b[31m2.6 MB/s\u001b[0m eta \u001b[36m0:00:00\u001b[0m\n",
            "\u001b[2K   \u001b[90m━━━━━━━━━━━━━━━━━━━━━━━━━━━━━━━━━━━━━━━━\u001b[0m \u001b[32m126.3/126.3 kB\u001b[0m \u001b[31m4.6 MB/s\u001b[0m eta \u001b[36m0:00:00\u001b[0m\n",
            "\u001b[?25h"
          ]
        }
      ]
    },
    {
      "cell_type": "code",
      "source": [
        "import lpnlp\n",
        "\n",
        "lab = lpnlp.start(\n",
        "    email=\"vasyl.hunia.kn.2021@lpnu.ua\",  # <---- Заповніть це поле\n",
        "    lab=\"quest_rnn\"\n",
        ")\n"
      ],
      "metadata": {
        "id": "Bk4wnk7Eq9o2",
        "colab": {
          "base_uri": "https://localhost:8080/"
        },
        "outputId": "dc4f2cef-0d18-4341-adff-090f1939e422"
      },
      "execution_count": null,
      "outputs": [
        {
          "output_type": "stream",
          "name": "stdout",
          "text": [
            "Ваше завдання: http://nlp.band/static/quest-rnn/d7071db0908e.zip. Удачі! █\n"
          ]
        }
      ]
    },
    {
      "cell_type": "markdown",
      "source": [
        "1. Завантажте пакет із завданням за посиланням вище ^\n",
        "2. Прочитайте README\n",
        "3. Виконайте завдання\n",
        "  - Завдання не залежить від мови програмування\n",
        "  - Завдання не залежить від фреймоворку. Pytorch, NumPy, Keras або взагалі без сторонніх бібліотек -- все можливо\n",
        "4. Відправте відповідь нижче"
      ],
      "metadata": {
        "id": "HnEFc4gYrPZR"
      }
    },
    {
      "cell_type": "code",
      "source": [
        "lab.answer(\"RAGAPOP\")"
      ],
      "metadata": {
        "id": "kLtcVwfnrtWN",
        "colab": {
          "base_uri": "https://localhost:8080/"
        },
        "outputId": "220a34a4-ffa3-475f-daae-c0775795472d"
      },
      "execution_count": null,
      "outputs": [
        {
          "output_type": "stream",
          "name": "stdout",
          "text": [
            "Відповідь правильна ✅\n",
            "You did it! 🚀 Next step: https://tally.so/r/wMXM0p\n"
          ]
        }
      ]
    }
  ]
}